{
 "cells": [
  {
   "cell_type": "code",
   "execution_count": 1,
   "metadata": {},
   "outputs": [],
   "source": [
    "import pandas as pd"
   ]
  },
  {
   "cell_type": "code",
   "execution_count": 2,
   "metadata": {},
   "outputs": [
    {
     "data": {
      "text/html": [
       "<div>\n",
       "<style scoped>\n",
       "    .dataframe tbody tr th:only-of-type {\n",
       "        vertical-align: middle;\n",
       "    }\n",
       "\n",
       "    .dataframe tbody tr th {\n",
       "        vertical-align: top;\n",
       "    }\n",
       "\n",
       "    .dataframe thead th {\n",
       "        text-align: right;\n",
       "    }\n",
       "</style>\n",
       "<table border=\"1\" class=\"dataframe\">\n",
       "  <thead>\n",
       "    <tr style=\"text-align: right;\">\n",
       "      <th></th>\n",
       "      <th>id</th>\n",
       "      <th>annotations</th>\n",
       "      <th>file_upload</th>\n",
       "      <th>drafts</th>\n",
       "      <th>predictions</th>\n",
       "      <th>data</th>\n",
       "      <th>meta</th>\n",
       "      <th>created_at</th>\n",
       "      <th>updated_at</th>\n",
       "      <th>inner_id</th>\n",
       "      <th>total_annotations</th>\n",
       "      <th>cancelled_annotations</th>\n",
       "      <th>total_predictions</th>\n",
       "      <th>comment_count</th>\n",
       "      <th>unresolved_comment_count</th>\n",
       "      <th>last_comment_updated_at</th>\n",
       "      <th>project</th>\n",
       "      <th>updated_by</th>\n",
       "      <th>comment_authors</th>\n",
       "    </tr>\n",
       "  </thead>\n",
       "  <tbody>\n",
       "    <tr>\n",
       "      <th>0</th>\n",
       "      <td>4702</td>\n",
       "      <td>[{'id': 17, 'completed_by': 1, 'result': [{'va...</td>\n",
       "      <td>17085618-temp_head_labeling_bool_as_str.csv</td>\n",
       "      <td>[]</td>\n",
       "      <td>[]</td>\n",
       "      <td>{'question': 'How many years did Art Carney as...</td>\n",
       "      <td>{}</td>\n",
       "      <td>2025-02-11 11:45:36.869253+00:00</td>\n",
       "      <td>2025-02-11 11:46:20.843612+00:00</td>\n",
       "      <td>1</td>\n",
       "      <td>1</td>\n",
       "      <td>0</td>\n",
       "      <td>0</td>\n",
       "      <td>0</td>\n",
       "      <td>0</td>\n",
       "      <td>NaT</td>\n",
       "      <td>3</td>\n",
       "      <td>1</td>\n",
       "      <td>[]</td>\n",
       "    </tr>\n",
       "    <tr>\n",
       "      <th>1</th>\n",
       "      <td>4703</td>\n",
       "      <td>[{'id': 18, 'completed_by': 1, 'result': [{'va...</td>\n",
       "      <td>17085618-temp_head_labeling_bool_as_str.csv</td>\n",
       "      <td>[]</td>\n",
       "      <td>[]</td>\n",
       "      <td>{'question': 'How many total years was Art Car...</td>\n",
       "      <td>{}</td>\n",
       "      <td>2025-02-11 11:45:36.869297+00:00</td>\n",
       "      <td>2025-02-11 11:46:24.061761+00:00</td>\n",
       "      <td>2</td>\n",
       "      <td>1</td>\n",
       "      <td>0</td>\n",
       "      <td>0</td>\n",
       "      <td>0</td>\n",
       "      <td>0</td>\n",
       "      <td>NaT</td>\n",
       "      <td>3</td>\n",
       "      <td>1</td>\n",
       "      <td>[]</td>\n",
       "    </tr>\n",
       "    <tr>\n",
       "      <th>2</th>\n",
       "      <td>4704</td>\n",
       "      <td>[{'id': 19, 'completed_by': 1, 'result': [], '...</td>\n",
       "      <td>17085618-temp_head_labeling_bool_as_str.csv</td>\n",
       "      <td>[]</td>\n",
       "      <td>[]</td>\n",
       "      <td>{'question': 'Which spouse was Art Carney marr...</td>\n",
       "      <td>{}</td>\n",
       "      <td>2025-02-11 11:45:36.869325+00:00</td>\n",
       "      <td>2025-02-11 11:46:34.905627+00:00</td>\n",
       "      <td>3</td>\n",
       "      <td>0</td>\n",
       "      <td>1</td>\n",
       "      <td>0</td>\n",
       "      <td>0</td>\n",
       "      <td>0</td>\n",
       "      <td>NaT</td>\n",
       "      <td>3</td>\n",
       "      <td>1</td>\n",
       "      <td>[]</td>\n",
       "    </tr>\n",
       "    <tr>\n",
       "      <th>3</th>\n",
       "      <td>4705</td>\n",
       "      <td>[{'id': 20, 'completed_by': 1, 'result': [{'va...</td>\n",
       "      <td>17085618-temp_head_labeling_bool_as_str.csv</td>\n",
       "      <td>[]</td>\n",
       "      <td>[]</td>\n",
       "      <td>{'question': 'How many years before he died wa...</td>\n",
       "      <td>{}</td>\n",
       "      <td>2025-02-11 11:45:36.869349+00:00</td>\n",
       "      <td>2025-02-11 11:46:54.025841+00:00</td>\n",
       "      <td>4</td>\n",
       "      <td>1</td>\n",
       "      <td>0</td>\n",
       "      <td>0</td>\n",
       "      <td>0</td>\n",
       "      <td>0</td>\n",
       "      <td>NaT</td>\n",
       "      <td>3</td>\n",
       "      <td>1</td>\n",
       "      <td>[]</td>\n",
       "    </tr>\n",
       "    <tr>\n",
       "      <th>4</th>\n",
       "      <td>4706</td>\n",
       "      <td>[{'id': 21, 'completed_by': 1, 'result': [{'va...</td>\n",
       "      <td>17085618-temp_head_labeling_bool_as_str.csv</td>\n",
       "      <td>[]</td>\n",
       "      <td>[]</td>\n",
       "      <td>{'question': 'How old was Art Carney when he f...</td>\n",
       "      <td>{}</td>\n",
       "      <td>2025-02-11 11:45:36.869376+00:00</td>\n",
       "      <td>2025-02-11 11:46:56.820767+00:00</td>\n",
       "      <td>5</td>\n",
       "      <td>1</td>\n",
       "      <td>0</td>\n",
       "      <td>0</td>\n",
       "      <td>0</td>\n",
       "      <td>0</td>\n",
       "      <td>NaT</td>\n",
       "      <td>3</td>\n",
       "      <td>1</td>\n",
       "      <td>[]</td>\n",
       "    </tr>\n",
       "  </tbody>\n",
       "</table>\n",
       "</div>"
      ],
      "text/plain": [
       "     id                                        annotations  \\\n",
       "0  4702  [{'id': 17, 'completed_by': 1, 'result': [{'va...   \n",
       "1  4703  [{'id': 18, 'completed_by': 1, 'result': [{'va...   \n",
       "2  4704  [{'id': 19, 'completed_by': 1, 'result': [], '...   \n",
       "3  4705  [{'id': 20, 'completed_by': 1, 'result': [{'va...   \n",
       "4  4706  [{'id': 21, 'completed_by': 1, 'result': [{'va...   \n",
       "\n",
       "                                   file_upload drafts predictions  \\\n",
       "0  17085618-temp_head_labeling_bool_as_str.csv     []          []   \n",
       "1  17085618-temp_head_labeling_bool_as_str.csv     []          []   \n",
       "2  17085618-temp_head_labeling_bool_as_str.csv     []          []   \n",
       "3  17085618-temp_head_labeling_bool_as_str.csv     []          []   \n",
       "4  17085618-temp_head_labeling_bool_as_str.csv     []          []   \n",
       "\n",
       "                                                data meta  \\\n",
       "0  {'question': 'How many years did Art Carney as...   {}   \n",
       "1  {'question': 'How many total years was Art Car...   {}   \n",
       "2  {'question': 'Which spouse was Art Carney marr...   {}   \n",
       "3  {'question': 'How many years before he died wa...   {}   \n",
       "4  {'question': 'How old was Art Carney when he f...   {}   \n",
       "\n",
       "                        created_at                       updated_at  inner_id  \\\n",
       "0 2025-02-11 11:45:36.869253+00:00 2025-02-11 11:46:20.843612+00:00         1   \n",
       "1 2025-02-11 11:45:36.869297+00:00 2025-02-11 11:46:24.061761+00:00         2   \n",
       "2 2025-02-11 11:45:36.869325+00:00 2025-02-11 11:46:34.905627+00:00         3   \n",
       "3 2025-02-11 11:45:36.869349+00:00 2025-02-11 11:46:54.025841+00:00         4   \n",
       "4 2025-02-11 11:45:36.869376+00:00 2025-02-11 11:46:56.820767+00:00         5   \n",
       "\n",
       "   total_annotations  cancelled_annotations  total_predictions  comment_count  \\\n",
       "0                  1                      0                  0              0   \n",
       "1                  1                      0                  0              0   \n",
       "2                  0                      1                  0              0   \n",
       "3                  1                      0                  0              0   \n",
       "4                  1                      0                  0              0   \n",
       "\n",
       "   unresolved_comment_count last_comment_updated_at  project  updated_by  \\\n",
       "0                         0                     NaT        3           1   \n",
       "1                         0                     NaT        3           1   \n",
       "2                         0                     NaT        3           1   \n",
       "3                         0                     NaT        3           1   \n",
       "4                         0                     NaT        3           1   \n",
       "\n",
       "  comment_authors  \n",
       "0              []  \n",
       "1              []  \n",
       "2              []  \n",
       "3              []  \n",
       "4              []  "
      ]
     },
     "execution_count": 2,
     "metadata": {},
     "output_type": "execute_result"
    }
   ],
   "source": [
    "annotations = pd.read_json(\"temp_head_labeling_label_studio_2025-02-11-17-05-e95fdb59.json\", orient=\"records\")\n",
    "annotations.head()"
   ]
  },
  {
   "cell_type": "code",
   "execution_count": 3,
   "metadata": {},
   "outputs": [],
   "source": [
    "annotations = annotations.loc[:, [\"annotations\", \"data\"]]"
   ]
  },
  {
   "cell_type": "code",
   "execution_count": 4,
   "metadata": {},
   "outputs": [
    {
     "data": {
      "text/plain": [
       "{'question': 'How many years did Art Carney as actor since 1939?',\n",
       " 'answer': '54 Years',\n",
       " 'table_id': 2,\n",
       " 'answer_type': 'TEMPORAL',\n",
       " 'is_temporal': 'Is temporal'}"
      ]
     },
     "execution_count": 4,
     "metadata": {},
     "output_type": "execute_result"
    }
   ],
   "source": [
    "annotations[\"data\"].iloc[0]"
   ]
  },
  {
   "cell_type": "code",
   "execution_count": 5,
   "metadata": {},
   "outputs": [],
   "source": [
    "data_columns = list(annotations[\"data\"].iloc[0].keys())"
   ]
  },
  {
   "cell_type": "code",
   "execution_count": 6,
   "metadata": {},
   "outputs": [
    {
     "data": {
      "text/plain": [
       "{'question': <function __main__.<dictcomp>.<lambda>(x)>,\n",
       " 'answer': <function __main__.<dictcomp>.<lambda>(x)>,\n",
       " 'table_id': <function __main__.<dictcomp>.<lambda>(x)>,\n",
       " 'answer_type': <function __main__.<dictcomp>.<lambda>(x)>,\n",
       " 'is_temporal': <function __main__.<dictcomp>.<lambda>(x)>}"
      ]
     },
     "execution_count": 6,
     "metadata": {},
     "output_type": "execute_result"
    }
   ],
   "source": [
    "{key: lambda x: x[\"data\"].apply(lambda y: y[key]) for key in data_columns}"
   ]
  },
  {
   "cell_type": "code",
   "execution_count": 7,
   "metadata": {},
   "outputs": [
    {
     "data": {
      "text/html": [
       "<div>\n",
       "<style scoped>\n",
       "    .dataframe tbody tr th:only-of-type {\n",
       "        vertical-align: middle;\n",
       "    }\n",
       "\n",
       "    .dataframe tbody tr th {\n",
       "        vertical-align: top;\n",
       "    }\n",
       "\n",
       "    .dataframe thead th {\n",
       "        text-align: right;\n",
       "    }\n",
       "</style>\n",
       "<table border=\"1\" class=\"dataframe\">\n",
       "  <thead>\n",
       "    <tr style=\"text-align: right;\">\n",
       "      <th></th>\n",
       "      <th>annotations</th>\n",
       "      <th>question</th>\n",
       "      <th>answer</th>\n",
       "      <th>table_id</th>\n",
       "      <th>answer_type</th>\n",
       "      <th>is_temporal</th>\n",
       "    </tr>\n",
       "  </thead>\n",
       "  <tbody>\n",
       "    <tr>\n",
       "      <th>0</th>\n",
       "      <td>[{'id': 17, 'completed_by': 1, 'result': [{'va...</td>\n",
       "      <td>How many years did Art Carney as actor since 1...</td>\n",
       "      <td>54 Years</td>\n",
       "      <td>2</td>\n",
       "      <td>TEMPORAL</td>\n",
       "      <td>Is temporal</td>\n",
       "    </tr>\n",
       "    <tr>\n",
       "      <th>1</th>\n",
       "      <td>[{'id': 18, 'completed_by': 1, 'result': [{'va...</td>\n",
       "      <td>How many total years was Art Carney married to...</td>\n",
       "      <td>28 years</td>\n",
       "      <td>2</td>\n",
       "      <td>TEMPORAL</td>\n",
       "      <td>Is temporal</td>\n",
       "    </tr>\n",
       "    <tr>\n",
       "      <th>2</th>\n",
       "      <td>[{'id': 19, 'completed_by': 1, 'result': [], '...</td>\n",
       "      <td>Which spouse was Art Carney married to the least?</td>\n",
       "      <td>Barbara Isaac</td>\n",
       "      <td>2</td>\n",
       "      <td>UNKNOWN</td>\n",
       "      <td>Not temporal</td>\n",
       "    </tr>\n",
       "    <tr>\n",
       "      <th>3</th>\n",
       "      <td>[{'id': 20, 'completed_by': 1, 'result': [{'va...</td>\n",
       "      <td>How many years before he died was Art Carney m...</td>\n",
       "      <td>23</td>\n",
       "      <td>2</td>\n",
       "      <td>COUNT</td>\n",
       "      <td>Is temporal</td>\n",
       "    </tr>\n",
       "    <tr>\n",
       "      <th>4</th>\n",
       "      <td>[{'id': 21, 'completed_by': 1, 'result': [{'va...</td>\n",
       "      <td>How old was Art Carney when he first got divor...</td>\n",
       "      <td>47</td>\n",
       "      <td>2</td>\n",
       "      <td>AGE</td>\n",
       "      <td>Is temporal</td>\n",
       "    </tr>\n",
       "  </tbody>\n",
       "</table>\n",
       "</div>"
      ],
      "text/plain": [
       "                                         annotations  \\\n",
       "0  [{'id': 17, 'completed_by': 1, 'result': [{'va...   \n",
       "1  [{'id': 18, 'completed_by': 1, 'result': [{'va...   \n",
       "2  [{'id': 19, 'completed_by': 1, 'result': [], '...   \n",
       "3  [{'id': 20, 'completed_by': 1, 'result': [{'va...   \n",
       "4  [{'id': 21, 'completed_by': 1, 'result': [{'va...   \n",
       "\n",
       "                                            question         answer  table_id  \\\n",
       "0  How many years did Art Carney as actor since 1...       54 Years         2   \n",
       "1  How many total years was Art Carney married to...       28 years         2   \n",
       "2  Which spouse was Art Carney married to the least?  Barbara Isaac         2   \n",
       "3  How many years before he died was Art Carney m...             23         2   \n",
       "4  How old was Art Carney when he first got divor...             47         2   \n",
       "\n",
       "  answer_type   is_temporal  \n",
       "0    TEMPORAL   Is temporal  \n",
       "1    TEMPORAL   Is temporal  \n",
       "2     UNKNOWN  Not temporal  \n",
       "3       COUNT   Is temporal  \n",
       "4         AGE   Is temporal  "
      ]
     },
     "execution_count": 7,
     "metadata": {},
     "output_type": "execute_result"
    }
   ],
   "source": [
    "# Add key to avoid gotcha from lambda that causes late-binding closure \n",
    "# where the key variable is bound at execution not at definition time. \n",
    "annotations = annotations.assign(\n",
    "    **{key: lambda x, k=key: x[\"data\"].apply(lambda y: y[k]) for key in data_columns}\n",
    ").drop(columns=\"data\")\n",
    "annotations.head()"
   ]
  },
  {
   "cell_type": "code",
   "execution_count": 8,
   "metadata": {},
   "outputs": [
    {
     "data": {
      "text/plain": [
       "'true'"
      ]
     },
     "execution_count": 8,
     "metadata": {},
     "output_type": "execute_result"
    }
   ],
   "source": [
    "annotations[\"annotations\"].iloc[0][0][\"result\"][0][\"value\"][\"choices\"][0]"
   ]
  },
  {
   "cell_type": "code",
   "execution_count": 9,
   "metadata": {},
   "outputs": [],
   "source": [
    "# Extract content from very deeply nested JSON\n",
    "annotations = annotations.assign(annotations=lambda x: x[\"annotations\"].apply(lambda y: y[0][\"result\"]))"
   ]
  },
  {
   "cell_type": "code",
   "execution_count": 10,
   "metadata": {},
   "outputs": [
    {
     "data": {
      "text/html": [
       "<div>\n",
       "<style scoped>\n",
       "    .dataframe tbody tr th:only-of-type {\n",
       "        vertical-align: middle;\n",
       "    }\n",
       "\n",
       "    .dataframe tbody tr th {\n",
       "        vertical-align: top;\n",
       "    }\n",
       "\n",
       "    .dataframe thead th {\n",
       "        text-align: right;\n",
       "    }\n",
       "</style>\n",
       "<table border=\"1\" class=\"dataframe\">\n",
       "  <thead>\n",
       "    <tr style=\"text-align: right;\">\n",
       "      <th></th>\n",
       "      <th>question</th>\n",
       "      <th>answer</th>\n",
       "      <th>table_id</th>\n",
       "      <th>answer_type</th>\n",
       "      <th>is_temporal</th>\n",
       "      <th>temporal_class_correct</th>\n",
       "    </tr>\n",
       "  </thead>\n",
       "  <tbody>\n",
       "    <tr>\n",
       "      <th>0</th>\n",
       "      <td>How many years did Art Carney as actor since 1...</td>\n",
       "      <td>54 Years</td>\n",
       "      <td>2</td>\n",
       "      <td>TEMPORAL</td>\n",
       "      <td>Is temporal</td>\n",
       "      <td>true</td>\n",
       "    </tr>\n",
       "    <tr>\n",
       "      <th>1</th>\n",
       "      <td>How many total years was Art Carney married to...</td>\n",
       "      <td>28 years</td>\n",
       "      <td>2</td>\n",
       "      <td>TEMPORAL</td>\n",
       "      <td>Is temporal</td>\n",
       "      <td>true</td>\n",
       "    </tr>\n",
       "    <tr>\n",
       "      <th>2</th>\n",
       "      <td>Which spouse was Art Carney married to the least?</td>\n",
       "      <td>Barbara Isaac</td>\n",
       "      <td>2</td>\n",
       "      <td>UNKNOWN</td>\n",
       "      <td>Not temporal</td>\n",
       "      <td>[]</td>\n",
       "    </tr>\n",
       "    <tr>\n",
       "      <th>3</th>\n",
       "      <td>How many years before he died was Art Carney m...</td>\n",
       "      <td>23</td>\n",
       "      <td>2</td>\n",
       "      <td>COUNT</td>\n",
       "      <td>Is temporal</td>\n",
       "      <td>true</td>\n",
       "    </tr>\n",
       "    <tr>\n",
       "      <th>4</th>\n",
       "      <td>How old was Art Carney when he first got divor...</td>\n",
       "      <td>47</td>\n",
       "      <td>2</td>\n",
       "      <td>AGE</td>\n",
       "      <td>Is temporal</td>\n",
       "      <td>true</td>\n",
       "    </tr>\n",
       "  </tbody>\n",
       "</table>\n",
       "</div>"
      ],
      "text/plain": [
       "                                            question         answer  table_id  \\\n",
       "0  How many years did Art Carney as actor since 1...       54 Years         2   \n",
       "1  How many total years was Art Carney married to...       28 years         2   \n",
       "2  Which spouse was Art Carney married to the least?  Barbara Isaac         2   \n",
       "3  How many years before he died was Art Carney m...             23         2   \n",
       "4  How old was Art Carney when he first got divor...             47         2   \n",
       "\n",
       "  answer_type   is_temporal temporal_class_correct  \n",
       "0    TEMPORAL   Is temporal                   true  \n",
       "1    TEMPORAL   Is temporal                   true  \n",
       "2     UNKNOWN  Not temporal                     []  \n",
       "3       COUNT   Is temporal                   true  \n",
       "4         AGE   Is temporal                   true  "
      ]
     },
     "execution_count": 10,
     "metadata": {},
     "output_type": "execute_result"
    }
   ],
   "source": [
    "annotations = annotations.assign(\n",
    "    temporal_class_correct=lambda x: x[\"annotations\"].apply(\n",
    "        lambda y: y[0][\"value\"][\"choices\"][0] if len(y) else y\n",
    "    )\n",
    ").drop(columns=\"annotations\")\n",
    "annotations.head()"
   ]
  },
  {
   "cell_type": "code",
   "execution_count": 11,
   "metadata": {},
   "outputs": [
    {
     "data": {
      "text/plain": [
       "2       []\n",
       "1058    []\n",
       "Name: temporal_class_correct, dtype: object"
      ]
     },
     "execution_count": 11,
     "metadata": {},
     "output_type": "execute_result"
    }
   ],
   "source": [
    "annotations.loc[annotations.loc[:, \"temporal_class_correct\"].str.len()==0, \"temporal_class_correct\"]"
   ]
  },
  {
   "cell_type": "code",
   "execution_count": 12,
   "metadata": {},
   "outputs": [],
   "source": [
    "annotations.loc[annotations.loc[:, \"temporal_class_correct\"].str.len()==0, \"temporal_class_correct\"] = \"true\""
   ]
  },
  {
   "cell_type": "code",
   "execution_count": 13,
   "metadata": {},
   "outputs": [
    {
     "data": {
      "text/plain": [
       "array(['Is temporal'], dtype=object)"
      ]
     },
     "execution_count": 13,
     "metadata": {},
     "output_type": "execute_result"
    }
   ],
   "source": [
    "# All pre-labeled questions that are wrong are \"Is temporal\". \n",
    "# Reason being that I already had corrected the \"Not temporal\" in Excel manually.\n",
    "annotations.loc[annotations.loc[:, \"temporal_class_correct\"] == \"false\", \"is_temporal\"].unique()"
   ]
  },
  {
   "cell_type": "code",
   "execution_count": 14,
   "metadata": {},
   "outputs": [],
   "source": [
    "annotations.loc[annotations.loc[:, \"temporal_class_correct\"] == \"false\", \"is_temporal\"] = \"Not temporal\"\n",
    "annotations = annotations.drop(columns=\"temporal_class_correct\").query(\"is_temporal == 'Is temporal'\")"
   ]
  },
  {
   "cell_type": "code",
   "execution_count": 37,
   "metadata": {},
   "outputs": [
    {
     "data": {
      "text/plain": [
       "question\n",
       "(when, was, the)        61\n",
       "(what, was, the)        43\n",
       "(what, is, the)         11\n",
       "(when, did, the)         7\n",
       "(how, long, was)         4\n",
       "                        ..\n",
       "(around, what, year)     1\n",
       "(if, mars, express)      1\n",
       "(how, much, time)        1\n",
       "(what, was, art)         1\n",
       "(when, did, sri)         1\n",
       "Name: count, Length: 97, dtype: int64"
      ]
     },
     "execution_count": 37,
     "metadata": {},
     "output_type": "execute_result"
    }
   ],
   "source": [
    "# Identify question and answers where the expected answer is pretty clear\n",
    "annotations.query(\n",
    "    \"~answer.str.lower().str.contains('year') \"\n",
    "    \"and ~answer.str.lower().str.contains('month') \"\n",
    "    \"and ~answer.str.lower().str.contains('days') \"\n",
    "    \"and ~question.str.lower().str.startswith('how many years') \"\n",
    "    \"and ~question.str.lower().str.startswith('for how many years') \"\n",
    "    \"and ~question.str.lower().str.startswith('how old was') \"\n",
    "    \"and ~question.str.lower().str.startswith('at what age') \"\n",
    "    \"and ~question.str.lower().str.startswith('what year did') \"\n",
    "    \"and ~question.str.lower().str.startswith('what year was') \"\n",
    "    \"and ~question.str.lower().str.startswith('how many months') \"\n",
    "    \"and ~question.str.lower().str.startswith('in what year') \"\n",
    "    \"and ~question.str.lower().str.startswith('how many days') \"\n",
    "    \"and ~question.str.lower().str.startswith('what was age') \"\n",
    "    \"and ~question.str.lower().str.startswith('which year is') \"\n",
    ").loc[:, \"question\"].str.lower().str.split().apply(lambda x: tuple(x[:3])).value_counts()"
   ]
  },
  {
   "cell_type": "code",
   "execution_count": 34,
   "metadata": {},
   "outputs": [
    {
     "data": {
      "text/plain": [
       "581     Which year is founded of Ambassadors Group, Inc?\n",
       "612                           Which year is last launch?\n",
       "613                          Which year is first launch?\n",
       "1042         Which year is opened of Delaware Extension?\n",
       "1044         Which year is closed of Delaware Extension?\n",
       "Name: question, dtype: object"
      ]
     },
     "execution_count": 34,
     "metadata": {},
     "output_type": "execute_result"
    }
   ],
   "source": [
    "annotations.query(\n",
    "    \"question.str.lower().str.startswith('which year is') \"\n",
    "\n",
    ").loc[:, \"question\"]#.str.lower().str.split().apply(lambda x: tuple(x[:3])).value_counts()"
   ]
  },
  {
   "cell_type": "code",
   "execution_count": null,
   "metadata": {},
   "outputs": [],
   "source": []
  }
 ],
 "metadata": {
  "kernelspec": {
   "display_name": ".venv",
   "language": "python",
   "name": "python3"
  },
  "language_info": {
   "codemirror_mode": {
    "name": "ipython",
    "version": 3
   },
   "file_extension": ".py",
   "mimetype": "text/x-python",
   "name": "python",
   "nbconvert_exporter": "python",
   "pygments_lexer": "ipython3",
   "version": "3.10.16"
  }
 },
 "nbformat": 4,
 "nbformat_minor": 2
}
