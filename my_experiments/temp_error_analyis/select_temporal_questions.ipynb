{
 "cells": [
  {
   "cell_type": "markdown",
   "metadata": {},
   "source": [
    "# Filter temporal answers\n",
    "\n",
    "To conduct temporal error analysis, I need to focus on expected answers that are temporal, e.g., dates, times, or durations.\n",
    "\n",
    "## Remove non-temporal answer types using author's script\n",
    "From the head dataset, I remove non-temporal questions. An in depth analysis can be found in a [quarto report](../quarto_reports/temporal_eval.qmd). Basically, I used a script of the authors that classified answer types. In the quarto report, I double checked if the removed answer types are indeed not temporal. They were indeed non-temporal."
   ]
  },
  {
   "cell_type": "code",
   "execution_count": 24,
   "metadata": {},
   "outputs": [
    {
     "data": {
      "text/plain": [
       "(1567, 4)"
      ]
     },
     "execution_count": 24,
     "metadata": {},
     "output_type": "execute_result"
    }
   ],
   "source": [
    "import pandas as pd\n",
    "\n",
    "answer_types_to_drop = [\n",
    "    \"PERSON\",\n",
    "    \"ORGANIZATION\",\n",
    "    \"PLACE\",\n",
    "    \"YES/NO\",\n",
    "    \"PERCENTAGE\",\n",
    "    \"MONEY\",\n",
    "    \"PRODUCT\",\n",
    "    \"ORDINAL\",\n",
    "]\n",
    "head_dataset = (\n",
    "    pd.read_csv(\"../../data/maindata/qapairs/head-set/head-set_analysis.csv\")\n",
    "    .loc[:, [\"question\", \"answer\", \"table_id\", \"answer_type\"]]\n",
    "    .query(\"~answer_type.isin(@answer_types_to_drop)\")\n",
    ")\n",
    "head_dataset.shape"
   ]
  },
  {
   "cell_type": "code",
   "execution_count": 28,
   "metadata": {},
   "outputs": [],
   "source": [
    "prob_temp = head_dataset.query(\n",
    "    \"answer.str.lower().str.contains('year') \"\n",
    "    \"or answer.str.lower().str.contains('month') \"\n",
    "    \"or answer.str.lower().str.contains('day') \"\n",
    "    \"or question.str.lower().str.contains('when') \"\n",
    "    \"or question.str.lower().str.contains('year') \"\n",
    "    \"or question.str.lower().str.contains('what age')\"\n",
    "    \"or question.str.lower().str.contains('how long')\"\n",
    "    \"or question.str.lower().str.contains('how many days')\"\n",
    "    \"or question.str.lower().str.contains('how many full months')\"\n",
    "    \"or question.str.lower().str.contains('how many months')\"\n",
    "    \"or question.str.lower().str.contains('what is the date')\"\n",
    "    \"or question.str.lower().str.contains('what was the opening date')\" \n",
    "    \"or question.str.lower().str.contains('what was the release date')\"  \n",
    "    \"or question.str.lower().str.contains('what was the time span')\"  \n",
    "    \"or question.str.lower().str.contains('if mars express begins')\"\n",
    ")"
   ]
  },
  {
   "cell_type": "code",
   "execution_count": 36,
   "metadata": {},
   "outputs": [],
   "source": [
    "head_dataset.loc[: , \"is_temporal\"] = False\n",
    "head_dataset.loc[prob_temp.index, \"is_temporal\"] = True"
   ]
  },
  {
   "cell_type": "code",
   "execution_count": 39,
   "metadata": {},
   "outputs": [],
   "source": [
    "head_dataset.to_csv(\"temp_head_labeling.csv\", index=False)"
   ]
  },
  {
   "cell_type": "code",
   "execution_count": null,
   "metadata": {},
   "outputs": [],
   "source": []
  }
 ],
 "metadata": {
  "kernelspec": {
   "display_name": ".venv",
   "language": "python",
   "name": "python3"
  },
  "language_info": {
   "codemirror_mode": {
    "name": "ipython",
    "version": 3
   },
   "file_extension": ".py",
   "mimetype": "text/x-python",
   "name": "python",
   "nbconvert_exporter": "python",
   "pygments_lexer": "ipython3",
   "version": "3.10.15"
  }
 },
 "nbformat": 4,
 "nbformat_minor": 2
}
