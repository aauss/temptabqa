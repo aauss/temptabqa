{
 "cells": [
  {
   "cell_type": "code",
   "execution_count": 1,
   "metadata": {},
   "outputs": [
    {
     "name": "stderr",
     "output_type": "stream",
     "text": [
      "/mnt/nas_home/aa2613/temptabqa/.venv/lib/python3.10/site-packages/transformers/utils/generic.py:441: FutureWarning: `torch.utils._pytree._register_pytree_node` is deprecated. Please use `torch.utils._pytree.register_pytree_node` instead.\n",
      "  _torch_pytree._register_pytree_node(\n",
      "/mnt/nas_home/aa2613/temptabqa/.venv/lib/python3.10/site-packages/transformers/utils/generic.py:309: FutureWarning: `torch.utils._pytree._register_pytree_node` is deprecated. Please use `torch.utils._pytree.register_pytree_node` instead.\n",
      "  _torch_pytree._register_pytree_node(\n"
     ]
    }
   ],
   "source": [
    "import pandas as pd\n",
    "import evaluate\n",
    "# from eval_csv import *"
   ]
  },
  {
   "cell_type": "code",
   "execution_count": 50,
   "metadata": {},
   "outputs": [],
   "source": [
    "df = pd.read_csv(\"llama2_own_CoT.csv\")"
   ]
  },
  {
   "cell_type": "code",
   "execution_count": 51,
   "metadata": {},
   "outputs": [
    {
     "data": {
      "text/plain": [
       "(885, 5)"
      ]
     },
     "execution_count": 51,
     "metadata": {},
     "output_type": "execute_result"
    }
   ],
   "source": [
    "df.shape"
   ]
  },
  {
   "cell_type": "code",
   "execution_count": null,
   "metadata": {},
   "outputs": [
    {
     "data": {
      "text/plain": [
       "[\"  Sure, I'd be happy to help! Here are the answers and reasons for each question:\",\n",
       " 'Question 1: How old was Charles Brenton Huggins when he won the Nobel Prize in 1966?',\n",
       " 'Answer: 65 years old',\n",
       " 'Reasoning: Charles Brenton Huggins was born on September 22, 1901, and won the Nobel Prize in 1966. Therefore, he was 65 years old at the time of his victory. (1966 - 1901)',\n",
       " 'Question 2: When was the last time that Frederick John Perry won the Davis Cup?',\n",
       " 'Answer: 1936',\n",
       " 'Reasoning: Frederick John Perry won the Davis Cup four times, including in 1936, which was the latest year he won the award.',\n",
       " 'Question 3: For what did Adolph']"
      ]
     },
     "execution_count": 54,
     "metadata": {},
     "output_type": "execute_result"
    }
   ],
   "source": [
    "df.iloc[0, -1].split(\"\\n\\n\")"
   ]
  },
  {
   "cell_type": "code",
   "execution_count": 47,
   "metadata": {},
   "outputs": [],
   "source": [
    "idx_with_sure_pred = df.query(\"predicted_answer.str.strip().str.startswith('Sure')\").index"
   ]
  },
  {
   "cell_type": "code",
   "execution_count": null,
   "metadata": {},
   "outputs": [],
   "source": [
    "df.loc[:, \"predicted_answer\"] = (\n",
    "    df.loc[:, \"predicted_answer\"]\n",
    "    .str.split(\"\\n\\n\")\n",
    "    .apply(lambda x: x[-1])\n",
    "    .str.split(\"Answer:\")\n",
    "    .apply(lambda x: x[-1].strip())\n",
    ")"
   ]
  },
  {
   "cell_type": "code",
   "execution_count": 49,
   "metadata": {},
   "outputs": [],
   "source": [
    "df.to_csv(\"llama2_own_CoT_modified.csv\")"
   ]
  },
  {
   "cell_type": "code",
   "execution_count": null,
   "metadata": {},
   "outputs": [],
   "source": []
  }
 ],
 "metadata": {
  "kernelspec": {
   "display_name": ".venv",
   "language": "python",
   "name": "python3"
  },
  "language_info": {
   "codemirror_mode": {
    "name": "ipython",
    "version": 3
   },
   "file_extension": ".py",
   "mimetype": "text/x-python",
   "name": "python",
   "nbconvert_exporter": "python",
   "pygments_lexer": "ipython3",
   "version": "3.10.15"
  }
 },
 "nbformat": 4,
 "nbformat_minor": 2
}
