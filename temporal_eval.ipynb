{
 "cells": [
  {
   "cell_type": "markdown",
   "metadata": {},
   "source": [
    "# Examine temporal evaluation beyond token-level similarity\n",
    "In a temporal QA benchmark, the go-to evaluation metrics are F1, EM, ROUGE, or Accuracy. All of them assess the LLM's performance on the token-level, i.e., quantifying how large the overlap is between output and expected answer on token-level. However, time can be expressed in different ways, e.g., _12 months_ describes the same time as _one year_. An LLM would be punished for outputting the expected answer into the wrong format. Researchers already raised concerns that evaluation needs to account for this fact. Some therefore introduced post-processing of the LLM's output to normalise in- and output for better evaluation or force the LLM to output data. \n",
    "\n",
    "In the following, I am going to re-evaluate the results of TempTabQA under the assumption that temporal answer are evaluated under a normalised-setting."
   ]
  },
  {
   "cell_type": "markdown",
   "metadata": {},
   "source": [
    "__Planned steps__\n",
    "1. Exclude data where output and expected answers are already an exact match\n",
    "1. Find expected answers that are a date or a time\n",
    "1. For these temporal answers, normalise the LLM's output to allow for temporal arithmetic\n",
    "1. Quantify the error of the LLM for those answers temporally"
   ]
  },
  {
   "cell_type": "code",
   "execution_count": 1,
   "metadata": {},
   "outputs": [],
   "source": [
    "import pandas as pd\n",
    "import plotly.graph_objects as go\n",
    "import plotly.express as px\n"
   ]
  },
  {
   "cell_type": "markdown",
   "metadata": {},
   "source": [
    "## Load data\n",
    "Select GPT4 results for in-domain data set because we expect the highest performance here. I want to quantify the problem of not normalising data in the optimal setting to then estimate the minimal gain through normalisation."
   ]
  },
  {
   "cell_type": "code",
   "execution_count": 2,
   "metadata": {},
   "outputs": [],
   "source": [
    "gpt4_df = pd.read_csv(\"models/predictions/gpt4/fewshot_without_reasoning/indomain_eval_gpt_4_few_shot_single.csv\")"
   ]
  },
  {
   "cell_type": "code",
   "execution_count": 3,
   "metadata": {},
   "outputs": [
    {
     "data": {
      "text/html": [
       "<div>\n",
       "<style scoped>\n",
       "    .dataframe tbody tr th:only-of-type {\n",
       "        vertical-align: middle;\n",
       "    }\n",
       "\n",
       "    .dataframe tbody tr th {\n",
       "        vertical-align: top;\n",
       "    }\n",
       "\n",
       "    .dataframe thead th {\n",
       "        text-align: right;\n",
       "    }\n",
       "</style>\n",
       "<table border=\"1\" class=\"dataframe\">\n",
       "  <thead>\n",
       "    <tr style=\"text-align: right;\">\n",
       "      <th></th>\n",
       "      <th>table</th>\n",
       "      <th>predicted_answer</th>\n",
       "      <th>actual_answer</th>\n",
       "      <th>question</th>\n",
       "    </tr>\n",
       "  </thead>\n",
       "  <tbody>\n",
       "    <tr>\n",
       "      <th>0</th>\n",
       "      <td>&lt;html&gt;&lt;body&gt;&lt;table class=\"infobox biography vc...</td>\n",
       "      <td>47 years old</td>\n",
       "      <td>47</td>\n",
       "      <td>How old was Art Carney when he first got divor...</td>\n",
       "    </tr>\n",
       "    <tr>\n",
       "      <th>1</th>\n",
       "      <td>&lt;html&gt;&lt;body&gt;&lt;table class=\"infobox biography vc...</td>\n",
       "      <td>Jean Myers</td>\n",
       "      <td>Jean Myers</td>\n",
       "      <td>Who was Art Carney married to while he served ...</td>\n",
       "    </tr>\n",
       "    <tr>\n",
       "      <th>2</th>\n",
       "      <td>&lt;html&gt;&lt;body&gt;&lt;table class=\"infobox biography vc...</td>\n",
       "      <td>Barbara Isaac</td>\n",
       "      <td>Barbara Isaac</td>\n",
       "      <td>Which spouse was Art Carney married to the least?</td>\n",
       "    </tr>\n",
       "    <tr>\n",
       "      <th>3</th>\n",
       "      <td>&lt;html&gt;&lt;body&gt;&lt;table class=\"infobox biography vc...</td>\n",
       "      <td>Barbara Isaac</td>\n",
       "      <td>Barbara Isaac</td>\n",
       "      <td>Who was the spouse of Art Carney in 1970?</td>\n",
       "    </tr>\n",
       "    <tr>\n",
       "      <th>4</th>\n",
       "      <td>&lt;html&gt;&lt;body&gt;&lt;table class=\"infobox biography vc...</td>\n",
       "      <td>54 years</td>\n",
       "      <td>54 Years</td>\n",
       "      <td>How many years did Art Carney as actor since 1...</td>\n",
       "    </tr>\n",
       "  </tbody>\n",
       "</table>\n",
       "</div>"
      ],
      "text/plain": [
       "                                               table predicted_answer  \\\n",
       "0  <html><body><table class=\"infobox biography vc...     47 years old   \n",
       "1  <html><body><table class=\"infobox biography vc...       Jean Myers   \n",
       "2  <html><body><table class=\"infobox biography vc...    Barbara Isaac   \n",
       "3  <html><body><table class=\"infobox biography vc...    Barbara Isaac   \n",
       "4  <html><body><table class=\"infobox biography vc...         54 years   \n",
       "\n",
       "   actual_answer                                           question  \n",
       "0             47  How old was Art Carney when he first got divor...  \n",
       "1     Jean Myers  Who was Art Carney married to while he served ...  \n",
       "2  Barbara Isaac  Which spouse was Art Carney married to the least?  \n",
       "3  Barbara Isaac          Who was the spouse of Art Carney in 1970?  \n",
       "4       54 Years  How many years did Art Carney as actor since 1...  "
      ]
     },
     "execution_count": 3,
     "metadata": {},
     "output_type": "execute_result"
    }
   ],
   "source": [
    "gpt4_df.head()"
   ]
  },
  {
   "cell_type": "code",
   "execution_count": 4,
   "metadata": {},
   "outputs": [
    {
     "name": "stdout",
     "output_type": "stream",
     "text": [
      "<class 'pandas.core.frame.DataFrame'>\n",
      "RangeIndex: 1901 entries, 0 to 1900\n",
      "Data columns (total 4 columns):\n",
      " #   Column            Non-Null Count  Dtype \n",
      "---  ------            --------------  ----- \n",
      " 0   table             1901 non-null   object\n",
      " 1   predicted_answer  1901 non-null   object\n",
      " 2   actual_answer     1901 non-null   object\n",
      " 3   question          1901 non-null   object\n",
      "dtypes: object(4)\n",
      "memory usage: 59.5+ KB\n"
     ]
    }
   ],
   "source": [
    "gpt4_df.info()"
   ]
  },
  {
   "cell_type": "code",
   "execution_count": 5,
   "metadata": {},
   "outputs": [],
   "source": [
    "gpt4_df_wrong_answers = gpt4_df.query(\"predicted_answer.str.lower() != actual_answer.str.lower()\")"
   ]
  },
  {
   "cell_type": "code",
   "execution_count": 6,
   "metadata": {},
   "outputs": [
    {
     "data": {
      "text/html": [
       "<div>\n",
       "<style scoped>\n",
       "    .dataframe tbody tr th:only-of-type {\n",
       "        vertical-align: middle;\n",
       "    }\n",
       "\n",
       "    .dataframe tbody tr th {\n",
       "        vertical-align: top;\n",
       "    }\n",
       "\n",
       "    .dataframe thead th {\n",
       "        text-align: right;\n",
       "    }\n",
       "</style>\n",
       "<table border=\"1\" class=\"dataframe\">\n",
       "  <thead>\n",
       "    <tr style=\"text-align: right;\">\n",
       "      <th></th>\n",
       "      <th>table</th>\n",
       "      <th>predicted_answer</th>\n",
       "      <th>actual_answer</th>\n",
       "      <th>question</th>\n",
       "    </tr>\n",
       "  </thead>\n",
       "  <tbody>\n",
       "    <tr>\n",
       "      <th>0</th>\n",
       "      <td>&lt;html&gt;&lt;body&gt;&lt;table class=\"infobox biography vc...</td>\n",
       "      <td>47 years old</td>\n",
       "      <td>47</td>\n",
       "      <td>How old was Art Carney when he first got divor...</td>\n",
       "    </tr>\n",
       "    <tr>\n",
       "      <th>5</th>\n",
       "      <td>&lt;html&gt;&lt;body&gt;&lt;table class=\"infobox biography vc...</td>\n",
       "      <td>25 years</td>\n",
       "      <td>28 years</td>\n",
       "      <td>How many total years was Art Carney married to...</td>\n",
       "    </tr>\n",
       "    <tr>\n",
       "      <th>7</th>\n",
       "      <td>&lt;html&gt;&lt;body&gt;&lt;table class=\"infobox biography vc...</td>\n",
       "      <td>23 years</td>\n",
       "      <td>23</td>\n",
       "      <td>How many years before he died was Art Carney m...</td>\n",
       "    </tr>\n",
       "    <tr>\n",
       "      <th>10</th>\n",
       "      <td>&lt;html&gt;&lt;body&gt;&lt;table class=\"infobox biography vc...</td>\n",
       "      <td>22 years old</td>\n",
       "      <td>22</td>\n",
       "      <td>How old was Cumberbatch when his career began?</td>\n",
       "    </tr>\n",
       "    <tr>\n",
       "      <th>11</th>\n",
       "      <td>&lt;html&gt;&lt;body&gt;&lt;table class=\"infobox biography vc...</td>\n",
       "      <td>7 years</td>\n",
       "      <td>7</td>\n",
       "      <td>For how many years has Benedict Cumberbatch be...</td>\n",
       "    </tr>\n",
       "  </tbody>\n",
       "</table>\n",
       "</div>"
      ],
      "text/plain": [
       "                                                table predicted_answer  \\\n",
       "0   <html><body><table class=\"infobox biography vc...     47 years old   \n",
       "5   <html><body><table class=\"infobox biography vc...         25 years   \n",
       "7   <html><body><table class=\"infobox biography vc...         23 years   \n",
       "10  <html><body><table class=\"infobox biography vc...     22 years old   \n",
       "11  <html><body><table class=\"infobox biography vc...          7 years   \n",
       "\n",
       "   actual_answer                                           question  \n",
       "0             47  How old was Art Carney when he first got divor...  \n",
       "5       28 years  How many total years was Art Carney married to...  \n",
       "7             23  How many years before he died was Art Carney m...  \n",
       "10            22     How old was Cumberbatch when his career began?  \n",
       "11             7  For how many years has Benedict Cumberbatch be...  "
      ]
     },
     "execution_count": 6,
     "metadata": {},
     "output_type": "execute_result"
    }
   ],
   "source": [
    "gpt4_df_wrong_answers.head()"
   ]
  },
  {
   "cell_type": "code",
   "execution_count": 7,
   "metadata": {},
   "outputs": [
    {
     "name": "stdout",
     "output_type": "stream",
     "text": [
      "<class 'pandas.core.frame.DataFrame'>\n",
      "Index: 1208 entries, 0 to 1900\n",
      "Data columns (total 4 columns):\n",
      " #   Column            Non-Null Count  Dtype \n",
      "---  ------            --------------  ----- \n",
      " 0   table             1208 non-null   object\n",
      " 1   predicted_answer  1208 non-null   object\n",
      " 2   actual_answer     1208 non-null   object\n",
      " 3   question          1208 non-null   object\n",
      "dtypes: object(4)\n",
      "memory usage: 47.2+ KB\n"
     ]
    }
   ],
   "source": [
    "gpt4_df_wrong_answers.info()"
   ]
  },
  {
   "cell_type": "code",
   "execution_count": 8,
   "metadata": {},
   "outputs": [
    {
     "name": "stdout",
     "output_type": "stream",
     "text": [
      "Number of answers that are an exact match when all text is lower-cased: 693\n"
     ]
    }
   ],
   "source": [
    "print(f\"Number of answers that are an exact match when all text is lower-cased: {1901 - 1208}\")"
   ]
  },
  {
   "cell_type": "markdown",
   "metadata": {},
   "source": [
    "The in-domain dataset consists of 1901 data points. 693 predictions are already an exact match if we lower-case predictions and actual answers. 1208 data points are not an exact match. "
   ]
  },
  {
   "cell_type": "markdown",
   "metadata": {},
   "source": [
    "## Evaluate QA pairs where digits are an exact match\n",
    "To assess how much temporal normalisation would help or hurt model evaluation, we need to investigate several normalisation techniques. The first one focuses on comparing digits only in the predicted and actual answer.\n",
    "When assessing all predictions that were wrong on token-level but extract digits using regex from the predicted and actual answer, we see that 366 of the formally 1208 wrong answers are suddenly correct. Let us investigate where this approach is reflective of the what we try to measure. "
   ]
  },
  {
   "cell_type": "code",
   "execution_count": 9,
   "metadata": {},
   "outputs": [],
   "source": [
    "gpt4_df_extracted_nums = gpt4_df_wrong_answers.assign(\n",
    "    predicted_answer_nums_only=lambda x: x[\"predicted_answer\"].str.findall(\"\\d+\"),\n",
    "    actual_answer_nums_only=lambda x: x[\"actual_answer\"].str.findall(\"\\d+\"),\n",
    ")"
   ]
  },
  {
   "cell_type": "code",
   "execution_count": 10,
   "metadata": {},
   "outputs": [
    {
     "name": "stdout",
     "output_type": "stream",
     "text": [
      "(366, 6)\n"
     ]
    },
    {
     "data": {
      "text/html": [
       "<div>\n",
       "<style scoped>\n",
       "    .dataframe tbody tr th:only-of-type {\n",
       "        vertical-align: middle;\n",
       "    }\n",
       "\n",
       "    .dataframe tbody tr th {\n",
       "        vertical-align: top;\n",
       "    }\n",
       "\n",
       "    .dataframe thead th {\n",
       "        text-align: right;\n",
       "    }\n",
       "</style>\n",
       "<table border=\"1\" class=\"dataframe\">\n",
       "  <thead>\n",
       "    <tr style=\"text-align: right;\">\n",
       "      <th></th>\n",
       "      <th>table</th>\n",
       "      <th>predicted_answer</th>\n",
       "      <th>actual_answer</th>\n",
       "      <th>question</th>\n",
       "      <th>predicted_answer_nums_only</th>\n",
       "      <th>actual_answer_nums_only</th>\n",
       "    </tr>\n",
       "  </thead>\n",
       "  <tbody>\n",
       "    <tr>\n",
       "      <th>0</th>\n",
       "      <td>&lt;html&gt;&lt;body&gt;&lt;table class=\"infobox biography vc...</td>\n",
       "      <td>47 years old</td>\n",
       "      <td>47</td>\n",
       "      <td>How old was Art Carney when he first got divor...</td>\n",
       "      <td>[47]</td>\n",
       "      <td>[47]</td>\n",
       "    </tr>\n",
       "    <tr>\n",
       "      <th>7</th>\n",
       "      <td>&lt;html&gt;&lt;body&gt;&lt;table class=\"infobox biography vc...</td>\n",
       "      <td>23 years</td>\n",
       "      <td>23</td>\n",
       "      <td>How many years before he died was Art Carney m...</td>\n",
       "      <td>[23]</td>\n",
       "      <td>[23]</td>\n",
       "    </tr>\n",
       "    <tr>\n",
       "      <th>10</th>\n",
       "      <td>&lt;html&gt;&lt;body&gt;&lt;table class=\"infobox biography vc...</td>\n",
       "      <td>22 years old</td>\n",
       "      <td>22</td>\n",
       "      <td>How old was Cumberbatch when his career began?</td>\n",
       "      <td>[22]</td>\n",
       "      <td>[22]</td>\n",
       "    </tr>\n",
       "    <tr>\n",
       "      <th>11</th>\n",
       "      <td>&lt;html&gt;&lt;body&gt;&lt;table class=\"infobox biography vc...</td>\n",
       "      <td>7 years</td>\n",
       "      <td>7</td>\n",
       "      <td>For how many years has Benedict Cumberbatch be...</td>\n",
       "      <td>[7]</td>\n",
       "      <td>[7]</td>\n",
       "    </tr>\n",
       "    <tr>\n",
       "      <th>14</th>\n",
       "      <td>&lt;html&gt;&lt;body&gt;&lt;table class=\"infobox biography vc...</td>\n",
       "      <td>22 years old</td>\n",
       "      <td>22</td>\n",
       "      <td>How old was Benedict Cumberbatch when he start...</td>\n",
       "      <td>[22]</td>\n",
       "      <td>[22]</td>\n",
       "    </tr>\n",
       "  </tbody>\n",
       "</table>\n",
       "</div>"
      ],
      "text/plain": [
       "                                                table predicted_answer  \\\n",
       "0   <html><body><table class=\"infobox biography vc...     47 years old   \n",
       "7   <html><body><table class=\"infobox biography vc...         23 years   \n",
       "10  <html><body><table class=\"infobox biography vc...     22 years old   \n",
       "11  <html><body><table class=\"infobox biography vc...          7 years   \n",
       "14  <html><body><table class=\"infobox biography vc...     22 years old   \n",
       "\n",
       "   actual_answer                                           question  \\\n",
       "0             47  How old was Art Carney when he first got divor...   \n",
       "7             23  How many years before he died was Art Carney m...   \n",
       "10            22     How old was Cumberbatch when his career began?   \n",
       "11             7  For how many years has Benedict Cumberbatch be...   \n",
       "14            22  How old was Benedict Cumberbatch when he start...   \n",
       "\n",
       "   predicted_answer_nums_only actual_answer_nums_only  \n",
       "0                        [47]                    [47]  \n",
       "7                        [23]                    [23]  \n",
       "10                       [22]                    [22]  \n",
       "11                        [7]                     [7]  \n",
       "14                       [22]                    [22]  "
      ]
     },
     "execution_count": 10,
     "metadata": {},
     "output_type": "execute_result"
    }
   ],
   "source": [
    "gpt4_df_extracted_nums_are_eq = gpt4_df_extracted_nums.query(\"predicted_answer_nums_only==actual_answer_nums_only and actual_answer_nums_only\")\n",
    "print(gpt4_df_extracted_nums_are_eq.shape)\n",
    "gpt4_df_extracted_nums_are_eq.head()"
   ]
  },
  {
   "cell_type": "markdown",
   "metadata": {},
   "source": [
    "We notice that the now correct predicted answers contain the word _year_ most of the time. Therefore, the first normalisation step to investigate should focus on questions that ask for a year or numbers of year. Then, I will compare numbers in the predicted and actual answers to measure the error on a time-basis."
   ]
  },
  {
   "cell_type": "markdown",
   "metadata": {},
   "source": [
    "### Answers mentioning _years_"
   ]
  },
  {
   "cell_type": "code",
   "execution_count": 11,
   "metadata": {},
   "outputs": [
    {
     "data": {
      "text/plain": [
       "(241, 6)"
      ]
     },
     "execution_count": 11,
     "metadata": {},
     "output_type": "execute_result"
    }
   ],
   "source": [
    "gpt4_df_extracted_nums_are_eq.query(\"predicted_answer.str.contains('year')\").shape"
   ]
  },
  {
   "cell_type": "code",
   "execution_count": 12,
   "metadata": {},
   "outputs": [
    {
     "data": {
      "text/plain": [
       "question\n",
       "(how, many, years)            109\n",
       "(how, old, was)                56\n",
       "(what, was, the)               22\n",
       "(at, what, age)                18\n",
       "(for, how, many)                7\n",
       "(how, long, after)              6\n",
       "(what, is, the)                 3\n",
       "(how, old, did)                 3\n",
       "(how, long, ago)                2\n",
       "(steven, paul, jobs)            1\n",
       "(what, age, did)                1\n",
       "(how, many, year)               1\n",
       "(what, was, nicki)              1\n",
       "(what, was, age)                1\n",
       "(how, many, total)              1\n",
       "(what, was, shabalin's)         1\n",
       "(when, was, the)                1\n",
       "(what, age, was)                1\n",
       "(when, alphonse, gallegos)      1\n",
       "(how, long, was)                1\n",
       "(the, general, election)        1\n",
       "(what, number, of)              1\n",
       "(the, space, shuttle's)         1\n",
       "(the, pby, catalina)            1\n",
       "Name: count, dtype: int64"
      ]
     },
     "execution_count": 12,
     "metadata": {},
     "output_type": "execute_result"
    }
   ],
   "source": [
    "gpt4_df_extracted_nums_are_eq.query(\"predicted_answer.str.contains('year')\").loc[\n",
    "    :, \"question\"\n",
    "].str.lower().str.split().apply(lambda x: tuple(x[:3])).value_counts()"
   ]
  },
  {
   "cell_type": "code",
   "execution_count": 13,
   "metadata": {},
   "outputs": [
    {
     "data": {
      "text/plain": [
       "array([\"How long after Bot's son Ben was born did he take office as State Secretary for the Interior?\",\n",
       "       'How long after achieving a personal best score for short program did Aron retire?',\n",
       "       'How long after production stopped on the Firefly was it officially retired?',\n",
       "       'How long after the Firefly was introduced did production stop?',\n",
       "       'How long after the First Flight was the Firefly retired?',\n",
       "       'How long after the beginning of the dissolution of the Soviet Union did Chechnya become an unrecognized breakaway state?',\n",
       "       'How long ago did Faith die?',\n",
       "       'How long ago was the first edition of Arkham Horror: The Card Game released?',\n",
       "       'How long was Arnold Schwarzenegger married for?'], dtype=object)"
      ]
     },
     "execution_count": 13,
     "metadata": {},
     "output_type": "execute_result"
    }
   ],
   "source": [
    "gpt4_df_extracted_nums_are_eq.query(\n",
    "    \"predicted_answer.str.contains('year') \" \n",
    "    \"and ~question.str.lower().str.contains('how many year') \"\n",
    "    \"and ~question.str.lower().str.startswith('how old was') \" \n",
    "    \"and ~question.str.lower().str.startswith('what was the age') \" \n",
    "    \"and ~question.str.lower().str.startswith('at what age') \" \n",
    "    \"and ~question.str.lower().str.startswith('for how many years')\"\n",
    "    \"and ~question.str.lower().str.startswith('how old did')\"\n",
    "    \"and ~question.str.lower().str.contains(' age ')\"\n",
    "    \"and ~question.str.lower().str.contains('number of years')\"\n",
    "    \"and ~question.str.lower().str.contains('total years')\"\n",
    ").sort_values(by=\"question\").loc[:, \"question\"].values"
   ]
  },
  {
   "cell_type": "markdown",
   "metadata": {},
   "source": [
    "Most questions that expect an answer counting years are either asking for a year specifically or for age, which is most of the time measured in years. Of the remaining 13 questions, the LLM is asked for a duration which happens to be answered in years because this appears to be the most appropriate answer format. "
   ]
  },
  {
   "cell_type": "markdown",
   "metadata": {},
   "source": [
    "### Answers not mentioning _years_\n",
    "Let us investigate  whether answers that don't mention the string _year_ are still questions asking for a year. 125 questions are an exact match on digits only but don't have _year_ in their answers."
   ]
  },
  {
   "cell_type": "code",
   "execution_count": 14,
   "metadata": {},
   "outputs": [
    {
     "data": {
      "text/plain": [
       "(125, 6)"
      ]
     },
     "execution_count": 14,
     "metadata": {},
     "output_type": "execute_result"
    }
   ],
   "source": [
    "gpt4_df_extracted_nums_are_eq.query(\"~predicted_answer.str.contains('year')\").shape"
   ]
  },
  {
   "cell_type": "code",
   "execution_count": 15,
   "metadata": {},
   "outputs": [
    {
     "data": {
      "text/plain": [
       "question\n",
       "(when, was, the)              9\n",
       "(how, many, months)           8\n",
       "(what, was, the)              6\n",
       "(what, year, did)             6\n",
       "(how, many, days)             5\n",
       "                             ..\n",
       "(how, many, world)            1\n",
       "(how, many, personal)         1\n",
       "(how, many, championships)    1\n",
       "(how, many, are)              1\n",
       "(how, many, publications)     1\n",
       "Name: count, Length: 71, dtype: int64"
      ]
     },
     "execution_count": 15,
     "metadata": {},
     "output_type": "execute_result"
    }
   ],
   "source": [
    "gpt4_df_extracted_nums_are_eq.query(\"~predicted_answer.str.contains('year')\").loc[:, \"question\"].str.lower().str.split().apply(lambda x: tuple(x[:3])).value_counts()"
   ]
  },
  {
   "cell_type": "markdown",
   "metadata": {},
   "source": [
    "There is a less strong pattern in the types of questions than with exact digit matches where the answer contains the word _year_. In the following, I am going to manually extract questions that are still asking for a year. In these cases, a digit match makes sense. What are the other questions that lead to a numerical answers?"
   ]
  },
  {
   "cell_type": "code",
   "execution_count": 16,
   "metadata": {},
   "outputs": [
    {
     "data": {
      "text/html": [
       "<div>\n",
       "<style scoped>\n",
       "    .dataframe tbody tr th:only-of-type {\n",
       "        vertical-align: middle;\n",
       "    }\n",
       "\n",
       "    .dataframe tbody tr th {\n",
       "        vertical-align: top;\n",
       "    }\n",
       "\n",
       "    .dataframe thead th {\n",
       "        text-align: right;\n",
       "    }\n",
       "</style>\n",
       "<table border=\"1\" class=\"dataframe\">\n",
       "  <thead>\n",
       "    <tr style=\"text-align: right;\">\n",
       "      <th></th>\n",
       "      <th>table</th>\n",
       "      <th>predicted_answer</th>\n",
       "      <th>actual_answer</th>\n",
       "      <th>question</th>\n",
       "      <th>predicted_answer_nums_only</th>\n",
       "      <th>actual_answer_nums_only</th>\n",
       "    </tr>\n",
       "  </thead>\n",
       "  <tbody>\n",
       "    <tr>\n",
       "      <th>21</th>\n",
       "      <td>&lt;html&gt;&lt;body&gt;&lt;table class=\"infobox biography vc...</td>\n",
       "      <td>4 different personas</td>\n",
       "      <td>4</td>\n",
       "      <td>How many different personas has professional w...</td>\n",
       "      <td>[4]</td>\n",
       "      <td>[4]</td>\n",
       "    </tr>\n",
       "    <tr>\n",
       "      <th>32</th>\n",
       "      <td>&lt;html&gt;&lt;body&gt;&lt;table class=\"infobox biography vc...</td>\n",
       "      <td>4 times</td>\n",
       "      <td>4</td>\n",
       "      <td>How many times Joan Crawford have been married?</td>\n",
       "      <td>[4]</td>\n",
       "      <td>[4]</td>\n",
       "    </tr>\n",
       "    <tr>\n",
       "      <th>169</th>\n",
       "      <td>&lt;html&gt;&lt;body&gt;&lt;table class=\"infobox vcard\" style...</td>\n",
       "      <td>1 gold medal</td>\n",
       "      <td>1</td>\n",
       "      <td>How many gold medals had Carolina Albuquerque ...</td>\n",
       "      <td>[1]</td>\n",
       "      <td>[1]</td>\n",
       "    </tr>\n",
       "    <tr>\n",
       "      <th>185</th>\n",
       "      <td>&lt;html&gt;&lt;body&gt;&lt;table class=\"infobox vcard\"&gt;&lt;capt...</td>\n",
       "      <td>5 gold medals</td>\n",
       "      <td>5</td>\n",
       "      <td>How many gold medals did Matt Biondi win in th...</td>\n",
       "      <td>[5]</td>\n",
       "      <td>[5]</td>\n",
       "    </tr>\n",
       "    <tr>\n",
       "      <th>238</th>\n",
       "      <td>&lt;html&gt;&lt;body&gt;&lt;table class=\"infobox vcard\"&gt;&lt;tbod...</td>\n",
       "      <td>2 medals</td>\n",
       "      <td>2</td>\n",
       "      <td>How many times in 2009 did Wang Xiaoli receive...</td>\n",
       "      <td>[2]</td>\n",
       "      <td>[2]</td>\n",
       "    </tr>\n",
       "  </tbody>\n",
       "</table>\n",
       "</div>"
      ],
      "text/plain": [
       "                                                 table      predicted_answer  \\\n",
       "21   <html><body><table class=\"infobox biography vc...  4 different personas   \n",
       "32   <html><body><table class=\"infobox biography vc...               4 times   \n",
       "169  <html><body><table class=\"infobox vcard\" style...          1 gold medal   \n",
       "185  <html><body><table class=\"infobox vcard\"><capt...         5 gold medals   \n",
       "238  <html><body><table class=\"infobox vcard\"><tbod...              2 medals   \n",
       "\n",
       "    actual_answer                                           question  \\\n",
       "21              4  How many different personas has professional w...   \n",
       "32              4    How many times Joan Crawford have been married?   \n",
       "169             1  How many gold medals had Carolina Albuquerque ...   \n",
       "185             5  How many gold medals did Matt Biondi win in th...   \n",
       "238             2  How many times in 2009 did Wang Xiaoli receive...   \n",
       "\n",
       "    predicted_answer_nums_only actual_answer_nums_only  \n",
       "21                         [4]                     [4]  \n",
       "32                         [4]                     [4]  \n",
       "169                        [1]                     [1]  \n",
       "185                        [5]                     [5]  \n",
       "238                        [2]                     [2]  "
      ]
     },
     "execution_count": 16,
     "metadata": {},
     "output_type": "execute_result"
    }
   ],
   "source": [
    "matching_numbs_that_arent_temp = gpt4_df_extracted_nums_are_eq.query(\n",
    "    \"~predicted_answer.str.contains('year') \"\n",
    "    \"and ~question.str.lower().str.startswith('when')\"\n",
    "    \"and ~question.str.lower().str.contains('what year')\"\n",
    "    \"and ~question.str.lower().str.contains('how many days')\"\n",
    "    \"and ~question.str.lower().str.contains('how many days') \"\n",
    "    \"and ~question.str.lower().str.contains('how many months') \"\n",
    "    \"and ~question.str.lower().str.contains('which year')\"\n",
    "    \"and ~question.str.lower().str.contains('final year')\"\n",
    "    \"and ~question.str.lower().str.contains('how long')\"\n",
    "    \"and ~question.str.lower().str.contains('first date')\"\n",
    ")#.loc[[1712, 1714, 1715], \"actual_answer\"].values\n",
    "matching_numbs_that_arent_temp.head()"
   ]
  },
  {
   "cell_type": "code",
   "execution_count": 17,
   "metadata": {},
   "outputs": [
    {
     "data": {
      "text/plain": [
       "(71, 6)"
      ]
     },
     "execution_count": 17,
     "metadata": {},
     "output_type": "execute_result"
    }
   ],
   "source": [
    "matching_numbs_that_arent_temp.shape"
   ]
  },
  {
   "cell_type": "code",
   "execution_count": 18,
   "metadata": {},
   "outputs": [
    {
     "name": "stdout",
     "output_type": "stream",
     "text": [
      "Out of 125 exact digit matches where the answer does not contain the word 'year', 54 questions are still temporal, i.e., asking for when, how many years, days, or months, or for the first or final date/time of some event/entity.\n"
     ]
    }
   ],
   "source": [
    "print(f\"Out of 125 exact digit matches where the answer does not contain the word 'year', {125-71} questions are still temporal, i.e., asking for when, how many years, days, or months, or for the first or final date/time of some event/entity.\")"
   ]
  },
  {
   "cell_type": "code",
   "execution_count": 19,
   "metadata": {},
   "outputs": [
    {
     "data": {
      "text/html": [
       "<div>\n",
       "<style scoped>\n",
       "    .dataframe tbody tr th:only-of-type {\n",
       "        vertical-align: middle;\n",
       "    }\n",
       "\n",
       "    .dataframe tbody tr th {\n",
       "        vertical-align: top;\n",
       "    }\n",
       "\n",
       "    .dataframe thead th {\n",
       "        text-align: right;\n",
       "    }\n",
       "</style>\n",
       "<table border=\"1\" class=\"dataframe\">\n",
       "  <thead>\n",
       "    <tr style=\"text-align: right;\">\n",
       "      <th></th>\n",
       "      <th>table</th>\n",
       "      <th>predicted_answer</th>\n",
       "      <th>actual_answer</th>\n",
       "      <th>question</th>\n",
       "      <th>predicted_answer_nums_only</th>\n",
       "      <th>actual_answer_nums_only</th>\n",
       "    </tr>\n",
       "  </thead>\n",
       "  <tbody>\n",
       "    <tr>\n",
       "      <th>1558</th>\n",
       "      <td>&lt;table class=\"infobox vevent\"&gt;&lt;caption class=\"...</td>\n",
       "      <td>2 (Artsakh and Transnistria)</td>\n",
       "      <td>2</td>\n",
       "      <td>Currently how many unrecognized states are sti...</td>\n",
       "      <td>[2]</td>\n",
       "      <td>[2]</td>\n",
       "    </tr>\n",
       "    <tr>\n",
       "      <th>1066</th>\n",
       "      <td>&lt;table class=\"infobox vcard\"&gt;&lt;caption class=\"i...</td>\n",
       "      <td>6 different events</td>\n",
       "      <td>6</td>\n",
       "      <td>For how many different events did Charlotte At...</td>\n",
       "      <td>[6]</td>\n",
       "      <td>[6]</td>\n",
       "    </tr>\n",
       "    <tr>\n",
       "      <th>812</th>\n",
       "      <td>&lt;table class=\"infobox vcard\" style=\"width:25em...</td>\n",
       "      <td>14 seasons</td>\n",
       "      <td>14</td>\n",
       "      <td>For how many seasons did Brooks play for Tampa...</td>\n",
       "      <td>[14]</td>\n",
       "      <td>[14]</td>\n",
       "    </tr>\n",
       "    <tr>\n",
       "      <th>755</th>\n",
       "      <td>&lt;table class=\"infobox vcard\" style=\"width:24em...</td>\n",
       "      <td>8 races</td>\n",
       "      <td>8</td>\n",
       "      <td>How many NASCAR Cup Series and IndyCar Series ...</td>\n",
       "      <td>[8]</td>\n",
       "      <td>[8]</td>\n",
       "    </tr>\n",
       "    <tr>\n",
       "      <th>1456</th>\n",
       "      <td>&lt;table class=\"infobox vevent\" style=\"width:25....</td>\n",
       "      <td>2,121,560-2,260,000 casualties</td>\n",
       "      <td>2,121,560–2,260,000</td>\n",
       "      <td>How many allied casualties were there a year a...</td>\n",
       "      <td>[2, 121, 560, 2, 260, 000]</td>\n",
       "      <td>[2, 121, 560, 2, 260, 000]</td>\n",
       "    </tr>\n",
       "    <tr>\n",
       "      <th>1334</th>\n",
       "      <td>&lt;table class=\"infobox vcard\"&gt;&lt;tbody&gt;&lt;tr&gt;&lt;th cl...</td>\n",
       "      <td>5</td>\n",
       "      <td>5, including Katherine, Patrick and Joseph Baena</td>\n",
       "      <td>How many are children's Arnold Schwarzenegger ?</td>\n",
       "      <td>[5]</td>\n",
       "      <td>[5]</td>\n",
       "    </tr>\n",
       "    <tr>\n",
       "      <th>1314</th>\n",
       "      <td>&lt;table class=\"infobox vcard\"&gt;&lt;tbody&gt;&lt;tr&gt;&lt;th cl...</td>\n",
       "      <td>8 championships</td>\n",
       "      <td>8</td>\n",
       "      <td>How many championships has Murilo Bustamante a...</td>\n",
       "      <td>[8]</td>\n",
       "      <td>[8]</td>\n",
       "    </tr>\n",
       "    <tr>\n",
       "      <th>335</th>\n",
       "      <td>&lt;table class=\"infobox biography vcard\" style=\"...</td>\n",
       "      <td>4 different series</td>\n",
       "      <td>4</td>\n",
       "      <td>How many different NASCAR series has Cody Ware...</td>\n",
       "      <td>[4]</td>\n",
       "      <td>[4]</td>\n",
       "    </tr>\n",
       "    <tr>\n",
       "      <th>1461</th>\n",
       "      <td>&lt;table class=\"infobox vevent\" style=\"width:25....</td>\n",
       "      <td>11 countries</td>\n",
       "      <td>11</td>\n",
       "      <td>How many different companies fought on the all...</td>\n",
       "      <td>[11]</td>\n",
       "      <td>[11]</td>\n",
       "    </tr>\n",
       "    <tr>\n",
       "      <th>21</th>\n",
       "      <td>&lt;html&gt;&lt;body&gt;&lt;table class=\"infobox biography vc...</td>\n",
       "      <td>4 different personas</td>\n",
       "      <td>4</td>\n",
       "      <td>How many different personas has professional w...</td>\n",
       "      <td>[4]</td>\n",
       "      <td>[4]</td>\n",
       "    </tr>\n",
       "    <tr>\n",
       "      <th>1435</th>\n",
       "      <td>&lt;table class=\"infobox vevent\" style=\"width:25....</td>\n",
       "      <td>573 APCs</td>\n",
       "      <td>573</td>\n",
       "      <td>How many fewer APC's did the Croatian side hav...</td>\n",
       "      <td>[573]</td>\n",
       "      <td>[573]</td>\n",
       "    </tr>\n",
       "    <tr>\n",
       "      <th>773</th>\n",
       "      <td>&lt;table class=\"infobox vcard\" style=\"width:24em...</td>\n",
       "      <td>18 total wins</td>\n",
       "      <td>18</td>\n",
       "      <td>How many major open wheel races did Hinter-Rea...</td>\n",
       "      <td>[18]</td>\n",
       "      <td>[18]</td>\n",
       "    </tr>\n",
       "    <tr>\n",
       "      <th>655</th>\n",
       "      <td>&lt;table class=\"infobox vcard plainlist\"&gt;&lt;tbody&gt;...</td>\n",
       "      <td>5 members</td>\n",
       "      <td>5</td>\n",
       "      <td>How many members were in AC/DC in 2009?</td>\n",
       "      <td>[5]</td>\n",
       "      <td>[5]</td>\n",
       "    </tr>\n",
       "    <tr>\n",
       "      <th>959</th>\n",
       "      <td>&lt;table class=\"infobox vcard\"&gt;&lt;caption class=\"i...</td>\n",
       "      <td>41 more doctoral students</td>\n",
       "      <td>41</td>\n",
       "      <td>How many more doctoral students than post grad...</td>\n",
       "      <td>[41]</td>\n",
       "      <td>[41]</td>\n",
       "    </tr>\n",
       "    <tr>\n",
       "      <th>1499</th>\n",
       "      <td>&lt;table class=\"infobox vevent\" style=\"width:25e...</td>\n",
       "      <td>26 more golds</td>\n",
       "      <td>26</td>\n",
       "      <td>How many more golds than silver has Hungary wo...</td>\n",
       "      <td>[26]</td>\n",
       "      <td>[26]</td>\n",
       "    </tr>\n",
       "    <tr>\n",
       "      <th>667</th>\n",
       "      <td>&lt;table class=\"infobox vcard plainlist\"&gt;&lt;tbody&gt;...</td>\n",
       "      <td>3 occupations</td>\n",
       "      <td>3</td>\n",
       "      <td>How many occupations did Faith have?</td>\n",
       "      <td>[3]</td>\n",
       "      <td>[3]</td>\n",
       "    </tr>\n",
       "    <tr>\n",
       "      <th>1784</th>\n",
       "      <td>&lt;table class=\"infobox\"&gt;&lt;caption class=\"infobox...</td>\n",
       "      <td>3 editions</td>\n",
       "      <td>3</td>\n",
       "      <td>How many of the editions of The Settlers of Ca...</td>\n",
       "      <td>[3]</td>\n",
       "      <td>[3]</td>\n",
       "    </tr>\n",
       "    <tr>\n",
       "      <th>1824</th>\n",
       "      <td>&lt;table class=\"infobox\"&gt;&lt;caption class=\"infobox...</td>\n",
       "      <td>1 edition</td>\n",
       "      <td>1</td>\n",
       "      <td>How many of the editions were released in the ...</td>\n",
       "      <td>[1]</td>\n",
       "      <td>[1]</td>\n",
       "    </tr>\n",
       "    <tr>\n",
       "      <th>1157</th>\n",
       "      <td>&lt;table class=\"infobox vcard\"&gt;&lt;tbody&gt;&lt;tr&gt;&lt;th cl...</td>\n",
       "      <td>3 personal best scores</td>\n",
       "      <td>3</td>\n",
       "      <td>How many personal best scores did Timoshenko a...</td>\n",
       "      <td>[3]</td>\n",
       "      <td>[3]</td>\n",
       "    </tr>\n",
       "    <tr>\n",
       "      <th>1636</th>\n",
       "      <td>&lt;table class=\"infobox vevent\"&gt;&lt;tbody&gt;&lt;tr&gt;&lt;th c...</td>\n",
       "      <td>3 producers</td>\n",
       "      <td>3</td>\n",
       "      <td>How many producers did the movie have?</td>\n",
       "      <td>[3]</td>\n",
       "      <td>[3]</td>\n",
       "    </tr>\n",
       "    <tr>\n",
       "      <th>684</th>\n",
       "      <td>&lt;table class=\"infobox vcard\" style=\"line-heigh...</td>\n",
       "      <td>11 professional clubs</td>\n",
       "      <td>11</td>\n",
       "      <td>How many professional clubs has Nenadić played...</td>\n",
       "      <td>[11]</td>\n",
       "      <td>[11]</td>\n",
       "    </tr>\n",
       "    <tr>\n",
       "      <th>954</th>\n",
       "      <td>&lt;table class=\"infobox vcard\"&gt;&lt;caption class=\"i...</td>\n",
       "      <td>62 professors</td>\n",
       "      <td>62</td>\n",
       "      <td>How many professors does Jacobs University have?</td>\n",
       "      <td>[62]</td>\n",
       "      <td>[62]</td>\n",
       "    </tr>\n",
       "    <tr>\n",
       "      <th>1870</th>\n",
       "      <td>&lt;table class=\"infobox\"&gt;&lt;caption class=\"infobox...</td>\n",
       "      <td>2 publications</td>\n",
       "      <td>2</td>\n",
       "      <td>How many publications took place in the 70's?</td>\n",
       "      <td>[2]</td>\n",
       "      <td>[2]</td>\n",
       "    </tr>\n",
       "    <tr>\n",
       "      <th>1794</th>\n",
       "      <td>&lt;table class=\"infobox\"&gt;&lt;caption class=\"infobox...</td>\n",
       "      <td>8 rev. prints</td>\n",
       "      <td>8</td>\n",
       "      <td>How many rev. prints were there before 1993?</td>\n",
       "      <td>[8]</td>\n",
       "      <td>[8]</td>\n",
       "    </tr>\n",
       "    <tr>\n",
       "      <th>1506</th>\n",
       "      <td>&lt;table class=\"infobox vevent\"&gt;&lt;caption class=\"...</td>\n",
       "      <td>33 in North America</td>\n",
       "      <td>33</td>\n",
       "      <td>How many shows are in 12th Annual Honda Civic ...</td>\n",
       "      <td>[33]</td>\n",
       "      <td>[33]</td>\n",
       "    </tr>\n",
       "    <tr>\n",
       "      <th>1543</th>\n",
       "      <td>&lt;table class=\"infobox vevent\"&gt;&lt;caption class=\"...</td>\n",
       "      <td>29 shows</td>\n",
       "      <td>29</td>\n",
       "      <td>How many shows was showed in Europe and Austra...</td>\n",
       "      <td>[29]</td>\n",
       "      <td>[29]</td>\n",
       "    </tr>\n",
       "    <tr>\n",
       "      <th>1413</th>\n",
       "      <td>&lt;table class=\"infobox vevent haudio\"&gt;&lt;tbody&gt;&lt;t...</td>\n",
       "      <td>3 singles</td>\n",
       "      <td>3</td>\n",
       "      <td>How many singles were released from the 2019 C...</td>\n",
       "      <td>[3]</td>\n",
       "      <td>[3]</td>\n",
       "    </tr>\n",
       "    <tr>\n",
       "      <th>1669</th>\n",
       "      <td>&lt;table class=\"infobox\" style=\"\"&gt;&lt;tbody&gt;&lt;tr&gt;&lt;th...</td>\n",
       "      <td>18 stations</td>\n",
       "      <td>18</td>\n",
       "      <td>How many stations stopping in Portadown/Newry ...</td>\n",
       "      <td>[18]</td>\n",
       "      <td>[18]</td>\n",
       "    </tr>\n",
       "    <tr>\n",
       "      <th>1420</th>\n",
       "      <td>&lt;table class=\"infobox vevent\" style=\"width:24e...</td>\n",
       "      <td>16 teams</td>\n",
       "      <td>16</td>\n",
       "      <td>How many teams are participated in Men's 4 × 2...</td>\n",
       "      <td>[16]</td>\n",
       "      <td>[16]</td>\n",
       "    </tr>\n",
       "    <tr>\n",
       "      <th>1081</th>\n",
       "      <td>&lt;table class=\"infobox vcard\"&gt;&lt;caption class=\"i...</td>\n",
       "      <td>6 silver titles</td>\n",
       "      <td>6</td>\n",
       "      <td>How many world championships silver titles of ...</td>\n",
       "      <td>[6]</td>\n",
       "      <td>[6]</td>\n",
       "    </tr>\n",
       "    <tr>\n",
       "      <th>1405</th>\n",
       "      <td>&lt;table class=\"infobox vevent haudio\"&gt;&lt;tbody&gt;&lt;t...</td>\n",
       "      <td>62 minutes 12 seconds</td>\n",
       "      <td>It might be 62:12.</td>\n",
       "      <td>How much length of this movie?</td>\n",
       "      <td>[62, 12]</td>\n",
       "      <td>[62, 12]</td>\n",
       "    </tr>\n",
       "    <tr>\n",
       "      <th>1648</th>\n",
       "      <td>&lt;table class=\"infobox vevent\"&gt;&lt;tbody&gt;&lt;tr&gt;&lt;th c...</td>\n",
       "      <td>£118,000</td>\n",
       "      <td>118,000</td>\n",
       "      <td>How much of a profit did 49th Parallel make of...</td>\n",
       "      <td>[118, 000]</td>\n",
       "      <td>[118, 000]</td>\n",
       "    </tr>\n",
       "    <tr>\n",
       "      <th>1657</th>\n",
       "      <td>&lt;table class=\"infobox vevent\"&gt;&lt;tbody&gt;&lt;tr&gt;&lt;th c...</td>\n",
       "      <td>22 minutes shorter</td>\n",
       "      <td>22</td>\n",
       "      <td>How much shorter is an Access Hollywood episod...</td>\n",
       "      <td>[22]</td>\n",
       "      <td>[22]</td>\n",
       "    </tr>\n",
       "    <tr>\n",
       "      <th>624</th>\n",
       "      <td>&lt;table class=\"infobox ib-spaceflight\"&gt;&lt;caption...</td>\n",
       "      <td>About 6 minutes</td>\n",
       "      <td>6 minutes</td>\n",
       "      <td>How much time elapsed between when Mars Expres...</td>\n",
       "      <td>[6]</td>\n",
       "      <td>[6]</td>\n",
       "    </tr>\n",
       "    <tr>\n",
       "      <th>1238</th>\n",
       "      <td>&lt;table class=\"infobox vcard\"&gt;&lt;tbody&gt;&lt;tr&gt;&lt;th cl...</td>\n",
       "      <td>4 Paralympic Games</td>\n",
       "      <td>4</td>\n",
       "      <td>In how many different Paralympic Games has Hen...</td>\n",
       "      <td>[4]</td>\n",
       "      <td>[4]</td>\n",
       "    </tr>\n",
       "    <tr>\n",
       "      <th>1810</th>\n",
       "      <td>&lt;table class=\"infobox\"&gt;&lt;caption class=\"infobox...</td>\n",
       "      <td>11 languages</td>\n",
       "      <td>11</td>\n",
       "      <td>In how many languages does Arkham Horror come in?</td>\n",
       "      <td>[11]</td>\n",
       "      <td>[11]</td>\n",
       "    </tr>\n",
       "    <tr>\n",
       "      <th>1633</th>\n",
       "      <td>&lt;table class=\"infobox vevent\"&gt;&lt;tbody&gt;&lt;tr&gt;&lt;th c...</td>\n",
       "      <td>1 writer</td>\n",
       "      <td>1</td>\n",
       "      <td>Number of writers foe 8 Mile?</td>\n",
       "      <td>[1]</td>\n",
       "      <td>[1]</td>\n",
       "    </tr>\n",
       "    <tr>\n",
       "      <th>1740</th>\n",
       "      <td>&lt;table class=\"infobox\" style=\"width:25.5em;bor...</td>\n",
       "      <td>4 primary users</td>\n",
       "      <td>4</td>\n",
       "      <td>The number of primary users of the PBY Catalin...</td>\n",
       "      <td>[4]</td>\n",
       "      <td>[4]</td>\n",
       "    </tr>\n",
       "    <tr>\n",
       "      <th>734</th>\n",
       "      <td>&lt;table class=\"infobox vcard\" style=\"width:23em...</td>\n",
       "      <td>2008</td>\n",
       "      <td>2008 Beijing</td>\n",
       "      <td>What Olympic Games did Novak Djokovic win a br...</td>\n",
       "      <td>[2008]</td>\n",
       "      <td>[2008]</td>\n",
       "    </tr>\n",
       "    <tr>\n",
       "      <th>1667</th>\n",
       "      <td>&lt;table class=\"infobox\" style=\"\"&gt;&lt;tbody&gt;&lt;tr&gt;&lt;th...</td>\n",
       "      <td>1,600 mm (5 ft 3 in) Irish gauge</td>\n",
       "      <td>1,600 mm(5 ft 3 in) Irish gauge</td>\n",
       "      <td>What gauge are Northern Irish railways?</td>\n",
       "      <td>[1, 600, 5, 3]</td>\n",
       "      <td>[1, 600, 5, 3]</td>\n",
       "    </tr>\n",
       "    <tr>\n",
       "      <th>1500</th>\n",
       "      <td>&lt;table class=\"infobox vevent\" style=\"width:25e...</td>\n",
       "      <td>Ranked 13th</td>\n",
       "      <td>13th</td>\n",
       "      <td>What is Hungary's rank in total medals?</td>\n",
       "      <td>[13]</td>\n",
       "      <td>[13]</td>\n",
       "    </tr>\n",
       "    <tr>\n",
       "      <th>1004</th>\n",
       "      <td>&lt;table class=\"infobox vcard\"&gt;&lt;caption class=\"i...</td>\n",
       "      <td>163 fathoms</td>\n",
       "      <td>The depth of disaster is 163 fathoms.</td>\n",
       "      <td>What is the depth of the disaster?</td>\n",
       "      <td>[163]</td>\n",
       "      <td>[163]</td>\n",
       "    </tr>\n",
       "    <tr>\n",
       "      <th>732</th>\n",
       "      <td>&lt;table class=\"infobox vcard\" style=\"width:23em...</td>\n",
       "      <td>No. 1</td>\n",
       "      <td>1</td>\n",
       "      <td>What is the highest ranging of Novak Djokovic ...</td>\n",
       "      <td>[1]</td>\n",
       "      <td>[1]</td>\n",
       "    </tr>\n",
       "    <tr>\n",
       "      <th>1717</th>\n",
       "      <td>&lt;table class=\"infobox\" style=\"width:25.5em;bor...</td>\n",
       "      <td>Maximum of 36 aircraft</td>\n",
       "      <td>36</td>\n",
       "      <td>What is the maximum number of aircrafts the IN...</td>\n",
       "      <td>[36]</td>\n",
       "      <td>[36]</td>\n",
       "    </tr>\n",
       "    <tr>\n",
       "      <th>1662</th>\n",
       "      <td>&lt;table class=\"infobox vevent\"&gt;&lt;tbody&gt;&lt;tr&gt;&lt;th c...</td>\n",
       "      <td>Seasons 5-6</td>\n",
       "      <td>5-6</td>\n",
       "      <td>What seasons of Friends did Adam Chase and Gre...</td>\n",
       "      <td>[5, 6]</td>\n",
       "      <td>[5, 6]</td>\n",
       "    </tr>\n",
       "    <tr>\n",
       "      <th>1631</th>\n",
       "      <td>&lt;table class=\"infobox vevent\"&gt;&lt;tbody&gt;&lt;tr&gt;&lt;th c...</td>\n",
       "      <td>2 editors</td>\n",
       "      <td>2</td>\n",
       "      <td>how many editors work for 8 Mile?</td>\n",
       "      <td>[2]</td>\n",
       "      <td>[2]</td>\n",
       "    </tr>\n",
       "    <tr>\n",
       "      <th>1642</th>\n",
       "      <td>&lt;table class=\"infobox vevent\"&gt;&lt;tbody&gt;&lt;tr&gt;&lt;th c...</td>\n",
       "      <td>1 language</td>\n",
       "      <td>1</td>\n",
       "      <td>how many language 8 Mile releases in?</td>\n",
       "      <td>[1]</td>\n",
       "      <td>[1]</td>\n",
       "    </tr>\n",
       "    <tr>\n",
       "      <th>566</th>\n",
       "      <td>&lt;table class=\"infobox biography vcard\"&gt;&lt;tbody&gt;...</td>\n",
       "      <td>2 spouses</td>\n",
       "      <td>2</td>\n",
       "      <td>how many spouses does Albert A. Michelson have?</td>\n",
       "      <td>[2]</td>\n",
       "      <td>[2]</td>\n",
       "    </tr>\n",
       "  </tbody>\n",
       "</table>\n",
       "</div>"
      ],
      "text/plain": [
       "                                                  table  \\\n",
       "1558  <table class=\"infobox vevent\"><caption class=\"...   \n",
       "1066  <table class=\"infobox vcard\"><caption class=\"i...   \n",
       "812   <table class=\"infobox vcard\" style=\"width:25em...   \n",
       "755   <table class=\"infobox vcard\" style=\"width:24em...   \n",
       "1456  <table class=\"infobox vevent\" style=\"width:25....   \n",
       "1334  <table class=\"infobox vcard\"><tbody><tr><th cl...   \n",
       "1314  <table class=\"infobox vcard\"><tbody><tr><th cl...   \n",
       "335   <table class=\"infobox biography vcard\" style=\"...   \n",
       "1461  <table class=\"infobox vevent\" style=\"width:25....   \n",
       "21    <html><body><table class=\"infobox biography vc...   \n",
       "1435  <table class=\"infobox vevent\" style=\"width:25....   \n",
       "773   <table class=\"infobox vcard\" style=\"width:24em...   \n",
       "655   <table class=\"infobox vcard plainlist\"><tbody>...   \n",
       "959   <table class=\"infobox vcard\"><caption class=\"i...   \n",
       "1499  <table class=\"infobox vevent\" style=\"width:25e...   \n",
       "667   <table class=\"infobox vcard plainlist\"><tbody>...   \n",
       "1784  <table class=\"infobox\"><caption class=\"infobox...   \n",
       "1824  <table class=\"infobox\"><caption class=\"infobox...   \n",
       "1157  <table class=\"infobox vcard\"><tbody><tr><th cl...   \n",
       "1636  <table class=\"infobox vevent\"><tbody><tr><th c...   \n",
       "684   <table class=\"infobox vcard\" style=\"line-heigh...   \n",
       "954   <table class=\"infobox vcard\"><caption class=\"i...   \n",
       "1870  <table class=\"infobox\"><caption class=\"infobox...   \n",
       "1794  <table class=\"infobox\"><caption class=\"infobox...   \n",
       "1506  <table class=\"infobox vevent\"><caption class=\"...   \n",
       "1543  <table class=\"infobox vevent\"><caption class=\"...   \n",
       "1413  <table class=\"infobox vevent haudio\"><tbody><t...   \n",
       "1669  <table class=\"infobox\" style=\"\"><tbody><tr><th...   \n",
       "1420  <table class=\"infobox vevent\" style=\"width:24e...   \n",
       "1081  <table class=\"infobox vcard\"><caption class=\"i...   \n",
       "1405  <table class=\"infobox vevent haudio\"><tbody><t...   \n",
       "1648  <table class=\"infobox vevent\"><tbody><tr><th c...   \n",
       "1657  <table class=\"infobox vevent\"><tbody><tr><th c...   \n",
       "624   <table class=\"infobox ib-spaceflight\"><caption...   \n",
       "1238  <table class=\"infobox vcard\"><tbody><tr><th cl...   \n",
       "1810  <table class=\"infobox\"><caption class=\"infobox...   \n",
       "1633  <table class=\"infobox vevent\"><tbody><tr><th c...   \n",
       "1740  <table class=\"infobox\" style=\"width:25.5em;bor...   \n",
       "734   <table class=\"infobox vcard\" style=\"width:23em...   \n",
       "1667  <table class=\"infobox\" style=\"\"><tbody><tr><th...   \n",
       "1500  <table class=\"infobox vevent\" style=\"width:25e...   \n",
       "1004  <table class=\"infobox vcard\"><caption class=\"i...   \n",
       "732   <table class=\"infobox vcard\" style=\"width:23em...   \n",
       "1717  <table class=\"infobox\" style=\"width:25.5em;bor...   \n",
       "1662  <table class=\"infobox vevent\"><tbody><tr><th c...   \n",
       "1631  <table class=\"infobox vevent\"><tbody><tr><th c...   \n",
       "1642  <table class=\"infobox vevent\"><tbody><tr><th c...   \n",
       "566   <table class=\"infobox biography vcard\"><tbody>...   \n",
       "\n",
       "                      predicted_answer  \\\n",
       "1558      2 (Artsakh and Transnistria)   \n",
       "1066                6 different events   \n",
       "812                         14 seasons   \n",
       "755                            8 races   \n",
       "1456    2,121,560-2,260,000 casualties   \n",
       "1334                                 5   \n",
       "1314                   8 championships   \n",
       "335                 4 different series   \n",
       "1461                      11 countries   \n",
       "21                4 different personas   \n",
       "1435                          573 APCs   \n",
       "773                      18 total wins   \n",
       "655                          5 members   \n",
       "959          41 more doctoral students   \n",
       "1499                     26 more golds   \n",
       "667                      3 occupations   \n",
       "1784                        3 editions   \n",
       "1824                         1 edition   \n",
       "1157            3 personal best scores   \n",
       "1636                       3 producers   \n",
       "684              11 professional clubs   \n",
       "954                      62 professors   \n",
       "1870                    2 publications   \n",
       "1794                     8 rev. prints   \n",
       "1506               33 in North America   \n",
       "1543                          29 shows   \n",
       "1413                         3 singles   \n",
       "1669                       18 stations   \n",
       "1420                          16 teams   \n",
       "1081                   6 silver titles   \n",
       "1405             62 minutes 12 seconds   \n",
       "1648                          £118,000   \n",
       "1657                22 minutes shorter   \n",
       "624                    About 6 minutes   \n",
       "1238                4 Paralympic Games   \n",
       "1810                      11 languages   \n",
       "1633                          1 writer   \n",
       "1740                   4 primary users   \n",
       "734                               2008   \n",
       "1667  1,600 mm (5 ft 3 in) Irish gauge   \n",
       "1500                       Ranked 13th   \n",
       "1004                       163 fathoms   \n",
       "732                              No. 1   \n",
       "1717            Maximum of 36 aircraft   \n",
       "1662                       Seasons 5-6   \n",
       "1631                         2 editors   \n",
       "1642                        1 language   \n",
       "566                          2 spouses   \n",
       "\n",
       "                                         actual_answer  \\\n",
       "1558                                                 2   \n",
       "1066                                                 6   \n",
       "812                                                 14   \n",
       "755                                                  8   \n",
       "1456                               2,121,560–2,260,000   \n",
       "1334  5, including Katherine, Patrick and Joseph Baena   \n",
       "1314                                                 8   \n",
       "335                                                  4   \n",
       "1461                                                11   \n",
       "21                                                   4   \n",
       "1435                                               573   \n",
       "773                                                 18   \n",
       "655                                                  5   \n",
       "959                                                 41   \n",
       "1499                                                26   \n",
       "667                                                  3   \n",
       "1784                                                 3   \n",
       "1824                                                 1   \n",
       "1157                                                 3   \n",
       "1636                                                 3   \n",
       "684                                                 11   \n",
       "954                                                 62   \n",
       "1870                                                 2   \n",
       "1794                                                 8   \n",
       "1506                                                33   \n",
       "1543                                                29   \n",
       "1413                                                 3   \n",
       "1669                                                18   \n",
       "1420                                                16   \n",
       "1081                                                 6   \n",
       "1405                                It might be 62:12.   \n",
       "1648                                           118,000   \n",
       "1657                                                22   \n",
       "624                                          6 minutes   \n",
       "1238                                                 4   \n",
       "1810                                                11   \n",
       "1633                                                 1   \n",
       "1740                                                 4   \n",
       "734                                       2008 Beijing   \n",
       "1667                   1,600 mm(5 ft 3 in) Irish gauge   \n",
       "1500                                              13th   \n",
       "1004             The depth of disaster is 163 fathoms.   \n",
       "732                                                  1   \n",
       "1717                                                36   \n",
       "1662                                               5-6   \n",
       "1631                                                 2   \n",
       "1642                                                 1   \n",
       "566                                                  2   \n",
       "\n",
       "                                               question  \\\n",
       "1558  Currently how many unrecognized states are sti...   \n",
       "1066  For how many different events did Charlotte At...   \n",
       "812   For how many seasons did Brooks play for Tampa...   \n",
       "755   How many NASCAR Cup Series and IndyCar Series ...   \n",
       "1456  How many allied casualties were there a year a...   \n",
       "1334    How many are children's Arnold Schwarzenegger ?   \n",
       "1314  How many championships has Murilo Bustamante a...   \n",
       "335   How many different NASCAR series has Cody Ware...   \n",
       "1461  How many different companies fought on the all...   \n",
       "21    How many different personas has professional w...   \n",
       "1435  How many fewer APC's did the Croatian side hav...   \n",
       "773   How many major open wheel races did Hinter-Rea...   \n",
       "655             How many members were in AC/DC in 2009?   \n",
       "959   How many more doctoral students than post grad...   \n",
       "1499  How many more golds than silver has Hungary wo...   \n",
       "667                How many occupations did Faith have?   \n",
       "1784  How many of the editions of The Settlers of Ca...   \n",
       "1824  How many of the editions were released in the ...   \n",
       "1157  How many personal best scores did Timoshenko a...   \n",
       "1636             How many producers did the movie have?   \n",
       "684   How many professional clubs has Nenadić played...   \n",
       "954    How many professors does Jacobs University have?   \n",
       "1870      How many publications took place in the 70's?   \n",
       "1794       How many rev. prints were there before 1993?   \n",
       "1506  How many shows are in 12th Annual Honda Civic ...   \n",
       "1543  How many shows was showed in Europe and Austra...   \n",
       "1413  How many singles were released from the 2019 C...   \n",
       "1669  How many stations stopping in Portadown/Newry ...   \n",
       "1420  How many teams are participated in Men's 4 × 2...   \n",
       "1081  How many world championships silver titles of ...   \n",
       "1405                     How much length of this movie?   \n",
       "1648  How much of a profit did 49th Parallel make of...   \n",
       "1657  How much shorter is an Access Hollywood episod...   \n",
       "624   How much time elapsed between when Mars Expres...   \n",
       "1238  In how many different Paralympic Games has Hen...   \n",
       "1810  In how many languages does Arkham Horror come in?   \n",
       "1633                      Number of writers foe 8 Mile?   \n",
       "1740  The number of primary users of the PBY Catalin...   \n",
       "734   What Olympic Games did Novak Djokovic win a br...   \n",
       "1667            What gauge are Northern Irish railways?   \n",
       "1500            What is Hungary's rank in total medals?   \n",
       "1004                 What is the depth of the disaster?   \n",
       "732   What is the highest ranging of Novak Djokovic ...   \n",
       "1717  What is the maximum number of aircrafts the IN...   \n",
       "1662  What seasons of Friends did Adam Chase and Gre...   \n",
       "1631                  how many editors work for 8 Mile?   \n",
       "1642              how many language 8 Mile releases in?   \n",
       "566     how many spouses does Albert A. Michelson have?   \n",
       "\n",
       "      predicted_answer_nums_only     actual_answer_nums_only  \n",
       "1558                         [2]                         [2]  \n",
       "1066                         [6]                         [6]  \n",
       "812                         [14]                        [14]  \n",
       "755                          [8]                         [8]  \n",
       "1456  [2, 121, 560, 2, 260, 000]  [2, 121, 560, 2, 260, 000]  \n",
       "1334                         [5]                         [5]  \n",
       "1314                         [8]                         [8]  \n",
       "335                          [4]                         [4]  \n",
       "1461                        [11]                        [11]  \n",
       "21                           [4]                         [4]  \n",
       "1435                       [573]                       [573]  \n",
       "773                         [18]                        [18]  \n",
       "655                          [5]                         [5]  \n",
       "959                         [41]                        [41]  \n",
       "1499                        [26]                        [26]  \n",
       "667                          [3]                         [3]  \n",
       "1784                         [3]                         [3]  \n",
       "1824                         [1]                         [1]  \n",
       "1157                         [3]                         [3]  \n",
       "1636                         [3]                         [3]  \n",
       "684                         [11]                        [11]  \n",
       "954                         [62]                        [62]  \n",
       "1870                         [2]                         [2]  \n",
       "1794                         [8]                         [8]  \n",
       "1506                        [33]                        [33]  \n",
       "1543                        [29]                        [29]  \n",
       "1413                         [3]                         [3]  \n",
       "1669                        [18]                        [18]  \n",
       "1420                        [16]                        [16]  \n",
       "1081                         [6]                         [6]  \n",
       "1405                    [62, 12]                    [62, 12]  \n",
       "1648                  [118, 000]                  [118, 000]  \n",
       "1657                        [22]                        [22]  \n",
       "624                          [6]                         [6]  \n",
       "1238                         [4]                         [4]  \n",
       "1810                        [11]                        [11]  \n",
       "1633                         [1]                         [1]  \n",
       "1740                         [4]                         [4]  \n",
       "734                       [2008]                      [2008]  \n",
       "1667              [1, 600, 5, 3]              [1, 600, 5, 3]  \n",
       "1500                        [13]                        [13]  \n",
       "1004                       [163]                       [163]  \n",
       "732                          [1]                         [1]  \n",
       "1717                        [36]                        [36]  \n",
       "1662                      [5, 6]                      [5, 6]  \n",
       "1631                         [2]                         [2]  \n",
       "1642                         [1]                         [1]  \n",
       "566                          [2]                         [2]  "
      ]
     },
     "execution_count": 19,
     "metadata": {},
     "output_type": "execute_result"
    }
   ],
   "source": [
    "# To get a better overview of the 71 non-temporal questions, I filter out some questions that appear more than one time. \n",
    "# The removed questions and the remaining questions shed light onto the types of questions that lead to an exact digit match but that aren't temporal\n",
    "matching_numbs_that_arent_temp.query(\n",
    "    \"~predicted_answer.str.contains('medals') \"\n",
    "    \"and ~predicted_answer.str.contains('\\$') \"\n",
    "    \"and ~predicted_answer.str.contains('awards') \"\n",
    "    \"and ~predicted_answer.str.contains('times') \"\n",
    "    \"and ~predicted_answer.str.contains('medal') \"\n",
    "    \"and ~predicted_answer.str.contains('children') \"\n",
    "    \"and ~predicted_answer.str.contains('\\%') \"\n",
    "    \"and ~predicted_answer.str.contains('million') \"\n",
    ").sort_values(\"question\")"
   ]
  },
  {
   "cell_type": "code",
   "execution_count": null,
   "metadata": {},
   "outputs": [],
   "source": []
  },
  {
   "cell_type": "markdown",
   "metadata": {},
   "source": [
    "## Evaluate QA pairs where digits are not an exact match\n",
    "Here, I am investigating questions that did not match on digits only. I intend to identify temporal question answer pairs and subsequently measure the error of the prediction by time."
   ]
  },
  {
   "cell_type": "code",
   "execution_count": 20,
   "metadata": {},
   "outputs": [],
   "source": [
    "no_digits_match = gpt4_df_extracted_nums.query(\"predicted_answer_nums_only!=actual_answer_nums_only\")"
   ]
  },
  {
   "cell_type": "code",
   "execution_count": 21,
   "metadata": {},
   "outputs": [
    {
     "data": {
      "text/html": [
       "<div>\n",
       "<style scoped>\n",
       "    .dataframe tbody tr th:only-of-type {\n",
       "        vertical-align: middle;\n",
       "    }\n",
       "\n",
       "    .dataframe tbody tr th {\n",
       "        vertical-align: top;\n",
       "    }\n",
       "\n",
       "    .dataframe thead th {\n",
       "        text-align: right;\n",
       "    }\n",
       "</style>\n",
       "<table border=\"1\" class=\"dataframe\">\n",
       "  <thead>\n",
       "    <tr style=\"text-align: right;\">\n",
       "      <th></th>\n",
       "      <th>table</th>\n",
       "      <th>predicted_answer</th>\n",
       "      <th>actual_answer</th>\n",
       "      <th>question</th>\n",
       "      <th>predicted_answer_nums_only</th>\n",
       "      <th>actual_answer_nums_only</th>\n",
       "    </tr>\n",
       "  </thead>\n",
       "  <tbody>\n",
       "    <tr>\n",
       "      <th>5</th>\n",
       "      <td>&lt;html&gt;&lt;body&gt;&lt;table class=\"infobox biography vc...</td>\n",
       "      <td>25 years</td>\n",
       "      <td>28 years</td>\n",
       "      <td>How many total years was Art Carney married to...</td>\n",
       "      <td>[25]</td>\n",
       "      <td>[28]</td>\n",
       "    </tr>\n",
       "    <tr>\n",
       "      <th>17</th>\n",
       "      <td>&lt;html&gt;&lt;body&gt;&lt;table class=\"infobox biography vc...</td>\n",
       "      <td>4 years</td>\n",
       "      <td>2</td>\n",
       "      <td>How many years prior to Cumberbatch turning 45...</td>\n",
       "      <td>[4]</td>\n",
       "      <td>[2]</td>\n",
       "    </tr>\n",
       "    <tr>\n",
       "      <th>20</th>\n",
       "      <td>&lt;html&gt;&lt;body&gt;&lt;table class=\"infobox biography vc...</td>\n",
       "      <td>8 years</td>\n",
       "      <td>23 Years</td>\n",
       "      <td>How many years did Dwayne Johnson was in wrest...</td>\n",
       "      <td>[8]</td>\n",
       "      <td>[23]</td>\n",
       "    </tr>\n",
       "    <tr>\n",
       "      <th>22</th>\n",
       "      <td>&lt;html&gt;&lt;body&gt;&lt;table class=\"infobox biography vc...</td>\n",
       "      <td>8 years (1996-2004) and sporadically thereafter</td>\n",
       "      <td>23 years</td>\n",
       "      <td>How many active years did Dwayne Johnson wrestle?</td>\n",
       "      <td>[8, 1996, 2004]</td>\n",
       "      <td>[23]</td>\n",
       "    </tr>\n",
       "    <tr>\n",
       "      <th>25</th>\n",
       "      <td>&lt;html&gt;&lt;body&gt;&lt;table class=\"infobox biography vc...</td>\n",
       "      <td>2013</td>\n",
       "      <td>2019</td>\n",
       "      <td>When was the last time that Dwayne Johnson com...</td>\n",
       "      <td>[2013]</td>\n",
       "      <td>[2019]</td>\n",
       "    </tr>\n",
       "  </tbody>\n",
       "</table>\n",
       "</div>"
      ],
      "text/plain": [
       "                                                table  \\\n",
       "5   <html><body><table class=\"infobox biography vc...   \n",
       "17  <html><body><table class=\"infobox biography vc...   \n",
       "20  <html><body><table class=\"infobox biography vc...   \n",
       "22  <html><body><table class=\"infobox biography vc...   \n",
       "25  <html><body><table class=\"infobox biography vc...   \n",
       "\n",
       "                                   predicted_answer actual_answer  \\\n",
       "5                                          25 years      28 years   \n",
       "17                                          4 years             2   \n",
       "20                                          8 years      23 Years   \n",
       "22  8 years (1996-2004) and sporadically thereafter      23 years   \n",
       "25                                             2013          2019   \n",
       "\n",
       "                                             question  \\\n",
       "5   How many total years was Art Carney married to...   \n",
       "17  How many years prior to Cumberbatch turning 45...   \n",
       "20  How many years did Dwayne Johnson was in wrest...   \n",
       "22  How many active years did Dwayne Johnson wrestle?   \n",
       "25  When was the last time that Dwayne Johnson com...   \n",
       "\n",
       "   predicted_answer_nums_only actual_answer_nums_only  \n",
       "5                        [25]                    [28]  \n",
       "17                        [4]                     [2]  \n",
       "20                        [8]                    [23]  \n",
       "22            [8, 1996, 2004]                    [23]  \n",
       "25                     [2013]                  [2019]  "
      ]
     },
     "execution_count": 21,
     "metadata": {},
     "output_type": "execute_result"
    }
   ],
   "source": [
    "no_digits_match.head()"
   ]
  },
  {
   "cell_type": "code",
   "execution_count": 22,
   "metadata": {},
   "outputs": [
    {
     "data": {
      "text/plain": [
       "(712, 6)"
      ]
     },
     "execution_count": 22,
     "metadata": {},
     "output_type": "execute_result"
    }
   ],
   "source": [
    "no_digits_match.shape"
   ]
  },
  {
   "cell_type": "markdown",
   "metadata": {},
   "source": [
    "### Evaluate error in QA pairs asking of the format \"\\d+ year\""
   ]
  },
  {
   "cell_type": "code",
   "execution_count": 23,
   "metadata": {},
   "outputs": [],
   "source": [
    "# Extract digits from list and conver to int\n",
    "# Only keep QA pairs that expect and answer in the format \\d+ years.\n",
    "no_digits_match_year_year = no_digits_match.query(\n",
    "    \"predicted_answer.str.lower().str.match('\\d+ years$') and actual_answer.str.lower().str.contains('\\d+ years$')\"\n",
    ").assign(\n",
    "    predicted_answer_nums_only_flat=lambda x: x[\"predicted_answer_nums_only\"].apply(lambda y: y[0]).astype(int),\n",
    "    actual_answer_nums_only_flat=lambda x: x[\"actual_answer_nums_only\"].apply(lambda y: y[0]).astype(int),\n",
    "    error=lambda x: x[\"predicted_answer_nums_only_flat\"] - x[\"actual_answer_nums_only_flat\"],\n",
    "    rel_error=lambda x: round((x[\"error\"] / x[\"actual_answer_nums_only_flat\"]) * 100, 2)\n",
    ")"
   ]
  },
  {
   "cell_type": "code",
   "execution_count": 24,
   "metadata": {},
   "outputs": [
    {
     "data": {
      "text/html": [
       "<div>\n",
       "<style scoped>\n",
       "    .dataframe tbody tr th:only-of-type {\n",
       "        vertical-align: middle;\n",
       "    }\n",
       "\n",
       "    .dataframe tbody tr th {\n",
       "        vertical-align: top;\n",
       "    }\n",
       "\n",
       "    .dataframe thead th {\n",
       "        text-align: right;\n",
       "    }\n",
       "</style>\n",
       "<table border=\"1\" class=\"dataframe\">\n",
       "  <thead>\n",
       "    <tr style=\"text-align: right;\">\n",
       "      <th></th>\n",
       "      <th>table</th>\n",
       "      <th>predicted_answer</th>\n",
       "      <th>actual_answer</th>\n",
       "      <th>question</th>\n",
       "      <th>predicted_answer_nums_only</th>\n",
       "      <th>actual_answer_nums_only</th>\n",
       "      <th>predicted_answer_nums_only_flat</th>\n",
       "      <th>actual_answer_nums_only_flat</th>\n",
       "      <th>error</th>\n",
       "      <th>rel_error</th>\n",
       "    </tr>\n",
       "  </thead>\n",
       "  <tbody>\n",
       "    <tr>\n",
       "      <th>5</th>\n",
       "      <td>&lt;html&gt;&lt;body&gt;&lt;table class=\"infobox biography vc...</td>\n",
       "      <td>25 years</td>\n",
       "      <td>28 years</td>\n",
       "      <td>How many total years was Art Carney married to...</td>\n",
       "      <td>[25]</td>\n",
       "      <td>[28]</td>\n",
       "      <td>25</td>\n",
       "      <td>28</td>\n",
       "      <td>-3</td>\n",
       "      <td>-10.71</td>\n",
       "    </tr>\n",
       "    <tr>\n",
       "      <th>20</th>\n",
       "      <td>&lt;html&gt;&lt;body&gt;&lt;table class=\"infobox biography vc...</td>\n",
       "      <td>8 years</td>\n",
       "      <td>23 Years</td>\n",
       "      <td>How many years did Dwayne Johnson was in wrest...</td>\n",
       "      <td>[8]</td>\n",
       "      <td>[23]</td>\n",
       "      <td>8</td>\n",
       "      <td>23</td>\n",
       "      <td>-15</td>\n",
       "      <td>-65.22</td>\n",
       "    </tr>\n",
       "    <tr>\n",
       "      <th>45</th>\n",
       "      <td>&lt;html&gt;&lt;body&gt;&lt;table class=\"infobox ib-country v...</td>\n",
       "      <td>18 years</td>\n",
       "      <td>3 years</td>\n",
       "      <td>How much longer was Habte Giyorgis prime minis...</td>\n",
       "      <td>[18]</td>\n",
       "      <td>[3]</td>\n",
       "      <td>18</td>\n",
       "      <td>3</td>\n",
       "      <td>15</td>\n",
       "      <td>500.00</td>\n",
       "    </tr>\n",
       "    <tr>\n",
       "      <th>57</th>\n",
       "      <td>&lt;html&gt;&lt;body&gt;&lt;table class=\"infobox vcard\" style...</td>\n",
       "      <td>2 years</td>\n",
       "      <td>15 years</td>\n",
       "      <td>How long after playing for Monterrey did Moham...</td>\n",
       "      <td>[2]</td>\n",
       "      <td>[15]</td>\n",
       "      <td>2</td>\n",
       "      <td>15</td>\n",
       "      <td>-13</td>\n",
       "      <td>-86.67</td>\n",
       "    </tr>\n",
       "    <tr>\n",
       "      <th>70</th>\n",
       "      <td>&lt;html&gt;&lt;body&gt;&lt;table class=\"infobox vcard\" style...</td>\n",
       "      <td>8 years</td>\n",
       "      <td>9 years</td>\n",
       "      <td>How much longer was Zidane's senior career tha...</td>\n",
       "      <td>[8]</td>\n",
       "      <td>[9]</td>\n",
       "      <td>8</td>\n",
       "      <td>9</td>\n",
       "      <td>-1</td>\n",
       "      <td>-11.11</td>\n",
       "    </tr>\n",
       "  </tbody>\n",
       "</table>\n",
       "</div>"
      ],
      "text/plain": [
       "                                                table predicted_answer  \\\n",
       "5   <html><body><table class=\"infobox biography vc...         25 years   \n",
       "20  <html><body><table class=\"infobox biography vc...          8 years   \n",
       "45  <html><body><table class=\"infobox ib-country v...         18 years   \n",
       "57  <html><body><table class=\"infobox vcard\" style...          2 years   \n",
       "70  <html><body><table class=\"infobox vcard\" style...          8 years   \n",
       "\n",
       "   actual_answer                                           question  \\\n",
       "5       28 years  How many total years was Art Carney married to...   \n",
       "20      23 Years  How many years did Dwayne Johnson was in wrest...   \n",
       "45       3 years  How much longer was Habte Giyorgis prime minis...   \n",
       "57      15 years  How long after playing for Monterrey did Moham...   \n",
       "70       9 years  How much longer was Zidane's senior career tha...   \n",
       "\n",
       "   predicted_answer_nums_only actual_answer_nums_only  \\\n",
       "5                        [25]                    [28]   \n",
       "20                        [8]                    [23]   \n",
       "45                       [18]                     [3]   \n",
       "57                        [2]                    [15]   \n",
       "70                        [8]                     [9]   \n",
       "\n",
       "    predicted_answer_nums_only_flat  actual_answer_nums_only_flat  error  \\\n",
       "5                                25                            28     -3   \n",
       "20                                8                            23    -15   \n",
       "45                               18                             3     15   \n",
       "57                                2                            15    -13   \n",
       "70                                8                             9     -1   \n",
       "\n",
       "    rel_error  \n",
       "5      -10.71  \n",
       "20     -65.22  \n",
       "45     500.00  \n",
       "57     -86.67  \n",
       "70     -11.11  "
      ]
     },
     "execution_count": 24,
     "metadata": {},
     "output_type": "execute_result"
    }
   ],
   "source": [
    "no_digits_match_year_year.head()"
   ]
  },
  {
   "cell_type": "code",
   "execution_count": 25,
   "metadata": {},
   "outputs": [
    {
     "data": {
      "text/plain": [
       "(62, 10)"
      ]
     },
     "execution_count": 25,
     "metadata": {},
     "output_type": "execute_result"
    }
   ],
   "source": [
    "no_digits_match_year_year.shape"
   ]
  },
  {
   "cell_type": "code",
   "execution_count": 26,
   "metadata": {},
   "outputs": [
    {
     "data": {
      "text/plain": [
       "error\n",
       " 1      11\n",
       "-1       9\n",
       " 10      3\n",
       "-2       3\n",
       " 4       3\n",
       "-3       2\n",
       " 3       2\n",
       " 2       2\n",
       " 12      2\n",
       "-100     2\n",
       "-6       2\n",
       " 15      2\n",
       " 6       1\n",
       " 11      1\n",
       " 8       1\n",
       "-8       1\n",
       "-9       1\n",
       "-40      1\n",
       "-10      1\n",
       "-19      1\n",
       "-18      1\n",
       "-4       1\n",
       "-39      1\n",
       " 20      1\n",
       "-38      1\n",
       " 76      1\n",
       "-15      1\n",
       " 16      1\n",
       "-34      1\n",
       "-13      1\n",
       "-24      1\n",
       "Name: count, dtype: int64"
      ]
     },
     "execution_count": 26,
     "metadata": {},
     "output_type": "execute_result"
    }
   ],
   "source": [
    "no_digits_match_year_year.loc[:, \"error\"].value_counts()"
   ]
  },
  {
   "cell_type": "code",
   "execution_count": 27,
   "metadata": {},
   "outputs": [
    {
     "data": {
      "text/plain": [
       "error\n",
       "1      20\n",
       "2       5\n",
       "3       4\n",
       "4       4\n",
       "10      4\n",
       "6       3\n",
       "15      3\n",
       "8       2\n",
       "12      2\n",
       "100     2\n",
       "34      1\n",
       "16      1\n",
       "76      1\n",
       "38      1\n",
       "20      1\n",
       "39      1\n",
       "18      1\n",
       "19      1\n",
       "40      1\n",
       "9       1\n",
       "13      1\n",
       "11      1\n",
       "24      1\n",
       "Name: count, dtype: int64"
      ]
     },
     "execution_count": 27,
     "metadata": {},
     "output_type": "execute_result"
    }
   ],
   "source": [
    "no_digits_match_year_year.loc[:, \"error\"].abs().value_counts()"
   ]
  },
  {
   "cell_type": "code",
   "execution_count": 28,
   "metadata": {},
   "outputs": [
    {
     "data": {
      "application/vnd.plotly.v1+json": {
       "config": {
        "plotlyServerURL": "https://plot.ly"
       },
       "data": [
        {
         "alignmentgroup": "True",
         "box": {
          "visible": false
         },
         "hovertemplate": "error=%{y}<extra></extra>",
         "legendgroup": "",
         "marker": {
          "color": "#636efa"
         },
         "name": "",
         "offsetgroup": "",
         "orientation": "v",
         "scalegroup": "True",
         "showlegend": false,
         "type": "violin",
         "x0": " ",
         "xaxis": "x",
         "y": {
          "bdata": "/fEP8/8P+vwBAZwBCv0KAgEK//8B/wMBAQEBBN4BBBD/DJxMBNr/FNkD7voG7f/2/9j3+AIB/gj+//4LDOg=",
          "dtype": "i1"
         },
         "y0": " ",
         "yaxis": "y"
        }
       ],
       "layout": {
        "legend": {
         "tracegroupgap": 0
        },
        "margin": {
         "t": 60
        },
        "template": {
         "data": {
          "bar": [
           {
            "error_x": {
             "color": "#2a3f5f"
            },
            "error_y": {
             "color": "#2a3f5f"
            },
            "marker": {
             "line": {
              "color": "#E5ECF6",
              "width": 0.5
             },
             "pattern": {
              "fillmode": "overlay",
              "size": 10,
              "solidity": 0.2
             }
            },
            "type": "bar"
           }
          ],
          "barpolar": [
           {
            "marker": {
             "line": {
              "color": "#E5ECF6",
              "width": 0.5
             },
             "pattern": {
              "fillmode": "overlay",
              "size": 10,
              "solidity": 0.2
             }
            },
            "type": "barpolar"
           }
          ],
          "carpet": [
           {
            "aaxis": {
             "endlinecolor": "#2a3f5f",
             "gridcolor": "white",
             "linecolor": "white",
             "minorgridcolor": "white",
             "startlinecolor": "#2a3f5f"
            },
            "baxis": {
             "endlinecolor": "#2a3f5f",
             "gridcolor": "white",
             "linecolor": "white",
             "minorgridcolor": "white",
             "startlinecolor": "#2a3f5f"
            },
            "type": "carpet"
           }
          ],
          "choropleth": [
           {
            "colorbar": {
             "outlinewidth": 0,
             "ticks": ""
            },
            "type": "choropleth"
           }
          ],
          "contour": [
           {
            "colorbar": {
             "outlinewidth": 0,
             "ticks": ""
            },
            "colorscale": [
             [
              0,
              "#0d0887"
             ],
             [
              0.1111111111111111,
              "#46039f"
             ],
             [
              0.2222222222222222,
              "#7201a8"
             ],
             [
              0.3333333333333333,
              "#9c179e"
             ],
             [
              0.4444444444444444,
              "#bd3786"
             ],
             [
              0.5555555555555556,
              "#d8576b"
             ],
             [
              0.6666666666666666,
              "#ed7953"
             ],
             [
              0.7777777777777778,
              "#fb9f3a"
             ],
             [
              0.8888888888888888,
              "#fdca26"
             ],
             [
              1,
              "#f0f921"
             ]
            ],
            "type": "contour"
           }
          ],
          "contourcarpet": [
           {
            "colorbar": {
             "outlinewidth": 0,
             "ticks": ""
            },
            "type": "contourcarpet"
           }
          ],
          "heatmap": [
           {
            "colorbar": {
             "outlinewidth": 0,
             "ticks": ""
            },
            "colorscale": [
             [
              0,
              "#0d0887"
             ],
             [
              0.1111111111111111,
              "#46039f"
             ],
             [
              0.2222222222222222,
              "#7201a8"
             ],
             [
              0.3333333333333333,
              "#9c179e"
             ],
             [
              0.4444444444444444,
              "#bd3786"
             ],
             [
              0.5555555555555556,
              "#d8576b"
             ],
             [
              0.6666666666666666,
              "#ed7953"
             ],
             [
              0.7777777777777778,
              "#fb9f3a"
             ],
             [
              0.8888888888888888,
              "#fdca26"
             ],
             [
              1,
              "#f0f921"
             ]
            ],
            "type": "heatmap"
           }
          ],
          "histogram": [
           {
            "marker": {
             "pattern": {
              "fillmode": "overlay",
              "size": 10,
              "solidity": 0.2
             }
            },
            "type": "histogram"
           }
          ],
          "histogram2d": [
           {
            "colorbar": {
             "outlinewidth": 0,
             "ticks": ""
            },
            "colorscale": [
             [
              0,
              "#0d0887"
             ],
             [
              0.1111111111111111,
              "#46039f"
             ],
             [
              0.2222222222222222,
              "#7201a8"
             ],
             [
              0.3333333333333333,
              "#9c179e"
             ],
             [
              0.4444444444444444,
              "#bd3786"
             ],
             [
              0.5555555555555556,
              "#d8576b"
             ],
             [
              0.6666666666666666,
              "#ed7953"
             ],
             [
              0.7777777777777778,
              "#fb9f3a"
             ],
             [
              0.8888888888888888,
              "#fdca26"
             ],
             [
              1,
              "#f0f921"
             ]
            ],
            "type": "histogram2d"
           }
          ],
          "histogram2dcontour": [
           {
            "colorbar": {
             "outlinewidth": 0,
             "ticks": ""
            },
            "colorscale": [
             [
              0,
              "#0d0887"
             ],
             [
              0.1111111111111111,
              "#46039f"
             ],
             [
              0.2222222222222222,
              "#7201a8"
             ],
             [
              0.3333333333333333,
              "#9c179e"
             ],
             [
              0.4444444444444444,
              "#bd3786"
             ],
             [
              0.5555555555555556,
              "#d8576b"
             ],
             [
              0.6666666666666666,
              "#ed7953"
             ],
             [
              0.7777777777777778,
              "#fb9f3a"
             ],
             [
              0.8888888888888888,
              "#fdca26"
             ],
             [
              1,
              "#f0f921"
             ]
            ],
            "type": "histogram2dcontour"
           }
          ],
          "mesh3d": [
           {
            "colorbar": {
             "outlinewidth": 0,
             "ticks": ""
            },
            "type": "mesh3d"
           }
          ],
          "parcoords": [
           {
            "line": {
             "colorbar": {
              "outlinewidth": 0,
              "ticks": ""
             }
            },
            "type": "parcoords"
           }
          ],
          "pie": [
           {
            "automargin": true,
            "type": "pie"
           }
          ],
          "scatter": [
           {
            "fillpattern": {
             "fillmode": "overlay",
             "size": 10,
             "solidity": 0.2
            },
            "type": "scatter"
           }
          ],
          "scatter3d": [
           {
            "line": {
             "colorbar": {
              "outlinewidth": 0,
              "ticks": ""
             }
            },
            "marker": {
             "colorbar": {
              "outlinewidth": 0,
              "ticks": ""
             }
            },
            "type": "scatter3d"
           }
          ],
          "scattercarpet": [
           {
            "marker": {
             "colorbar": {
              "outlinewidth": 0,
              "ticks": ""
             }
            },
            "type": "scattercarpet"
           }
          ],
          "scattergeo": [
           {
            "marker": {
             "colorbar": {
              "outlinewidth": 0,
              "ticks": ""
             }
            },
            "type": "scattergeo"
           }
          ],
          "scattergl": [
           {
            "marker": {
             "colorbar": {
              "outlinewidth": 0,
              "ticks": ""
             }
            },
            "type": "scattergl"
           }
          ],
          "scattermap": [
           {
            "marker": {
             "colorbar": {
              "outlinewidth": 0,
              "ticks": ""
             }
            },
            "type": "scattermap"
           }
          ],
          "scattermapbox": [
           {
            "marker": {
             "colorbar": {
              "outlinewidth": 0,
              "ticks": ""
             }
            },
            "type": "scattermapbox"
           }
          ],
          "scatterpolar": [
           {
            "marker": {
             "colorbar": {
              "outlinewidth": 0,
              "ticks": ""
             }
            },
            "type": "scatterpolar"
           }
          ],
          "scatterpolargl": [
           {
            "marker": {
             "colorbar": {
              "outlinewidth": 0,
              "ticks": ""
             }
            },
            "type": "scatterpolargl"
           }
          ],
          "scatterternary": [
           {
            "marker": {
             "colorbar": {
              "outlinewidth": 0,
              "ticks": ""
             }
            },
            "type": "scatterternary"
           }
          ],
          "surface": [
           {
            "colorbar": {
             "outlinewidth": 0,
             "ticks": ""
            },
            "colorscale": [
             [
              0,
              "#0d0887"
             ],
             [
              0.1111111111111111,
              "#46039f"
             ],
             [
              0.2222222222222222,
              "#7201a8"
             ],
             [
              0.3333333333333333,
              "#9c179e"
             ],
             [
              0.4444444444444444,
              "#bd3786"
             ],
             [
              0.5555555555555556,
              "#d8576b"
             ],
             [
              0.6666666666666666,
              "#ed7953"
             ],
             [
              0.7777777777777778,
              "#fb9f3a"
             ],
             [
              0.8888888888888888,
              "#fdca26"
             ],
             [
              1,
              "#f0f921"
             ]
            ],
            "type": "surface"
           }
          ],
          "table": [
           {
            "cells": {
             "fill": {
              "color": "#EBF0F8"
             },
             "line": {
              "color": "white"
             }
            },
            "header": {
             "fill": {
              "color": "#C8D4E3"
             },
             "line": {
              "color": "white"
             }
            },
            "type": "table"
           }
          ]
         },
         "layout": {
          "annotationdefaults": {
           "arrowcolor": "#2a3f5f",
           "arrowhead": 0,
           "arrowwidth": 1
          },
          "autotypenumbers": "strict",
          "coloraxis": {
           "colorbar": {
            "outlinewidth": 0,
            "ticks": ""
           }
          },
          "colorscale": {
           "diverging": [
            [
             0,
             "#8e0152"
            ],
            [
             0.1,
             "#c51b7d"
            ],
            [
             0.2,
             "#de77ae"
            ],
            [
             0.3,
             "#f1b6da"
            ],
            [
             0.4,
             "#fde0ef"
            ],
            [
             0.5,
             "#f7f7f7"
            ],
            [
             0.6,
             "#e6f5d0"
            ],
            [
             0.7,
             "#b8e186"
            ],
            [
             0.8,
             "#7fbc41"
            ],
            [
             0.9,
             "#4d9221"
            ],
            [
             1,
             "#276419"
            ]
           ],
           "sequential": [
            [
             0,
             "#0d0887"
            ],
            [
             0.1111111111111111,
             "#46039f"
            ],
            [
             0.2222222222222222,
             "#7201a8"
            ],
            [
             0.3333333333333333,
             "#9c179e"
            ],
            [
             0.4444444444444444,
             "#bd3786"
            ],
            [
             0.5555555555555556,
             "#d8576b"
            ],
            [
             0.6666666666666666,
             "#ed7953"
            ],
            [
             0.7777777777777778,
             "#fb9f3a"
            ],
            [
             0.8888888888888888,
             "#fdca26"
            ],
            [
             1,
             "#f0f921"
            ]
           ],
           "sequentialminus": [
            [
             0,
             "#0d0887"
            ],
            [
             0.1111111111111111,
             "#46039f"
            ],
            [
             0.2222222222222222,
             "#7201a8"
            ],
            [
             0.3333333333333333,
             "#9c179e"
            ],
            [
             0.4444444444444444,
             "#bd3786"
            ],
            [
             0.5555555555555556,
             "#d8576b"
            ],
            [
             0.6666666666666666,
             "#ed7953"
            ],
            [
             0.7777777777777778,
             "#fb9f3a"
            ],
            [
             0.8888888888888888,
             "#fdca26"
            ],
            [
             1,
             "#f0f921"
            ]
           ]
          },
          "colorway": [
           "#636efa",
           "#EF553B",
           "#00cc96",
           "#ab63fa",
           "#FFA15A",
           "#19d3f3",
           "#FF6692",
           "#B6E880",
           "#FF97FF",
           "#FECB52"
          ],
          "font": {
           "color": "#2a3f5f"
          },
          "geo": {
           "bgcolor": "white",
           "lakecolor": "white",
           "landcolor": "#E5ECF6",
           "showlakes": true,
           "showland": true,
           "subunitcolor": "white"
          },
          "hoverlabel": {
           "align": "left"
          },
          "hovermode": "closest",
          "mapbox": {
           "style": "light"
          },
          "paper_bgcolor": "white",
          "plot_bgcolor": "#E5ECF6",
          "polar": {
           "angularaxis": {
            "gridcolor": "white",
            "linecolor": "white",
            "ticks": ""
           },
           "bgcolor": "#E5ECF6",
           "radialaxis": {
            "gridcolor": "white",
            "linecolor": "white",
            "ticks": ""
           }
          },
          "scene": {
           "xaxis": {
            "backgroundcolor": "#E5ECF6",
            "gridcolor": "white",
            "gridwidth": 2,
            "linecolor": "white",
            "showbackground": true,
            "ticks": "",
            "zerolinecolor": "white"
           },
           "yaxis": {
            "backgroundcolor": "#E5ECF6",
            "gridcolor": "white",
            "gridwidth": 2,
            "linecolor": "white",
            "showbackground": true,
            "ticks": "",
            "zerolinecolor": "white"
           },
           "zaxis": {
            "backgroundcolor": "#E5ECF6",
            "gridcolor": "white",
            "gridwidth": 2,
            "linecolor": "white",
            "showbackground": true,
            "ticks": "",
            "zerolinecolor": "white"
           }
          },
          "shapedefaults": {
           "line": {
            "color": "#2a3f5f"
           }
          },
          "ternary": {
           "aaxis": {
            "gridcolor": "white",
            "linecolor": "white",
            "ticks": ""
           },
           "baxis": {
            "gridcolor": "white",
            "linecolor": "white",
            "ticks": ""
           },
           "bgcolor": "#E5ECF6",
           "caxis": {
            "gridcolor": "white",
            "linecolor": "white",
            "ticks": ""
           }
          },
          "title": {
           "x": 0.05
          },
          "xaxis": {
           "automargin": true,
           "gridcolor": "white",
           "linecolor": "white",
           "ticks": "",
           "title": {
            "standoff": 15
           },
           "zerolinecolor": "white",
           "zerolinewidth": 2
          },
          "yaxis": {
           "automargin": true,
           "gridcolor": "white",
           "linecolor": "white",
           "ticks": "",
           "title": {
            "standoff": 15
           },
           "zerolinecolor": "white",
           "zerolinewidth": 2
          }
         }
        },
        "violinmode": "group",
        "width": 500,
        "xaxis": {
         "anchor": "y",
         "domain": [
          0,
          1
         ]
        },
        "yaxis": {
         "anchor": "x",
         "domain": [
          0,
          1
         ],
         "title": {
          "text": "error"
         }
        }
       }
      }
     },
     "metadata": {},
     "output_type": "display_data"
    }
   ],
   "source": [
    "fig = px.violin(no_digits_match_year_year, y=\"error\")\n",
    "fig.update_layout(width=500)\n",
    "fig.show()"
   ]
  },
  {
   "cell_type": "code",
   "execution_count": 29,
   "metadata": {},
   "outputs": [
    {
     "data": {
      "application/vnd.plotly.v1+json": {
       "config": {
        "plotlyServerURL": "https://plot.ly"
       },
       "data": [
        {
         "bingroup": "x",
         "hovertemplate": "error=%{x}<br>count=%{y}<extra></extra>",
         "legendgroup": "",
         "marker": {
          "color": "#636efa",
          "pattern": {
           "shape": ""
          }
         },
         "name": "",
         "nbinsx": 50,
         "orientation": "v",
         "showlegend": false,
         "type": "histogram",
         "x": {
          "bdata": "/fEP8/8P+vwBAZwBCv0KAgEK//8B/wMBAQEBBN4BBBD/DJxMBNr/FNkD7voG7f/2/9j3+AIB/gj+//4LDOg=",
          "dtype": "i1"
         },
         "xaxis": "x",
         "yaxis": "y"
        }
       ],
       "layout": {
        "barmode": "relative",
        "legend": {
         "tracegroupgap": 0
        },
        "margin": {
         "t": 60
        },
        "template": {
         "data": {
          "bar": [
           {
            "error_x": {
             "color": "#2a3f5f"
            },
            "error_y": {
             "color": "#2a3f5f"
            },
            "marker": {
             "line": {
              "color": "#E5ECF6",
              "width": 0.5
             },
             "pattern": {
              "fillmode": "overlay",
              "size": 10,
              "solidity": 0.2
             }
            },
            "type": "bar"
           }
          ],
          "barpolar": [
           {
            "marker": {
             "line": {
              "color": "#E5ECF6",
              "width": 0.5
             },
             "pattern": {
              "fillmode": "overlay",
              "size": 10,
              "solidity": 0.2
             }
            },
            "type": "barpolar"
           }
          ],
          "carpet": [
           {
            "aaxis": {
             "endlinecolor": "#2a3f5f",
             "gridcolor": "white",
             "linecolor": "white",
             "minorgridcolor": "white",
             "startlinecolor": "#2a3f5f"
            },
            "baxis": {
             "endlinecolor": "#2a3f5f",
             "gridcolor": "white",
             "linecolor": "white",
             "minorgridcolor": "white",
             "startlinecolor": "#2a3f5f"
            },
            "type": "carpet"
           }
          ],
          "choropleth": [
           {
            "colorbar": {
             "outlinewidth": 0,
             "ticks": ""
            },
            "type": "choropleth"
           }
          ],
          "contour": [
           {
            "colorbar": {
             "outlinewidth": 0,
             "ticks": ""
            },
            "colorscale": [
             [
              0,
              "#0d0887"
             ],
             [
              0.1111111111111111,
              "#46039f"
             ],
             [
              0.2222222222222222,
              "#7201a8"
             ],
             [
              0.3333333333333333,
              "#9c179e"
             ],
             [
              0.4444444444444444,
              "#bd3786"
             ],
             [
              0.5555555555555556,
              "#d8576b"
             ],
             [
              0.6666666666666666,
              "#ed7953"
             ],
             [
              0.7777777777777778,
              "#fb9f3a"
             ],
             [
              0.8888888888888888,
              "#fdca26"
             ],
             [
              1,
              "#f0f921"
             ]
            ],
            "type": "contour"
           }
          ],
          "contourcarpet": [
           {
            "colorbar": {
             "outlinewidth": 0,
             "ticks": ""
            },
            "type": "contourcarpet"
           }
          ],
          "heatmap": [
           {
            "colorbar": {
             "outlinewidth": 0,
             "ticks": ""
            },
            "colorscale": [
             [
              0,
              "#0d0887"
             ],
             [
              0.1111111111111111,
              "#46039f"
             ],
             [
              0.2222222222222222,
              "#7201a8"
             ],
             [
              0.3333333333333333,
              "#9c179e"
             ],
             [
              0.4444444444444444,
              "#bd3786"
             ],
             [
              0.5555555555555556,
              "#d8576b"
             ],
             [
              0.6666666666666666,
              "#ed7953"
             ],
             [
              0.7777777777777778,
              "#fb9f3a"
             ],
             [
              0.8888888888888888,
              "#fdca26"
             ],
             [
              1,
              "#f0f921"
             ]
            ],
            "type": "heatmap"
           }
          ],
          "histogram": [
           {
            "marker": {
             "pattern": {
              "fillmode": "overlay",
              "size": 10,
              "solidity": 0.2
             }
            },
            "type": "histogram"
           }
          ],
          "histogram2d": [
           {
            "colorbar": {
             "outlinewidth": 0,
             "ticks": ""
            },
            "colorscale": [
             [
              0,
              "#0d0887"
             ],
             [
              0.1111111111111111,
              "#46039f"
             ],
             [
              0.2222222222222222,
              "#7201a8"
             ],
             [
              0.3333333333333333,
              "#9c179e"
             ],
             [
              0.4444444444444444,
              "#bd3786"
             ],
             [
              0.5555555555555556,
              "#d8576b"
             ],
             [
              0.6666666666666666,
              "#ed7953"
             ],
             [
              0.7777777777777778,
              "#fb9f3a"
             ],
             [
              0.8888888888888888,
              "#fdca26"
             ],
             [
              1,
              "#f0f921"
             ]
            ],
            "type": "histogram2d"
           }
          ],
          "histogram2dcontour": [
           {
            "colorbar": {
             "outlinewidth": 0,
             "ticks": ""
            },
            "colorscale": [
             [
              0,
              "#0d0887"
             ],
             [
              0.1111111111111111,
              "#46039f"
             ],
             [
              0.2222222222222222,
              "#7201a8"
             ],
             [
              0.3333333333333333,
              "#9c179e"
             ],
             [
              0.4444444444444444,
              "#bd3786"
             ],
             [
              0.5555555555555556,
              "#d8576b"
             ],
             [
              0.6666666666666666,
              "#ed7953"
             ],
             [
              0.7777777777777778,
              "#fb9f3a"
             ],
             [
              0.8888888888888888,
              "#fdca26"
             ],
             [
              1,
              "#f0f921"
             ]
            ],
            "type": "histogram2dcontour"
           }
          ],
          "mesh3d": [
           {
            "colorbar": {
             "outlinewidth": 0,
             "ticks": ""
            },
            "type": "mesh3d"
           }
          ],
          "parcoords": [
           {
            "line": {
             "colorbar": {
              "outlinewidth": 0,
              "ticks": ""
             }
            },
            "type": "parcoords"
           }
          ],
          "pie": [
           {
            "automargin": true,
            "type": "pie"
           }
          ],
          "scatter": [
           {
            "fillpattern": {
             "fillmode": "overlay",
             "size": 10,
             "solidity": 0.2
            },
            "type": "scatter"
           }
          ],
          "scatter3d": [
           {
            "line": {
             "colorbar": {
              "outlinewidth": 0,
              "ticks": ""
             }
            },
            "marker": {
             "colorbar": {
              "outlinewidth": 0,
              "ticks": ""
             }
            },
            "type": "scatter3d"
           }
          ],
          "scattercarpet": [
           {
            "marker": {
             "colorbar": {
              "outlinewidth": 0,
              "ticks": ""
             }
            },
            "type": "scattercarpet"
           }
          ],
          "scattergeo": [
           {
            "marker": {
             "colorbar": {
              "outlinewidth": 0,
              "ticks": ""
             }
            },
            "type": "scattergeo"
           }
          ],
          "scattergl": [
           {
            "marker": {
             "colorbar": {
              "outlinewidth": 0,
              "ticks": ""
             }
            },
            "type": "scattergl"
           }
          ],
          "scattermap": [
           {
            "marker": {
             "colorbar": {
              "outlinewidth": 0,
              "ticks": ""
             }
            },
            "type": "scattermap"
           }
          ],
          "scattermapbox": [
           {
            "marker": {
             "colorbar": {
              "outlinewidth": 0,
              "ticks": ""
             }
            },
            "type": "scattermapbox"
           }
          ],
          "scatterpolar": [
           {
            "marker": {
             "colorbar": {
              "outlinewidth": 0,
              "ticks": ""
             }
            },
            "type": "scatterpolar"
           }
          ],
          "scatterpolargl": [
           {
            "marker": {
             "colorbar": {
              "outlinewidth": 0,
              "ticks": ""
             }
            },
            "type": "scatterpolargl"
           }
          ],
          "scatterternary": [
           {
            "marker": {
             "colorbar": {
              "outlinewidth": 0,
              "ticks": ""
             }
            },
            "type": "scatterternary"
           }
          ],
          "surface": [
           {
            "colorbar": {
             "outlinewidth": 0,
             "ticks": ""
            },
            "colorscale": [
             [
              0,
              "#0d0887"
             ],
             [
              0.1111111111111111,
              "#46039f"
             ],
             [
              0.2222222222222222,
              "#7201a8"
             ],
             [
              0.3333333333333333,
              "#9c179e"
             ],
             [
              0.4444444444444444,
              "#bd3786"
             ],
             [
              0.5555555555555556,
              "#d8576b"
             ],
             [
              0.6666666666666666,
              "#ed7953"
             ],
             [
              0.7777777777777778,
              "#fb9f3a"
             ],
             [
              0.8888888888888888,
              "#fdca26"
             ],
             [
              1,
              "#f0f921"
             ]
            ],
            "type": "surface"
           }
          ],
          "table": [
           {
            "cells": {
             "fill": {
              "color": "#EBF0F8"
             },
             "line": {
              "color": "white"
             }
            },
            "header": {
             "fill": {
              "color": "#C8D4E3"
             },
             "line": {
              "color": "white"
             }
            },
            "type": "table"
           }
          ]
         },
         "layout": {
          "annotationdefaults": {
           "arrowcolor": "#2a3f5f",
           "arrowhead": 0,
           "arrowwidth": 1
          },
          "autotypenumbers": "strict",
          "coloraxis": {
           "colorbar": {
            "outlinewidth": 0,
            "ticks": ""
           }
          },
          "colorscale": {
           "diverging": [
            [
             0,
             "#8e0152"
            ],
            [
             0.1,
             "#c51b7d"
            ],
            [
             0.2,
             "#de77ae"
            ],
            [
             0.3,
             "#f1b6da"
            ],
            [
             0.4,
             "#fde0ef"
            ],
            [
             0.5,
             "#f7f7f7"
            ],
            [
             0.6,
             "#e6f5d0"
            ],
            [
             0.7,
             "#b8e186"
            ],
            [
             0.8,
             "#7fbc41"
            ],
            [
             0.9,
             "#4d9221"
            ],
            [
             1,
             "#276419"
            ]
           ],
           "sequential": [
            [
             0,
             "#0d0887"
            ],
            [
             0.1111111111111111,
             "#46039f"
            ],
            [
             0.2222222222222222,
             "#7201a8"
            ],
            [
             0.3333333333333333,
             "#9c179e"
            ],
            [
             0.4444444444444444,
             "#bd3786"
            ],
            [
             0.5555555555555556,
             "#d8576b"
            ],
            [
             0.6666666666666666,
             "#ed7953"
            ],
            [
             0.7777777777777778,
             "#fb9f3a"
            ],
            [
             0.8888888888888888,
             "#fdca26"
            ],
            [
             1,
             "#f0f921"
            ]
           ],
           "sequentialminus": [
            [
             0,
             "#0d0887"
            ],
            [
             0.1111111111111111,
             "#46039f"
            ],
            [
             0.2222222222222222,
             "#7201a8"
            ],
            [
             0.3333333333333333,
             "#9c179e"
            ],
            [
             0.4444444444444444,
             "#bd3786"
            ],
            [
             0.5555555555555556,
             "#d8576b"
            ],
            [
             0.6666666666666666,
             "#ed7953"
            ],
            [
             0.7777777777777778,
             "#fb9f3a"
            ],
            [
             0.8888888888888888,
             "#fdca26"
            ],
            [
             1,
             "#f0f921"
            ]
           ]
          },
          "colorway": [
           "#636efa",
           "#EF553B",
           "#00cc96",
           "#ab63fa",
           "#FFA15A",
           "#19d3f3",
           "#FF6692",
           "#B6E880",
           "#FF97FF",
           "#FECB52"
          ],
          "font": {
           "color": "#2a3f5f"
          },
          "geo": {
           "bgcolor": "white",
           "lakecolor": "white",
           "landcolor": "#E5ECF6",
           "showlakes": true,
           "showland": true,
           "subunitcolor": "white"
          },
          "hoverlabel": {
           "align": "left"
          },
          "hovermode": "closest",
          "mapbox": {
           "style": "light"
          },
          "paper_bgcolor": "white",
          "plot_bgcolor": "#E5ECF6",
          "polar": {
           "angularaxis": {
            "gridcolor": "white",
            "linecolor": "white",
            "ticks": ""
           },
           "bgcolor": "#E5ECF6",
           "radialaxis": {
            "gridcolor": "white",
            "linecolor": "white",
            "ticks": ""
           }
          },
          "scene": {
           "xaxis": {
            "backgroundcolor": "#E5ECF6",
            "gridcolor": "white",
            "gridwidth": 2,
            "linecolor": "white",
            "showbackground": true,
            "ticks": "",
            "zerolinecolor": "white"
           },
           "yaxis": {
            "backgroundcolor": "#E5ECF6",
            "gridcolor": "white",
            "gridwidth": 2,
            "linecolor": "white",
            "showbackground": true,
            "ticks": "",
            "zerolinecolor": "white"
           },
           "zaxis": {
            "backgroundcolor": "#E5ECF6",
            "gridcolor": "white",
            "gridwidth": 2,
            "linecolor": "white",
            "showbackground": true,
            "ticks": "",
            "zerolinecolor": "white"
           }
          },
          "shapedefaults": {
           "line": {
            "color": "#2a3f5f"
           }
          },
          "ternary": {
           "aaxis": {
            "gridcolor": "white",
            "linecolor": "white",
            "ticks": ""
           },
           "baxis": {
            "gridcolor": "white",
            "linecolor": "white",
            "ticks": ""
           },
           "bgcolor": "#E5ECF6",
           "caxis": {
            "gridcolor": "white",
            "linecolor": "white",
            "ticks": ""
           }
          },
          "title": {
           "x": 0.05
          },
          "xaxis": {
           "automargin": true,
           "gridcolor": "white",
           "linecolor": "white",
           "ticks": "",
           "title": {
            "standoff": 15
           },
           "zerolinecolor": "white",
           "zerolinewidth": 2
          },
          "yaxis": {
           "automargin": true,
           "gridcolor": "white",
           "linecolor": "white",
           "ticks": "",
           "title": {
            "standoff": 15
           },
           "zerolinecolor": "white",
           "zerolinewidth": 2
          }
         }
        },
        "width": 500,
        "xaxis": {
         "anchor": "y",
         "domain": [
          0,
          1
         ],
         "title": {
          "text": "error"
         }
        },
        "yaxis": {
         "anchor": "x",
         "domain": [
          0,
          1
         ],
         "title": {
          "text": "count"
         }
        }
       }
      }
     },
     "metadata": {},
     "output_type": "display_data"
    }
   ],
   "source": [
    "fig = px.histogram(no_digits_match_year_year,nbins=50, x=\"error\")\n",
    "fig.update_layout(width=500)\n",
    "fig.show()"
   ]
  },
  {
   "cell_type": "code",
   "execution_count": 30,
   "metadata": {},
   "outputs": [
    {
     "data": {
      "application/vnd.plotly.v1+json": {
       "config": {
        "plotlyServerURL": "https://plot.ly"
       },
       "data": [
        {
         "alignmentgroup": "True",
         "hovertemplate": "rel_error=%{y}<extra></extra>",
         "legendgroup": "",
         "marker": {
          "color": "#636efa"
         },
         "name": "",
         "notched": false,
         "offsetgroup": "",
         "orientation": "v",
         "showlegend": false,
         "type": "box",
         "x0": " ",
         "xaxis": "x",
         "y": {
          "bdata": "7FG4HoVrJcCuR+F6FE5QwAAAAAAAQH9AexSuR+GqVcC4HoXrUTgmwAAAAAAAAFlAAAAAAADAUsDNzMzMzAwzwArXo3A9qkBAj8L1KFyPHEA9CtejcB1SwBSuR+F6lCxAAAAAAABAb0AAAAAAAAA5wAAAAAAAQG9AexSuR+GqUEAK16NwPapAQFK4HoXrkTxACtejcD0KAcC4HoXrUTgmwLgehetROCZAFK5H4XqULMAAAAAAAMBiQArXo3A9qkBAAAAAAAAAOUAUrkfhepQsQAAAAAAAAClAuB6F61E4RkApXI/C9fhWwArXo3A9qkBAAAAAAAAAaUDD9Shcj6pgQNejcD0K19O/7FG4HoXrLEAfhetRuB5OwM3MzMzMzD9AUrgeheuRPEDXo3A9CpdVwArXo3A9qkDAAAAAAABAj0BI4XoUrsdXwBSuR+F6lC9AAAAAAACAVsAAAAAAAAA5wAAAAAAAAD5ACtejcD2qT8CkcD0K16MKwHsUrkfhOlPAAAAAAAAAKcCPwvUoXM9XwBSuR+F6dFTAPQrXo3A9OMB7FK5H4apQQArXo3A9qkBAAAAAAAAAWcAAAAAAAAB5QClcj8L1qCrACtejcD0KE8DsUbgehaswwAAAAAAAMHFAAAAAAAAAaUAAAAAAAABOwA==",
          "dtype": "f8"
         },
         "y0": " ",
         "yaxis": "y"
        }
       ],
       "layout": {
        "boxmode": "group",
        "legend": {
         "tracegroupgap": 0
        },
        "margin": {
         "t": 60
        },
        "template": {
         "data": {
          "bar": [
           {
            "error_x": {
             "color": "#2a3f5f"
            },
            "error_y": {
             "color": "#2a3f5f"
            },
            "marker": {
             "line": {
              "color": "#E5ECF6",
              "width": 0.5
             },
             "pattern": {
              "fillmode": "overlay",
              "size": 10,
              "solidity": 0.2
             }
            },
            "type": "bar"
           }
          ],
          "barpolar": [
           {
            "marker": {
             "line": {
              "color": "#E5ECF6",
              "width": 0.5
             },
             "pattern": {
              "fillmode": "overlay",
              "size": 10,
              "solidity": 0.2
             }
            },
            "type": "barpolar"
           }
          ],
          "carpet": [
           {
            "aaxis": {
             "endlinecolor": "#2a3f5f",
             "gridcolor": "white",
             "linecolor": "white",
             "minorgridcolor": "white",
             "startlinecolor": "#2a3f5f"
            },
            "baxis": {
             "endlinecolor": "#2a3f5f",
             "gridcolor": "white",
             "linecolor": "white",
             "minorgridcolor": "white",
             "startlinecolor": "#2a3f5f"
            },
            "type": "carpet"
           }
          ],
          "choropleth": [
           {
            "colorbar": {
             "outlinewidth": 0,
             "ticks": ""
            },
            "type": "choropleth"
           }
          ],
          "contour": [
           {
            "colorbar": {
             "outlinewidth": 0,
             "ticks": ""
            },
            "colorscale": [
             [
              0,
              "#0d0887"
             ],
             [
              0.1111111111111111,
              "#46039f"
             ],
             [
              0.2222222222222222,
              "#7201a8"
             ],
             [
              0.3333333333333333,
              "#9c179e"
             ],
             [
              0.4444444444444444,
              "#bd3786"
             ],
             [
              0.5555555555555556,
              "#d8576b"
             ],
             [
              0.6666666666666666,
              "#ed7953"
             ],
             [
              0.7777777777777778,
              "#fb9f3a"
             ],
             [
              0.8888888888888888,
              "#fdca26"
             ],
             [
              1,
              "#f0f921"
             ]
            ],
            "type": "contour"
           }
          ],
          "contourcarpet": [
           {
            "colorbar": {
             "outlinewidth": 0,
             "ticks": ""
            },
            "type": "contourcarpet"
           }
          ],
          "heatmap": [
           {
            "colorbar": {
             "outlinewidth": 0,
             "ticks": ""
            },
            "colorscale": [
             [
              0,
              "#0d0887"
             ],
             [
              0.1111111111111111,
              "#46039f"
             ],
             [
              0.2222222222222222,
              "#7201a8"
             ],
             [
              0.3333333333333333,
              "#9c179e"
             ],
             [
              0.4444444444444444,
              "#bd3786"
             ],
             [
              0.5555555555555556,
              "#d8576b"
             ],
             [
              0.6666666666666666,
              "#ed7953"
             ],
             [
              0.7777777777777778,
              "#fb9f3a"
             ],
             [
              0.8888888888888888,
              "#fdca26"
             ],
             [
              1,
              "#f0f921"
             ]
            ],
            "type": "heatmap"
           }
          ],
          "histogram": [
           {
            "marker": {
             "pattern": {
              "fillmode": "overlay",
              "size": 10,
              "solidity": 0.2
             }
            },
            "type": "histogram"
           }
          ],
          "histogram2d": [
           {
            "colorbar": {
             "outlinewidth": 0,
             "ticks": ""
            },
            "colorscale": [
             [
              0,
              "#0d0887"
             ],
             [
              0.1111111111111111,
              "#46039f"
             ],
             [
              0.2222222222222222,
              "#7201a8"
             ],
             [
              0.3333333333333333,
              "#9c179e"
             ],
             [
              0.4444444444444444,
              "#bd3786"
             ],
             [
              0.5555555555555556,
              "#d8576b"
             ],
             [
              0.6666666666666666,
              "#ed7953"
             ],
             [
              0.7777777777777778,
              "#fb9f3a"
             ],
             [
              0.8888888888888888,
              "#fdca26"
             ],
             [
              1,
              "#f0f921"
             ]
            ],
            "type": "histogram2d"
           }
          ],
          "histogram2dcontour": [
           {
            "colorbar": {
             "outlinewidth": 0,
             "ticks": ""
            },
            "colorscale": [
             [
              0,
              "#0d0887"
             ],
             [
              0.1111111111111111,
              "#46039f"
             ],
             [
              0.2222222222222222,
              "#7201a8"
             ],
             [
              0.3333333333333333,
              "#9c179e"
             ],
             [
              0.4444444444444444,
              "#bd3786"
             ],
             [
              0.5555555555555556,
              "#d8576b"
             ],
             [
              0.6666666666666666,
              "#ed7953"
             ],
             [
              0.7777777777777778,
              "#fb9f3a"
             ],
             [
              0.8888888888888888,
              "#fdca26"
             ],
             [
              1,
              "#f0f921"
             ]
            ],
            "type": "histogram2dcontour"
           }
          ],
          "mesh3d": [
           {
            "colorbar": {
             "outlinewidth": 0,
             "ticks": ""
            },
            "type": "mesh3d"
           }
          ],
          "parcoords": [
           {
            "line": {
             "colorbar": {
              "outlinewidth": 0,
              "ticks": ""
             }
            },
            "type": "parcoords"
           }
          ],
          "pie": [
           {
            "automargin": true,
            "type": "pie"
           }
          ],
          "scatter": [
           {
            "fillpattern": {
             "fillmode": "overlay",
             "size": 10,
             "solidity": 0.2
            },
            "type": "scatter"
           }
          ],
          "scatter3d": [
           {
            "line": {
             "colorbar": {
              "outlinewidth": 0,
              "ticks": ""
             }
            },
            "marker": {
             "colorbar": {
              "outlinewidth": 0,
              "ticks": ""
             }
            },
            "type": "scatter3d"
           }
          ],
          "scattercarpet": [
           {
            "marker": {
             "colorbar": {
              "outlinewidth": 0,
              "ticks": ""
             }
            },
            "type": "scattercarpet"
           }
          ],
          "scattergeo": [
           {
            "marker": {
             "colorbar": {
              "outlinewidth": 0,
              "ticks": ""
             }
            },
            "type": "scattergeo"
           }
          ],
          "scattergl": [
           {
            "marker": {
             "colorbar": {
              "outlinewidth": 0,
              "ticks": ""
             }
            },
            "type": "scattergl"
           }
          ],
          "scattermap": [
           {
            "marker": {
             "colorbar": {
              "outlinewidth": 0,
              "ticks": ""
             }
            },
            "type": "scattermap"
           }
          ],
          "scattermapbox": [
           {
            "marker": {
             "colorbar": {
              "outlinewidth": 0,
              "ticks": ""
             }
            },
            "type": "scattermapbox"
           }
          ],
          "scatterpolar": [
           {
            "marker": {
             "colorbar": {
              "outlinewidth": 0,
              "ticks": ""
             }
            },
            "type": "scatterpolar"
           }
          ],
          "scatterpolargl": [
           {
            "marker": {
             "colorbar": {
              "outlinewidth": 0,
              "ticks": ""
             }
            },
            "type": "scatterpolargl"
           }
          ],
          "scatterternary": [
           {
            "marker": {
             "colorbar": {
              "outlinewidth": 0,
              "ticks": ""
             }
            },
            "type": "scatterternary"
           }
          ],
          "surface": [
           {
            "colorbar": {
             "outlinewidth": 0,
             "ticks": ""
            },
            "colorscale": [
             [
              0,
              "#0d0887"
             ],
             [
              0.1111111111111111,
              "#46039f"
             ],
             [
              0.2222222222222222,
              "#7201a8"
             ],
             [
              0.3333333333333333,
              "#9c179e"
             ],
             [
              0.4444444444444444,
              "#bd3786"
             ],
             [
              0.5555555555555556,
              "#d8576b"
             ],
             [
              0.6666666666666666,
              "#ed7953"
             ],
             [
              0.7777777777777778,
              "#fb9f3a"
             ],
             [
              0.8888888888888888,
              "#fdca26"
             ],
             [
              1,
              "#f0f921"
             ]
            ],
            "type": "surface"
           }
          ],
          "table": [
           {
            "cells": {
             "fill": {
              "color": "#EBF0F8"
             },
             "line": {
              "color": "white"
             }
            },
            "header": {
             "fill": {
              "color": "#C8D4E3"
             },
             "line": {
              "color": "white"
             }
            },
            "type": "table"
           }
          ]
         },
         "layout": {
          "annotationdefaults": {
           "arrowcolor": "#2a3f5f",
           "arrowhead": 0,
           "arrowwidth": 1
          },
          "autotypenumbers": "strict",
          "coloraxis": {
           "colorbar": {
            "outlinewidth": 0,
            "ticks": ""
           }
          },
          "colorscale": {
           "diverging": [
            [
             0,
             "#8e0152"
            ],
            [
             0.1,
             "#c51b7d"
            ],
            [
             0.2,
             "#de77ae"
            ],
            [
             0.3,
             "#f1b6da"
            ],
            [
             0.4,
             "#fde0ef"
            ],
            [
             0.5,
             "#f7f7f7"
            ],
            [
             0.6,
             "#e6f5d0"
            ],
            [
             0.7,
             "#b8e186"
            ],
            [
             0.8,
             "#7fbc41"
            ],
            [
             0.9,
             "#4d9221"
            ],
            [
             1,
             "#276419"
            ]
           ],
           "sequential": [
            [
             0,
             "#0d0887"
            ],
            [
             0.1111111111111111,
             "#46039f"
            ],
            [
             0.2222222222222222,
             "#7201a8"
            ],
            [
             0.3333333333333333,
             "#9c179e"
            ],
            [
             0.4444444444444444,
             "#bd3786"
            ],
            [
             0.5555555555555556,
             "#d8576b"
            ],
            [
             0.6666666666666666,
             "#ed7953"
            ],
            [
             0.7777777777777778,
             "#fb9f3a"
            ],
            [
             0.8888888888888888,
             "#fdca26"
            ],
            [
             1,
             "#f0f921"
            ]
           ],
           "sequentialminus": [
            [
             0,
             "#0d0887"
            ],
            [
             0.1111111111111111,
             "#46039f"
            ],
            [
             0.2222222222222222,
             "#7201a8"
            ],
            [
             0.3333333333333333,
             "#9c179e"
            ],
            [
             0.4444444444444444,
             "#bd3786"
            ],
            [
             0.5555555555555556,
             "#d8576b"
            ],
            [
             0.6666666666666666,
             "#ed7953"
            ],
            [
             0.7777777777777778,
             "#fb9f3a"
            ],
            [
             0.8888888888888888,
             "#fdca26"
            ],
            [
             1,
             "#f0f921"
            ]
           ]
          },
          "colorway": [
           "#636efa",
           "#EF553B",
           "#00cc96",
           "#ab63fa",
           "#FFA15A",
           "#19d3f3",
           "#FF6692",
           "#B6E880",
           "#FF97FF",
           "#FECB52"
          ],
          "font": {
           "color": "#2a3f5f"
          },
          "geo": {
           "bgcolor": "white",
           "lakecolor": "white",
           "landcolor": "#E5ECF6",
           "showlakes": true,
           "showland": true,
           "subunitcolor": "white"
          },
          "hoverlabel": {
           "align": "left"
          },
          "hovermode": "closest",
          "mapbox": {
           "style": "light"
          },
          "paper_bgcolor": "white",
          "plot_bgcolor": "#E5ECF6",
          "polar": {
           "angularaxis": {
            "gridcolor": "white",
            "linecolor": "white",
            "ticks": ""
           },
           "bgcolor": "#E5ECF6",
           "radialaxis": {
            "gridcolor": "white",
            "linecolor": "white",
            "ticks": ""
           }
          },
          "scene": {
           "xaxis": {
            "backgroundcolor": "#E5ECF6",
            "gridcolor": "white",
            "gridwidth": 2,
            "linecolor": "white",
            "showbackground": true,
            "ticks": "",
            "zerolinecolor": "white"
           },
           "yaxis": {
            "backgroundcolor": "#E5ECF6",
            "gridcolor": "white",
            "gridwidth": 2,
            "linecolor": "white",
            "showbackground": true,
            "ticks": "",
            "zerolinecolor": "white"
           },
           "zaxis": {
            "backgroundcolor": "#E5ECF6",
            "gridcolor": "white",
            "gridwidth": 2,
            "linecolor": "white",
            "showbackground": true,
            "ticks": "",
            "zerolinecolor": "white"
           }
          },
          "shapedefaults": {
           "line": {
            "color": "#2a3f5f"
           }
          },
          "ternary": {
           "aaxis": {
            "gridcolor": "white",
            "linecolor": "white",
            "ticks": ""
           },
           "baxis": {
            "gridcolor": "white",
            "linecolor": "white",
            "ticks": ""
           },
           "bgcolor": "#E5ECF6",
           "caxis": {
            "gridcolor": "white",
            "linecolor": "white",
            "ticks": ""
           }
          },
          "title": {
           "x": 0.05
          },
          "xaxis": {
           "automargin": true,
           "gridcolor": "white",
           "linecolor": "white",
           "ticks": "",
           "title": {
            "standoff": 15
           },
           "zerolinecolor": "white",
           "zerolinewidth": 2
          },
          "yaxis": {
           "automargin": true,
           "gridcolor": "white",
           "linecolor": "white",
           "ticks": "",
           "title": {
            "standoff": 15
           },
           "zerolinecolor": "white",
           "zerolinewidth": 2
          }
         }
        },
        "width": 500,
        "xaxis": {
         "anchor": "y",
         "domain": [
          0,
          1
         ]
        },
        "yaxis": {
         "anchor": "x",
         "domain": [
          0,
          1
         ],
         "title": {
          "text": "rel_error"
         }
        }
       }
      }
     },
     "metadata": {},
     "output_type": "display_data"
    }
   ],
   "source": [
    "fig = px.box(no_digits_match_year_year, y=\"rel_error\")\n",
    "fig.update_layout(width=500)\n",
    "fig.show()"
   ]
  },
  {
   "cell_type": "code",
   "execution_count": 31,
   "metadata": {},
   "outputs": [],
   "source": [
    "no_digits_match_one_digit_one_digit = no_digits_match.query(\n",
    "    \"~(predicted_answer.str.lower().str.match('\\d+ years$') and actual_answer.str.lower().str.contains('\\d+ years$')) \"\n",
    "    \"and question.str.lower().str.startswith('how many years') \"\n",
    "    \"and predicted_answer_nums_only.str.len() == 1 \"\n",
    "    \"and actual_answer_nums_only.str.len() == 1 \"\n",
    ").assign(\n",
    "    predicted_answer_nums_only_flat=lambda x: x[\"predicted_answer_nums_only\"].apply(lambda y: y[0]).astype(int),\n",
    "    actual_answer_nums_only_flat=lambda x: x[\"actual_answer_nums_only\"].apply(lambda y: y[0]).astype(int),\n",
    "    error=lambda x: x[\"predicted_answer_nums_only_flat\"] - x[\"actual_answer_nums_only_flat\"],\n",
    "    rel_error=lambda x: round((x[\"error\"] / x[\"actual_answer_nums_only_flat\"]) * 100, 2)\n",
    ")"
   ]
  },
  {
   "cell_type": "code",
   "execution_count": 32,
   "metadata": {},
   "outputs": [
    {
     "data": {
      "text/html": [
       "<div>\n",
       "<style scoped>\n",
       "    .dataframe tbody tr th:only-of-type {\n",
       "        vertical-align: middle;\n",
       "    }\n",
       "\n",
       "    .dataframe tbody tr th {\n",
       "        vertical-align: top;\n",
       "    }\n",
       "\n",
       "    .dataframe thead th {\n",
       "        text-align: right;\n",
       "    }\n",
       "</style>\n",
       "<table border=\"1\" class=\"dataframe\">\n",
       "  <thead>\n",
       "    <tr style=\"text-align: right;\">\n",
       "      <th></th>\n",
       "      <th>table</th>\n",
       "      <th>predicted_answer</th>\n",
       "      <th>actual_answer</th>\n",
       "      <th>question</th>\n",
       "      <th>predicted_answer_nums_only</th>\n",
       "      <th>actual_answer_nums_only</th>\n",
       "      <th>predicted_answer_nums_only_flat</th>\n",
       "      <th>actual_answer_nums_only_flat</th>\n",
       "      <th>error</th>\n",
       "      <th>rel_error</th>\n",
       "    </tr>\n",
       "  </thead>\n",
       "  <tbody>\n",
       "    <tr>\n",
       "      <th>17</th>\n",
       "      <td>&lt;html&gt;&lt;body&gt;&lt;table class=\"infobox biography vc...</td>\n",
       "      <td>4 years</td>\n",
       "      <td>2</td>\n",
       "      <td>How many years prior to Cumberbatch turning 45...</td>\n",
       "      <td>[4]</td>\n",
       "      <td>[2]</td>\n",
       "      <td>4</td>\n",
       "      <td>2</td>\n",
       "      <td>2</td>\n",
       "      <td>100.00</td>\n",
       "    </tr>\n",
       "    <tr>\n",
       "      <th>26</th>\n",
       "      <td>&lt;html&gt;&lt;body&gt;&lt;table class=\"infobox biography vc...</td>\n",
       "      <td>8 years (active wrestling)</td>\n",
       "      <td>23</td>\n",
       "      <td>How many years long was Dwayne Johnson's profe...</td>\n",
       "      <td>[8]</td>\n",
       "      <td>[23]</td>\n",
       "      <td>8</td>\n",
       "      <td>23</td>\n",
       "      <td>-15</td>\n",
       "      <td>-65.22</td>\n",
       "    </tr>\n",
       "    <tr>\n",
       "      <th>47</th>\n",
       "      <td>&lt;html&gt;&lt;body&gt;&lt;table class=\"infobox ib-country v...</td>\n",
       "      <td>1871</td>\n",
       "      <td>601</td>\n",
       "      <td>How many years after the Ethiopian was first e...</td>\n",
       "      <td>[1871]</td>\n",
       "      <td>[601]</td>\n",
       "      <td>1871</td>\n",
       "      <td>601</td>\n",
       "      <td>1270</td>\n",
       "      <td>211.31</td>\n",
       "    </tr>\n",
       "    <tr>\n",
       "      <th>67</th>\n",
       "      <td>&lt;html&gt;&lt;body&gt;&lt;table class=\"infobox vcard\" style...</td>\n",
       "      <td>8 years</td>\n",
       "      <td>9</td>\n",
       "      <td>How many years did Zinedine Zidane spend in th...</td>\n",
       "      <td>[8]</td>\n",
       "      <td>[9]</td>\n",
       "      <td>8</td>\n",
       "      <td>9</td>\n",
       "      <td>-1</td>\n",
       "      <td>-11.11</td>\n",
       "    </tr>\n",
       "    <tr>\n",
       "      <th>103</th>\n",
       "      <td>&lt;html&gt;&lt;body&gt;&lt;table class=\"infobox vcard\" style...</td>\n",
       "      <td>35 years</td>\n",
       "      <td>31</td>\n",
       "      <td>How many years after winning his first competi...</td>\n",
       "      <td>[35]</td>\n",
       "      <td>[31]</td>\n",
       "      <td>35</td>\n",
       "      <td>31</td>\n",
       "      <td>4</td>\n",
       "      <td>12.90</td>\n",
       "    </tr>\n",
       "  </tbody>\n",
       "</table>\n",
       "</div>"
      ],
      "text/plain": [
       "                                                 table  \\\n",
       "17   <html><body><table class=\"infobox biography vc...   \n",
       "26   <html><body><table class=\"infobox biography vc...   \n",
       "47   <html><body><table class=\"infobox ib-country v...   \n",
       "67   <html><body><table class=\"infobox vcard\" style...   \n",
       "103  <html><body><table class=\"infobox vcard\" style...   \n",
       "\n",
       "               predicted_answer actual_answer  \\\n",
       "17                      4 years             2   \n",
       "26   8 years (active wrestling)            23   \n",
       "47                         1871           601   \n",
       "67                      8 years             9   \n",
       "103                    35 years            31   \n",
       "\n",
       "                                              question  \\\n",
       "17   How many years prior to Cumberbatch turning 45...   \n",
       "26   How many years long was Dwayne Johnson's profe...   \n",
       "47   How many years after the Ethiopian was first e...   \n",
       "67   How many years did Zinedine Zidane spend in th...   \n",
       "103  How many years after winning his first competi...   \n",
       "\n",
       "    predicted_answer_nums_only actual_answer_nums_only  \\\n",
       "17                         [4]                     [2]   \n",
       "26                         [8]                    [23]   \n",
       "47                      [1871]                   [601]   \n",
       "67                         [8]                     [9]   \n",
       "103                       [35]                    [31]   \n",
       "\n",
       "     predicted_answer_nums_only_flat  actual_answer_nums_only_flat  error  \\\n",
       "17                                 4                             2      2   \n",
       "26                                 8                            23    -15   \n",
       "47                              1871                           601   1270   \n",
       "67                                 8                             9     -1   \n",
       "103                               35                            31      4   \n",
       "\n",
       "     rel_error  \n",
       "17      100.00  \n",
       "26      -65.22  \n",
       "47      211.31  \n",
       "67      -11.11  \n",
       "103      12.90  "
      ]
     },
     "execution_count": 32,
     "metadata": {},
     "output_type": "execute_result"
    }
   ],
   "source": [
    "no_digits_match_one_digit_one_digit.head()"
   ]
  },
  {
   "cell_type": "code",
   "execution_count": 33,
   "metadata": {},
   "outputs": [
    {
     "data": {
      "text/plain": [
       "(50, 10)"
      ]
     },
     "execution_count": 33,
     "metadata": {},
     "output_type": "execute_result"
    }
   ],
   "source": [
    "no_digits_match_one_digit_one_digit.shape"
   ]
  },
  {
   "cell_type": "code",
   "execution_count": 34,
   "metadata": {},
   "outputs": [
    {
     "data": {
      "application/vnd.plotly.v1+json": {
       "config": {
        "plotlyServerURL": "https://plot.ly"
       },
       "data": [
        {
         "bingroup": "x",
         "hovertemplate": "error=%{x}<br>count=%{y}<extra></extra>",
         "legendgroup": "",
         "marker": {
          "color": "#636efa",
          "pattern": {
           "shape": ""
          }
         },
         "name": "",
         "nbinsx": 50,
         "orientation": "v",
         "showlegend": false,
         "type": "histogram",
         "x": {
          "bdata": "AgDx//YE//8EAPn//P8BACEAAwAEAP/////+/wYAAgAQAA4ACgD5/wMAAQAHAP//EADaB9z8AgDT/5gH//8KAP////8BAAEA//8EAP//CgAJAPj////T////AwAKANb/0AcPAA==",
          "dtype": "i2"
         },
         "xaxis": "x",
         "yaxis": "y"
        }
       ],
       "layout": {
        "barmode": "relative",
        "legend": {
         "tracegroupgap": 0
        },
        "margin": {
         "t": 60
        },
        "template": {
         "data": {
          "bar": [
           {
            "error_x": {
             "color": "#2a3f5f"
            },
            "error_y": {
             "color": "#2a3f5f"
            },
            "marker": {
             "line": {
              "color": "#E5ECF6",
              "width": 0.5
             },
             "pattern": {
              "fillmode": "overlay",
              "size": 10,
              "solidity": 0.2
             }
            },
            "type": "bar"
           }
          ],
          "barpolar": [
           {
            "marker": {
             "line": {
              "color": "#E5ECF6",
              "width": 0.5
             },
             "pattern": {
              "fillmode": "overlay",
              "size": 10,
              "solidity": 0.2
             }
            },
            "type": "barpolar"
           }
          ],
          "carpet": [
           {
            "aaxis": {
             "endlinecolor": "#2a3f5f",
             "gridcolor": "white",
             "linecolor": "white",
             "minorgridcolor": "white",
             "startlinecolor": "#2a3f5f"
            },
            "baxis": {
             "endlinecolor": "#2a3f5f",
             "gridcolor": "white",
             "linecolor": "white",
             "minorgridcolor": "white",
             "startlinecolor": "#2a3f5f"
            },
            "type": "carpet"
           }
          ],
          "choropleth": [
           {
            "colorbar": {
             "outlinewidth": 0,
             "ticks": ""
            },
            "type": "choropleth"
           }
          ],
          "contour": [
           {
            "colorbar": {
             "outlinewidth": 0,
             "ticks": ""
            },
            "colorscale": [
             [
              0,
              "#0d0887"
             ],
             [
              0.1111111111111111,
              "#46039f"
             ],
             [
              0.2222222222222222,
              "#7201a8"
             ],
             [
              0.3333333333333333,
              "#9c179e"
             ],
             [
              0.4444444444444444,
              "#bd3786"
             ],
             [
              0.5555555555555556,
              "#d8576b"
             ],
             [
              0.6666666666666666,
              "#ed7953"
             ],
             [
              0.7777777777777778,
              "#fb9f3a"
             ],
             [
              0.8888888888888888,
              "#fdca26"
             ],
             [
              1,
              "#f0f921"
             ]
            ],
            "type": "contour"
           }
          ],
          "contourcarpet": [
           {
            "colorbar": {
             "outlinewidth": 0,
             "ticks": ""
            },
            "type": "contourcarpet"
           }
          ],
          "heatmap": [
           {
            "colorbar": {
             "outlinewidth": 0,
             "ticks": ""
            },
            "colorscale": [
             [
              0,
              "#0d0887"
             ],
             [
              0.1111111111111111,
              "#46039f"
             ],
             [
              0.2222222222222222,
              "#7201a8"
             ],
             [
              0.3333333333333333,
              "#9c179e"
             ],
             [
              0.4444444444444444,
              "#bd3786"
             ],
             [
              0.5555555555555556,
              "#d8576b"
             ],
             [
              0.6666666666666666,
              "#ed7953"
             ],
             [
              0.7777777777777778,
              "#fb9f3a"
             ],
             [
              0.8888888888888888,
              "#fdca26"
             ],
             [
              1,
              "#f0f921"
             ]
            ],
            "type": "heatmap"
           }
          ],
          "histogram": [
           {
            "marker": {
             "pattern": {
              "fillmode": "overlay",
              "size": 10,
              "solidity": 0.2
             }
            },
            "type": "histogram"
           }
          ],
          "histogram2d": [
           {
            "colorbar": {
             "outlinewidth": 0,
             "ticks": ""
            },
            "colorscale": [
             [
              0,
              "#0d0887"
             ],
             [
              0.1111111111111111,
              "#46039f"
             ],
             [
              0.2222222222222222,
              "#7201a8"
             ],
             [
              0.3333333333333333,
              "#9c179e"
             ],
             [
              0.4444444444444444,
              "#bd3786"
             ],
             [
              0.5555555555555556,
              "#d8576b"
             ],
             [
              0.6666666666666666,
              "#ed7953"
             ],
             [
              0.7777777777777778,
              "#fb9f3a"
             ],
             [
              0.8888888888888888,
              "#fdca26"
             ],
             [
              1,
              "#f0f921"
             ]
            ],
            "type": "histogram2d"
           }
          ],
          "histogram2dcontour": [
           {
            "colorbar": {
             "outlinewidth": 0,
             "ticks": ""
            },
            "colorscale": [
             [
              0,
              "#0d0887"
             ],
             [
              0.1111111111111111,
              "#46039f"
             ],
             [
              0.2222222222222222,
              "#7201a8"
             ],
             [
              0.3333333333333333,
              "#9c179e"
             ],
             [
              0.4444444444444444,
              "#bd3786"
             ],
             [
              0.5555555555555556,
              "#d8576b"
             ],
             [
              0.6666666666666666,
              "#ed7953"
             ],
             [
              0.7777777777777778,
              "#fb9f3a"
             ],
             [
              0.8888888888888888,
              "#fdca26"
             ],
             [
              1,
              "#f0f921"
             ]
            ],
            "type": "histogram2dcontour"
           }
          ],
          "mesh3d": [
           {
            "colorbar": {
             "outlinewidth": 0,
             "ticks": ""
            },
            "type": "mesh3d"
           }
          ],
          "parcoords": [
           {
            "line": {
             "colorbar": {
              "outlinewidth": 0,
              "ticks": ""
             }
            },
            "type": "parcoords"
           }
          ],
          "pie": [
           {
            "automargin": true,
            "type": "pie"
           }
          ],
          "scatter": [
           {
            "fillpattern": {
             "fillmode": "overlay",
             "size": 10,
             "solidity": 0.2
            },
            "type": "scatter"
           }
          ],
          "scatter3d": [
           {
            "line": {
             "colorbar": {
              "outlinewidth": 0,
              "ticks": ""
             }
            },
            "marker": {
             "colorbar": {
              "outlinewidth": 0,
              "ticks": ""
             }
            },
            "type": "scatter3d"
           }
          ],
          "scattercarpet": [
           {
            "marker": {
             "colorbar": {
              "outlinewidth": 0,
              "ticks": ""
             }
            },
            "type": "scattercarpet"
           }
          ],
          "scattergeo": [
           {
            "marker": {
             "colorbar": {
              "outlinewidth": 0,
              "ticks": ""
             }
            },
            "type": "scattergeo"
           }
          ],
          "scattergl": [
           {
            "marker": {
             "colorbar": {
              "outlinewidth": 0,
              "ticks": ""
             }
            },
            "type": "scattergl"
           }
          ],
          "scattermap": [
           {
            "marker": {
             "colorbar": {
              "outlinewidth": 0,
              "ticks": ""
             }
            },
            "type": "scattermap"
           }
          ],
          "scattermapbox": [
           {
            "marker": {
             "colorbar": {
              "outlinewidth": 0,
              "ticks": ""
             }
            },
            "type": "scattermapbox"
           }
          ],
          "scatterpolar": [
           {
            "marker": {
             "colorbar": {
              "outlinewidth": 0,
              "ticks": ""
             }
            },
            "type": "scatterpolar"
           }
          ],
          "scatterpolargl": [
           {
            "marker": {
             "colorbar": {
              "outlinewidth": 0,
              "ticks": ""
             }
            },
            "type": "scatterpolargl"
           }
          ],
          "scatterternary": [
           {
            "marker": {
             "colorbar": {
              "outlinewidth": 0,
              "ticks": ""
             }
            },
            "type": "scatterternary"
           }
          ],
          "surface": [
           {
            "colorbar": {
             "outlinewidth": 0,
             "ticks": ""
            },
            "colorscale": [
             [
              0,
              "#0d0887"
             ],
             [
              0.1111111111111111,
              "#46039f"
             ],
             [
              0.2222222222222222,
              "#7201a8"
             ],
             [
              0.3333333333333333,
              "#9c179e"
             ],
             [
              0.4444444444444444,
              "#bd3786"
             ],
             [
              0.5555555555555556,
              "#d8576b"
             ],
             [
              0.6666666666666666,
              "#ed7953"
             ],
             [
              0.7777777777777778,
              "#fb9f3a"
             ],
             [
              0.8888888888888888,
              "#fdca26"
             ],
             [
              1,
              "#f0f921"
             ]
            ],
            "type": "surface"
           }
          ],
          "table": [
           {
            "cells": {
             "fill": {
              "color": "#EBF0F8"
             },
             "line": {
              "color": "white"
             }
            },
            "header": {
             "fill": {
              "color": "#C8D4E3"
             },
             "line": {
              "color": "white"
             }
            },
            "type": "table"
           }
          ]
         },
         "layout": {
          "annotationdefaults": {
           "arrowcolor": "#2a3f5f",
           "arrowhead": 0,
           "arrowwidth": 1
          },
          "autotypenumbers": "strict",
          "coloraxis": {
           "colorbar": {
            "outlinewidth": 0,
            "ticks": ""
           }
          },
          "colorscale": {
           "diverging": [
            [
             0,
             "#8e0152"
            ],
            [
             0.1,
             "#c51b7d"
            ],
            [
             0.2,
             "#de77ae"
            ],
            [
             0.3,
             "#f1b6da"
            ],
            [
             0.4,
             "#fde0ef"
            ],
            [
             0.5,
             "#f7f7f7"
            ],
            [
             0.6,
             "#e6f5d0"
            ],
            [
             0.7,
             "#b8e186"
            ],
            [
             0.8,
             "#7fbc41"
            ],
            [
             0.9,
             "#4d9221"
            ],
            [
             1,
             "#276419"
            ]
           ],
           "sequential": [
            [
             0,
             "#0d0887"
            ],
            [
             0.1111111111111111,
             "#46039f"
            ],
            [
             0.2222222222222222,
             "#7201a8"
            ],
            [
             0.3333333333333333,
             "#9c179e"
            ],
            [
             0.4444444444444444,
             "#bd3786"
            ],
            [
             0.5555555555555556,
             "#d8576b"
            ],
            [
             0.6666666666666666,
             "#ed7953"
            ],
            [
             0.7777777777777778,
             "#fb9f3a"
            ],
            [
             0.8888888888888888,
             "#fdca26"
            ],
            [
             1,
             "#f0f921"
            ]
           ],
           "sequentialminus": [
            [
             0,
             "#0d0887"
            ],
            [
             0.1111111111111111,
             "#46039f"
            ],
            [
             0.2222222222222222,
             "#7201a8"
            ],
            [
             0.3333333333333333,
             "#9c179e"
            ],
            [
             0.4444444444444444,
             "#bd3786"
            ],
            [
             0.5555555555555556,
             "#d8576b"
            ],
            [
             0.6666666666666666,
             "#ed7953"
            ],
            [
             0.7777777777777778,
             "#fb9f3a"
            ],
            [
             0.8888888888888888,
             "#fdca26"
            ],
            [
             1,
             "#f0f921"
            ]
           ]
          },
          "colorway": [
           "#636efa",
           "#EF553B",
           "#00cc96",
           "#ab63fa",
           "#FFA15A",
           "#19d3f3",
           "#FF6692",
           "#B6E880",
           "#FF97FF",
           "#FECB52"
          ],
          "font": {
           "color": "#2a3f5f"
          },
          "geo": {
           "bgcolor": "white",
           "lakecolor": "white",
           "landcolor": "#E5ECF6",
           "showlakes": true,
           "showland": true,
           "subunitcolor": "white"
          },
          "hoverlabel": {
           "align": "left"
          },
          "hovermode": "closest",
          "mapbox": {
           "style": "light"
          },
          "paper_bgcolor": "white",
          "plot_bgcolor": "#E5ECF6",
          "polar": {
           "angularaxis": {
            "gridcolor": "white",
            "linecolor": "white",
            "ticks": ""
           },
           "bgcolor": "#E5ECF6",
           "radialaxis": {
            "gridcolor": "white",
            "linecolor": "white",
            "ticks": ""
           }
          },
          "scene": {
           "xaxis": {
            "backgroundcolor": "#E5ECF6",
            "gridcolor": "white",
            "gridwidth": 2,
            "linecolor": "white",
            "showbackground": true,
            "ticks": "",
            "zerolinecolor": "white"
           },
           "yaxis": {
            "backgroundcolor": "#E5ECF6",
            "gridcolor": "white",
            "gridwidth": 2,
            "linecolor": "white",
            "showbackground": true,
            "ticks": "",
            "zerolinecolor": "white"
           },
           "zaxis": {
            "backgroundcolor": "#E5ECF6",
            "gridcolor": "white",
            "gridwidth": 2,
            "linecolor": "white",
            "showbackground": true,
            "ticks": "",
            "zerolinecolor": "white"
           }
          },
          "shapedefaults": {
           "line": {
            "color": "#2a3f5f"
           }
          },
          "ternary": {
           "aaxis": {
            "gridcolor": "white",
            "linecolor": "white",
            "ticks": ""
           },
           "baxis": {
            "gridcolor": "white",
            "linecolor": "white",
            "ticks": ""
           },
           "bgcolor": "#E5ECF6",
           "caxis": {
            "gridcolor": "white",
            "linecolor": "white",
            "ticks": ""
           }
          },
          "title": {
           "x": 0.05
          },
          "xaxis": {
           "automargin": true,
           "gridcolor": "white",
           "linecolor": "white",
           "ticks": "",
           "title": {
            "standoff": 15
           },
           "zerolinecolor": "white",
           "zerolinewidth": 2
          },
          "yaxis": {
           "automargin": true,
           "gridcolor": "white",
           "linecolor": "white",
           "ticks": "",
           "title": {
            "standoff": 15
           },
           "zerolinecolor": "white",
           "zerolinewidth": 2
          }
         }
        },
        "width": 500,
        "xaxis": {
         "anchor": "y",
         "domain": [
          0,
          1
         ],
         "title": {
          "text": "error"
         }
        },
        "yaxis": {
         "anchor": "x",
         "domain": [
          0,
          1
         ],
         "title": {
          "text": "count"
         }
        }
       }
      }
     },
     "metadata": {},
     "output_type": "display_data"
    }
   ],
   "source": [
    "fig = px.histogram(no_digits_match_one_digit_one_digit,nbins=50, x=\"error\")\n",
    "fig.update_layout(width=500)\n",
    "fig.show()"
   ]
  },
  {
   "cell_type": "code",
   "execution_count": 35,
   "metadata": {},
   "outputs": [
    {
     "data": {
      "application/vnd.plotly.v1+json": {
       "config": {
        "plotlyServerURL": "https://plot.ly"
       },
       "data": [
        {
         "alignmentgroup": "True",
         "hovertemplate": "rel_error=%{y}<extra></extra>",
         "legendgroup": "",
         "marker": {
          "color": "#636efa"
         },
         "name": "",
         "notched": false,
         "offsetgroup": "",
         "orientation": "v",
         "showlegend": false,
         "type": "box",
         "x0": " ",
         "xaxis": "x",
         "y": {
          "bdata": "AAAAAAAAWUCuR+F6FE5QwFK4HoXraWpAuB6F61E4JsDNzMzMzMwpQFK4HoXr0U/AAAAAAAAAScAUrkfhepQsQAAAAAAAyKlAAAAAAAAANEAAAAAAAADwfwAAAAAAAEnAAAAAAAAAKcAK16NwPapAwBSuR+F6FDdAAAAAAAAAWUAAAAAAAABkQAAAAAAAAExApHA9CtejOUAAAAAAAOBVwAAAAAAAAFlAw/UoXI/CHkBSuB6F63FTQAAAAAAAABTACtejcD0KFUAAAAAAgFvgQKRwPQrXc1jAAAAAAAAASUA9CtejcL01wIXrUbieeLNAAAAAAAAANMBxPQrXo1BKQKRwPQrXowrAAAAAAAAAJMAAAAAAAABJQAAAAAAAAElAmpmZmZmZC8AAAAAAAABUQAAAAAAAAEnAAAAAAAAAWUAAAAAAAIAuQHsUrkfhqlDAMzMzMzMzEsCF61G4HtVUwArXo3A9ChXArkfhehRuRUDsUbgehdtRQAAAAAAA4FXAhetRuKpG8EAAAAAAAHBXQA==",
          "dtype": "f8"
         },
         "y0": " ",
         "yaxis": "y"
        }
       ],
       "layout": {
        "boxmode": "group",
        "legend": {
         "tracegroupgap": 0
        },
        "margin": {
         "t": 60
        },
        "template": {
         "data": {
          "bar": [
           {
            "error_x": {
             "color": "#2a3f5f"
            },
            "error_y": {
             "color": "#2a3f5f"
            },
            "marker": {
             "line": {
              "color": "#E5ECF6",
              "width": 0.5
             },
             "pattern": {
              "fillmode": "overlay",
              "size": 10,
              "solidity": 0.2
             }
            },
            "type": "bar"
           }
          ],
          "barpolar": [
           {
            "marker": {
             "line": {
              "color": "#E5ECF6",
              "width": 0.5
             },
             "pattern": {
              "fillmode": "overlay",
              "size": 10,
              "solidity": 0.2
             }
            },
            "type": "barpolar"
           }
          ],
          "carpet": [
           {
            "aaxis": {
             "endlinecolor": "#2a3f5f",
             "gridcolor": "white",
             "linecolor": "white",
             "minorgridcolor": "white",
             "startlinecolor": "#2a3f5f"
            },
            "baxis": {
             "endlinecolor": "#2a3f5f",
             "gridcolor": "white",
             "linecolor": "white",
             "minorgridcolor": "white",
             "startlinecolor": "#2a3f5f"
            },
            "type": "carpet"
           }
          ],
          "choropleth": [
           {
            "colorbar": {
             "outlinewidth": 0,
             "ticks": ""
            },
            "type": "choropleth"
           }
          ],
          "contour": [
           {
            "colorbar": {
             "outlinewidth": 0,
             "ticks": ""
            },
            "colorscale": [
             [
              0,
              "#0d0887"
             ],
             [
              0.1111111111111111,
              "#46039f"
             ],
             [
              0.2222222222222222,
              "#7201a8"
             ],
             [
              0.3333333333333333,
              "#9c179e"
             ],
             [
              0.4444444444444444,
              "#bd3786"
             ],
             [
              0.5555555555555556,
              "#d8576b"
             ],
             [
              0.6666666666666666,
              "#ed7953"
             ],
             [
              0.7777777777777778,
              "#fb9f3a"
             ],
             [
              0.8888888888888888,
              "#fdca26"
             ],
             [
              1,
              "#f0f921"
             ]
            ],
            "type": "contour"
           }
          ],
          "contourcarpet": [
           {
            "colorbar": {
             "outlinewidth": 0,
             "ticks": ""
            },
            "type": "contourcarpet"
           }
          ],
          "heatmap": [
           {
            "colorbar": {
             "outlinewidth": 0,
             "ticks": ""
            },
            "colorscale": [
             [
              0,
              "#0d0887"
             ],
             [
              0.1111111111111111,
              "#46039f"
             ],
             [
              0.2222222222222222,
              "#7201a8"
             ],
             [
              0.3333333333333333,
              "#9c179e"
             ],
             [
              0.4444444444444444,
              "#bd3786"
             ],
             [
              0.5555555555555556,
              "#d8576b"
             ],
             [
              0.6666666666666666,
              "#ed7953"
             ],
             [
              0.7777777777777778,
              "#fb9f3a"
             ],
             [
              0.8888888888888888,
              "#fdca26"
             ],
             [
              1,
              "#f0f921"
             ]
            ],
            "type": "heatmap"
           }
          ],
          "histogram": [
           {
            "marker": {
             "pattern": {
              "fillmode": "overlay",
              "size": 10,
              "solidity": 0.2
             }
            },
            "type": "histogram"
           }
          ],
          "histogram2d": [
           {
            "colorbar": {
             "outlinewidth": 0,
             "ticks": ""
            },
            "colorscale": [
             [
              0,
              "#0d0887"
             ],
             [
              0.1111111111111111,
              "#46039f"
             ],
             [
              0.2222222222222222,
              "#7201a8"
             ],
             [
              0.3333333333333333,
              "#9c179e"
             ],
             [
              0.4444444444444444,
              "#bd3786"
             ],
             [
              0.5555555555555556,
              "#d8576b"
             ],
             [
              0.6666666666666666,
              "#ed7953"
             ],
             [
              0.7777777777777778,
              "#fb9f3a"
             ],
             [
              0.8888888888888888,
              "#fdca26"
             ],
             [
              1,
              "#f0f921"
             ]
            ],
            "type": "histogram2d"
           }
          ],
          "histogram2dcontour": [
           {
            "colorbar": {
             "outlinewidth": 0,
             "ticks": ""
            },
            "colorscale": [
             [
              0,
              "#0d0887"
             ],
             [
              0.1111111111111111,
              "#46039f"
             ],
             [
              0.2222222222222222,
              "#7201a8"
             ],
             [
              0.3333333333333333,
              "#9c179e"
             ],
             [
              0.4444444444444444,
              "#bd3786"
             ],
             [
              0.5555555555555556,
              "#d8576b"
             ],
             [
              0.6666666666666666,
              "#ed7953"
             ],
             [
              0.7777777777777778,
              "#fb9f3a"
             ],
             [
              0.8888888888888888,
              "#fdca26"
             ],
             [
              1,
              "#f0f921"
             ]
            ],
            "type": "histogram2dcontour"
           }
          ],
          "mesh3d": [
           {
            "colorbar": {
             "outlinewidth": 0,
             "ticks": ""
            },
            "type": "mesh3d"
           }
          ],
          "parcoords": [
           {
            "line": {
             "colorbar": {
              "outlinewidth": 0,
              "ticks": ""
             }
            },
            "type": "parcoords"
           }
          ],
          "pie": [
           {
            "automargin": true,
            "type": "pie"
           }
          ],
          "scatter": [
           {
            "fillpattern": {
             "fillmode": "overlay",
             "size": 10,
             "solidity": 0.2
            },
            "type": "scatter"
           }
          ],
          "scatter3d": [
           {
            "line": {
             "colorbar": {
              "outlinewidth": 0,
              "ticks": ""
             }
            },
            "marker": {
             "colorbar": {
              "outlinewidth": 0,
              "ticks": ""
             }
            },
            "type": "scatter3d"
           }
          ],
          "scattercarpet": [
           {
            "marker": {
             "colorbar": {
              "outlinewidth": 0,
              "ticks": ""
             }
            },
            "type": "scattercarpet"
           }
          ],
          "scattergeo": [
           {
            "marker": {
             "colorbar": {
              "outlinewidth": 0,
              "ticks": ""
             }
            },
            "type": "scattergeo"
           }
          ],
          "scattergl": [
           {
            "marker": {
             "colorbar": {
              "outlinewidth": 0,
              "ticks": ""
             }
            },
            "type": "scattergl"
           }
          ],
          "scattermap": [
           {
            "marker": {
             "colorbar": {
              "outlinewidth": 0,
              "ticks": ""
             }
            },
            "type": "scattermap"
           }
          ],
          "scattermapbox": [
           {
            "marker": {
             "colorbar": {
              "outlinewidth": 0,
              "ticks": ""
             }
            },
            "type": "scattermapbox"
           }
          ],
          "scatterpolar": [
           {
            "marker": {
             "colorbar": {
              "outlinewidth": 0,
              "ticks": ""
             }
            },
            "type": "scatterpolar"
           }
          ],
          "scatterpolargl": [
           {
            "marker": {
             "colorbar": {
              "outlinewidth": 0,
              "ticks": ""
             }
            },
            "type": "scatterpolargl"
           }
          ],
          "scatterternary": [
           {
            "marker": {
             "colorbar": {
              "outlinewidth": 0,
              "ticks": ""
             }
            },
            "type": "scatterternary"
           }
          ],
          "surface": [
           {
            "colorbar": {
             "outlinewidth": 0,
             "ticks": ""
            },
            "colorscale": [
             [
              0,
              "#0d0887"
             ],
             [
              0.1111111111111111,
              "#46039f"
             ],
             [
              0.2222222222222222,
              "#7201a8"
             ],
             [
              0.3333333333333333,
              "#9c179e"
             ],
             [
              0.4444444444444444,
              "#bd3786"
             ],
             [
              0.5555555555555556,
              "#d8576b"
             ],
             [
              0.6666666666666666,
              "#ed7953"
             ],
             [
              0.7777777777777778,
              "#fb9f3a"
             ],
             [
              0.8888888888888888,
              "#fdca26"
             ],
             [
              1,
              "#f0f921"
             ]
            ],
            "type": "surface"
           }
          ],
          "table": [
           {
            "cells": {
             "fill": {
              "color": "#EBF0F8"
             },
             "line": {
              "color": "white"
             }
            },
            "header": {
             "fill": {
              "color": "#C8D4E3"
             },
             "line": {
              "color": "white"
             }
            },
            "type": "table"
           }
          ]
         },
         "layout": {
          "annotationdefaults": {
           "arrowcolor": "#2a3f5f",
           "arrowhead": 0,
           "arrowwidth": 1
          },
          "autotypenumbers": "strict",
          "coloraxis": {
           "colorbar": {
            "outlinewidth": 0,
            "ticks": ""
           }
          },
          "colorscale": {
           "diverging": [
            [
             0,
             "#8e0152"
            ],
            [
             0.1,
             "#c51b7d"
            ],
            [
             0.2,
             "#de77ae"
            ],
            [
             0.3,
             "#f1b6da"
            ],
            [
             0.4,
             "#fde0ef"
            ],
            [
             0.5,
             "#f7f7f7"
            ],
            [
             0.6,
             "#e6f5d0"
            ],
            [
             0.7,
             "#b8e186"
            ],
            [
             0.8,
             "#7fbc41"
            ],
            [
             0.9,
             "#4d9221"
            ],
            [
             1,
             "#276419"
            ]
           ],
           "sequential": [
            [
             0,
             "#0d0887"
            ],
            [
             0.1111111111111111,
             "#46039f"
            ],
            [
             0.2222222222222222,
             "#7201a8"
            ],
            [
             0.3333333333333333,
             "#9c179e"
            ],
            [
             0.4444444444444444,
             "#bd3786"
            ],
            [
             0.5555555555555556,
             "#d8576b"
            ],
            [
             0.6666666666666666,
             "#ed7953"
            ],
            [
             0.7777777777777778,
             "#fb9f3a"
            ],
            [
             0.8888888888888888,
             "#fdca26"
            ],
            [
             1,
             "#f0f921"
            ]
           ],
           "sequentialminus": [
            [
             0,
             "#0d0887"
            ],
            [
             0.1111111111111111,
             "#46039f"
            ],
            [
             0.2222222222222222,
             "#7201a8"
            ],
            [
             0.3333333333333333,
             "#9c179e"
            ],
            [
             0.4444444444444444,
             "#bd3786"
            ],
            [
             0.5555555555555556,
             "#d8576b"
            ],
            [
             0.6666666666666666,
             "#ed7953"
            ],
            [
             0.7777777777777778,
             "#fb9f3a"
            ],
            [
             0.8888888888888888,
             "#fdca26"
            ],
            [
             1,
             "#f0f921"
            ]
           ]
          },
          "colorway": [
           "#636efa",
           "#EF553B",
           "#00cc96",
           "#ab63fa",
           "#FFA15A",
           "#19d3f3",
           "#FF6692",
           "#B6E880",
           "#FF97FF",
           "#FECB52"
          ],
          "font": {
           "color": "#2a3f5f"
          },
          "geo": {
           "bgcolor": "white",
           "lakecolor": "white",
           "landcolor": "#E5ECF6",
           "showlakes": true,
           "showland": true,
           "subunitcolor": "white"
          },
          "hoverlabel": {
           "align": "left"
          },
          "hovermode": "closest",
          "mapbox": {
           "style": "light"
          },
          "paper_bgcolor": "white",
          "plot_bgcolor": "#E5ECF6",
          "polar": {
           "angularaxis": {
            "gridcolor": "white",
            "linecolor": "white",
            "ticks": ""
           },
           "bgcolor": "#E5ECF6",
           "radialaxis": {
            "gridcolor": "white",
            "linecolor": "white",
            "ticks": ""
           }
          },
          "scene": {
           "xaxis": {
            "backgroundcolor": "#E5ECF6",
            "gridcolor": "white",
            "gridwidth": 2,
            "linecolor": "white",
            "showbackground": true,
            "ticks": "",
            "zerolinecolor": "white"
           },
           "yaxis": {
            "backgroundcolor": "#E5ECF6",
            "gridcolor": "white",
            "gridwidth": 2,
            "linecolor": "white",
            "showbackground": true,
            "ticks": "",
            "zerolinecolor": "white"
           },
           "zaxis": {
            "backgroundcolor": "#E5ECF6",
            "gridcolor": "white",
            "gridwidth": 2,
            "linecolor": "white",
            "showbackground": true,
            "ticks": "",
            "zerolinecolor": "white"
           }
          },
          "shapedefaults": {
           "line": {
            "color": "#2a3f5f"
           }
          },
          "ternary": {
           "aaxis": {
            "gridcolor": "white",
            "linecolor": "white",
            "ticks": ""
           },
           "baxis": {
            "gridcolor": "white",
            "linecolor": "white",
            "ticks": ""
           },
           "bgcolor": "#E5ECF6",
           "caxis": {
            "gridcolor": "white",
            "linecolor": "white",
            "ticks": ""
           }
          },
          "title": {
           "x": 0.05
          },
          "xaxis": {
           "automargin": true,
           "gridcolor": "white",
           "linecolor": "white",
           "ticks": "",
           "title": {
            "standoff": 15
           },
           "zerolinecolor": "white",
           "zerolinewidth": 2
          },
          "yaxis": {
           "automargin": true,
           "gridcolor": "white",
           "linecolor": "white",
           "ticks": "",
           "title": {
            "standoff": 15
           },
           "zerolinecolor": "white",
           "zerolinewidth": 2
          }
         }
        },
        "width": 500,
        "xaxis": {
         "anchor": "y",
         "domain": [
          0,
          1
         ]
        },
        "yaxis": {
         "anchor": "x",
         "domain": [
          0,
          1
         ],
         "title": {
          "text": "rel_error"
         }
        }
       }
      }
     },
     "metadata": {},
     "output_type": "display_data"
    }
   ],
   "source": [
    "fig = px.box(no_digits_match_one_digit_one_digit, y=\"rel_error\")\n",
    "fig.update_layout(width=500)\n",
    "fig.show()"
   ]
  },
  {
   "cell_type": "code",
   "execution_count": 36,
   "metadata": {},
   "outputs": [
    {
     "data": {
      "application/vnd.plotly.v1+json": {
       "config": {
        "plotlyServerURL": "https://plot.ly"
       },
       "data": [
        {
         "alignmentgroup": "True",
         "hovertemplate": "rel_error=%{y}<extra></extra>",
         "legendgroup": "",
         "marker": {
          "color": "#636efa"
         },
         "name": "",
         "notched": false,
         "offsetgroup": "",
         "orientation": "v",
         "showlegend": false,
         "type": "box",
         "x0": " ",
         "xaxis": "x",
         "y": {
          "bdata": "AAAAAAAAWUCuR+F6FE5QwFK4HoXraWpAuB6F61E4JsDNzMzMzMwpQFK4HoXr0U/AAAAAAAAAScAUrkfhepQsQAAAAAAAADRAAAAAAAAAScAAAAAAAAApwArXo3A9qkDAFK5H4XoUN0AAAAAAAABZQAAAAAAAAGRAAAAAAAAATECkcD0K16M5QAAAAAAA4FXAAAAAAAAAWUDD9Shcj8IeQFK4HoXrcVNAAAAAAAAAFMAK16NwPQoVQKRwPQrXc1jAAAAAAAAASUA9CtejcL01wAAAAAAAADTAcT0K16NQSkCkcD0K16MKwAAAAAAAACTAAAAAAAAASUAAAAAAAABJQJqZmZmZmQvAAAAAAAAAVEAAAAAAAABJwAAAAAAAAFlAAAAAAACALkB7FK5H4apQwDMzMzMzMxLAhetRuB7VVMAK16NwPQoVwK5H4XoUbkVA7FG4HoXbUUAAAAAAAOBVwAAAAAAAcFdA",
          "dtype": "f8"
         },
         "y0": " ",
         "yaxis": "y"
        }
       ],
       "layout": {
        "boxmode": "group",
        "legend": {
         "tracegroupgap": 0
        },
        "margin": {
         "t": 60
        },
        "template": {
         "data": {
          "bar": [
           {
            "error_x": {
             "color": "#2a3f5f"
            },
            "error_y": {
             "color": "#2a3f5f"
            },
            "marker": {
             "line": {
              "color": "#E5ECF6",
              "width": 0.5
             },
             "pattern": {
              "fillmode": "overlay",
              "size": 10,
              "solidity": 0.2
             }
            },
            "type": "bar"
           }
          ],
          "barpolar": [
           {
            "marker": {
             "line": {
              "color": "#E5ECF6",
              "width": 0.5
             },
             "pattern": {
              "fillmode": "overlay",
              "size": 10,
              "solidity": 0.2
             }
            },
            "type": "barpolar"
           }
          ],
          "carpet": [
           {
            "aaxis": {
             "endlinecolor": "#2a3f5f",
             "gridcolor": "white",
             "linecolor": "white",
             "minorgridcolor": "white",
             "startlinecolor": "#2a3f5f"
            },
            "baxis": {
             "endlinecolor": "#2a3f5f",
             "gridcolor": "white",
             "linecolor": "white",
             "minorgridcolor": "white",
             "startlinecolor": "#2a3f5f"
            },
            "type": "carpet"
           }
          ],
          "choropleth": [
           {
            "colorbar": {
             "outlinewidth": 0,
             "ticks": ""
            },
            "type": "choropleth"
           }
          ],
          "contour": [
           {
            "colorbar": {
             "outlinewidth": 0,
             "ticks": ""
            },
            "colorscale": [
             [
              0,
              "#0d0887"
             ],
             [
              0.1111111111111111,
              "#46039f"
             ],
             [
              0.2222222222222222,
              "#7201a8"
             ],
             [
              0.3333333333333333,
              "#9c179e"
             ],
             [
              0.4444444444444444,
              "#bd3786"
             ],
             [
              0.5555555555555556,
              "#d8576b"
             ],
             [
              0.6666666666666666,
              "#ed7953"
             ],
             [
              0.7777777777777778,
              "#fb9f3a"
             ],
             [
              0.8888888888888888,
              "#fdca26"
             ],
             [
              1,
              "#f0f921"
             ]
            ],
            "type": "contour"
           }
          ],
          "contourcarpet": [
           {
            "colorbar": {
             "outlinewidth": 0,
             "ticks": ""
            },
            "type": "contourcarpet"
           }
          ],
          "heatmap": [
           {
            "colorbar": {
             "outlinewidth": 0,
             "ticks": ""
            },
            "colorscale": [
             [
              0,
              "#0d0887"
             ],
             [
              0.1111111111111111,
              "#46039f"
             ],
             [
              0.2222222222222222,
              "#7201a8"
             ],
             [
              0.3333333333333333,
              "#9c179e"
             ],
             [
              0.4444444444444444,
              "#bd3786"
             ],
             [
              0.5555555555555556,
              "#d8576b"
             ],
             [
              0.6666666666666666,
              "#ed7953"
             ],
             [
              0.7777777777777778,
              "#fb9f3a"
             ],
             [
              0.8888888888888888,
              "#fdca26"
             ],
             [
              1,
              "#f0f921"
             ]
            ],
            "type": "heatmap"
           }
          ],
          "histogram": [
           {
            "marker": {
             "pattern": {
              "fillmode": "overlay",
              "size": 10,
              "solidity": 0.2
             }
            },
            "type": "histogram"
           }
          ],
          "histogram2d": [
           {
            "colorbar": {
             "outlinewidth": 0,
             "ticks": ""
            },
            "colorscale": [
             [
              0,
              "#0d0887"
             ],
             [
              0.1111111111111111,
              "#46039f"
             ],
             [
              0.2222222222222222,
              "#7201a8"
             ],
             [
              0.3333333333333333,
              "#9c179e"
             ],
             [
              0.4444444444444444,
              "#bd3786"
             ],
             [
              0.5555555555555556,
              "#d8576b"
             ],
             [
              0.6666666666666666,
              "#ed7953"
             ],
             [
              0.7777777777777778,
              "#fb9f3a"
             ],
             [
              0.8888888888888888,
              "#fdca26"
             ],
             [
              1,
              "#f0f921"
             ]
            ],
            "type": "histogram2d"
           }
          ],
          "histogram2dcontour": [
           {
            "colorbar": {
             "outlinewidth": 0,
             "ticks": ""
            },
            "colorscale": [
             [
              0,
              "#0d0887"
             ],
             [
              0.1111111111111111,
              "#46039f"
             ],
             [
              0.2222222222222222,
              "#7201a8"
             ],
             [
              0.3333333333333333,
              "#9c179e"
             ],
             [
              0.4444444444444444,
              "#bd3786"
             ],
             [
              0.5555555555555556,
              "#d8576b"
             ],
             [
              0.6666666666666666,
              "#ed7953"
             ],
             [
              0.7777777777777778,
              "#fb9f3a"
             ],
             [
              0.8888888888888888,
              "#fdca26"
             ],
             [
              1,
              "#f0f921"
             ]
            ],
            "type": "histogram2dcontour"
           }
          ],
          "mesh3d": [
           {
            "colorbar": {
             "outlinewidth": 0,
             "ticks": ""
            },
            "type": "mesh3d"
           }
          ],
          "parcoords": [
           {
            "line": {
             "colorbar": {
              "outlinewidth": 0,
              "ticks": ""
             }
            },
            "type": "parcoords"
           }
          ],
          "pie": [
           {
            "automargin": true,
            "type": "pie"
           }
          ],
          "scatter": [
           {
            "fillpattern": {
             "fillmode": "overlay",
             "size": 10,
             "solidity": 0.2
            },
            "type": "scatter"
           }
          ],
          "scatter3d": [
           {
            "line": {
             "colorbar": {
              "outlinewidth": 0,
              "ticks": ""
             }
            },
            "marker": {
             "colorbar": {
              "outlinewidth": 0,
              "ticks": ""
             }
            },
            "type": "scatter3d"
           }
          ],
          "scattercarpet": [
           {
            "marker": {
             "colorbar": {
              "outlinewidth": 0,
              "ticks": ""
             }
            },
            "type": "scattercarpet"
           }
          ],
          "scattergeo": [
           {
            "marker": {
             "colorbar": {
              "outlinewidth": 0,
              "ticks": ""
             }
            },
            "type": "scattergeo"
           }
          ],
          "scattergl": [
           {
            "marker": {
             "colorbar": {
              "outlinewidth": 0,
              "ticks": ""
             }
            },
            "type": "scattergl"
           }
          ],
          "scattermap": [
           {
            "marker": {
             "colorbar": {
              "outlinewidth": 0,
              "ticks": ""
             }
            },
            "type": "scattermap"
           }
          ],
          "scattermapbox": [
           {
            "marker": {
             "colorbar": {
              "outlinewidth": 0,
              "ticks": ""
             }
            },
            "type": "scattermapbox"
           }
          ],
          "scatterpolar": [
           {
            "marker": {
             "colorbar": {
              "outlinewidth": 0,
              "ticks": ""
             }
            },
            "type": "scatterpolar"
           }
          ],
          "scatterpolargl": [
           {
            "marker": {
             "colorbar": {
              "outlinewidth": 0,
              "ticks": ""
             }
            },
            "type": "scatterpolargl"
           }
          ],
          "scatterternary": [
           {
            "marker": {
             "colorbar": {
              "outlinewidth": 0,
              "ticks": ""
             }
            },
            "type": "scatterternary"
           }
          ],
          "surface": [
           {
            "colorbar": {
             "outlinewidth": 0,
             "ticks": ""
            },
            "colorscale": [
             [
              0,
              "#0d0887"
             ],
             [
              0.1111111111111111,
              "#46039f"
             ],
             [
              0.2222222222222222,
              "#7201a8"
             ],
             [
              0.3333333333333333,
              "#9c179e"
             ],
             [
              0.4444444444444444,
              "#bd3786"
             ],
             [
              0.5555555555555556,
              "#d8576b"
             ],
             [
              0.6666666666666666,
              "#ed7953"
             ],
             [
              0.7777777777777778,
              "#fb9f3a"
             ],
             [
              0.8888888888888888,
              "#fdca26"
             ],
             [
              1,
              "#f0f921"
             ]
            ],
            "type": "surface"
           }
          ],
          "table": [
           {
            "cells": {
             "fill": {
              "color": "#EBF0F8"
             },
             "line": {
              "color": "white"
             }
            },
            "header": {
             "fill": {
              "color": "#C8D4E3"
             },
             "line": {
              "color": "white"
             }
            },
            "type": "table"
           }
          ]
         },
         "layout": {
          "annotationdefaults": {
           "arrowcolor": "#2a3f5f",
           "arrowhead": 0,
           "arrowwidth": 1
          },
          "autotypenumbers": "strict",
          "coloraxis": {
           "colorbar": {
            "outlinewidth": 0,
            "ticks": ""
           }
          },
          "colorscale": {
           "diverging": [
            [
             0,
             "#8e0152"
            ],
            [
             0.1,
             "#c51b7d"
            ],
            [
             0.2,
             "#de77ae"
            ],
            [
             0.3,
             "#f1b6da"
            ],
            [
             0.4,
             "#fde0ef"
            ],
            [
             0.5,
             "#f7f7f7"
            ],
            [
             0.6,
             "#e6f5d0"
            ],
            [
             0.7,
             "#b8e186"
            ],
            [
             0.8,
             "#7fbc41"
            ],
            [
             0.9,
             "#4d9221"
            ],
            [
             1,
             "#276419"
            ]
           ],
           "sequential": [
            [
             0,
             "#0d0887"
            ],
            [
             0.1111111111111111,
             "#46039f"
            ],
            [
             0.2222222222222222,
             "#7201a8"
            ],
            [
             0.3333333333333333,
             "#9c179e"
            ],
            [
             0.4444444444444444,
             "#bd3786"
            ],
            [
             0.5555555555555556,
             "#d8576b"
            ],
            [
             0.6666666666666666,
             "#ed7953"
            ],
            [
             0.7777777777777778,
             "#fb9f3a"
            ],
            [
             0.8888888888888888,
             "#fdca26"
            ],
            [
             1,
             "#f0f921"
            ]
           ],
           "sequentialminus": [
            [
             0,
             "#0d0887"
            ],
            [
             0.1111111111111111,
             "#46039f"
            ],
            [
             0.2222222222222222,
             "#7201a8"
            ],
            [
             0.3333333333333333,
             "#9c179e"
            ],
            [
             0.4444444444444444,
             "#bd3786"
            ],
            [
             0.5555555555555556,
             "#d8576b"
            ],
            [
             0.6666666666666666,
             "#ed7953"
            ],
            [
             0.7777777777777778,
             "#fb9f3a"
            ],
            [
             0.8888888888888888,
             "#fdca26"
            ],
            [
             1,
             "#f0f921"
            ]
           ]
          },
          "colorway": [
           "#636efa",
           "#EF553B",
           "#00cc96",
           "#ab63fa",
           "#FFA15A",
           "#19d3f3",
           "#FF6692",
           "#B6E880",
           "#FF97FF",
           "#FECB52"
          ],
          "font": {
           "color": "#2a3f5f"
          },
          "geo": {
           "bgcolor": "white",
           "lakecolor": "white",
           "landcolor": "#E5ECF6",
           "showlakes": true,
           "showland": true,
           "subunitcolor": "white"
          },
          "hoverlabel": {
           "align": "left"
          },
          "hovermode": "closest",
          "mapbox": {
           "style": "light"
          },
          "paper_bgcolor": "white",
          "plot_bgcolor": "#E5ECF6",
          "polar": {
           "angularaxis": {
            "gridcolor": "white",
            "linecolor": "white",
            "ticks": ""
           },
           "bgcolor": "#E5ECF6",
           "radialaxis": {
            "gridcolor": "white",
            "linecolor": "white",
            "ticks": ""
           }
          },
          "scene": {
           "xaxis": {
            "backgroundcolor": "#E5ECF6",
            "gridcolor": "white",
            "gridwidth": 2,
            "linecolor": "white",
            "showbackground": true,
            "ticks": "",
            "zerolinecolor": "white"
           },
           "yaxis": {
            "backgroundcolor": "#E5ECF6",
            "gridcolor": "white",
            "gridwidth": 2,
            "linecolor": "white",
            "showbackground": true,
            "ticks": "",
            "zerolinecolor": "white"
           },
           "zaxis": {
            "backgroundcolor": "#E5ECF6",
            "gridcolor": "white",
            "gridwidth": 2,
            "linecolor": "white",
            "showbackground": true,
            "ticks": "",
            "zerolinecolor": "white"
           }
          },
          "shapedefaults": {
           "line": {
            "color": "#2a3f5f"
           }
          },
          "ternary": {
           "aaxis": {
            "gridcolor": "white",
            "linecolor": "white",
            "ticks": ""
           },
           "baxis": {
            "gridcolor": "white",
            "linecolor": "white",
            "ticks": ""
           },
           "bgcolor": "#E5ECF6",
           "caxis": {
            "gridcolor": "white",
            "linecolor": "white",
            "ticks": ""
           }
          },
          "title": {
           "x": 0.05
          },
          "xaxis": {
           "automargin": true,
           "gridcolor": "white",
           "linecolor": "white",
           "ticks": "",
           "title": {
            "standoff": 15
           },
           "zerolinecolor": "white",
           "zerolinewidth": 2
          },
          "yaxis": {
           "automargin": true,
           "gridcolor": "white",
           "linecolor": "white",
           "ticks": "",
           "title": {
            "standoff": 15
           },
           "zerolinecolor": "white",
           "zerolinewidth": 2
          }
         }
        },
        "width": 500,
        "xaxis": {
         "anchor": "y",
         "domain": [
          0,
          1
         ]
        },
        "yaxis": {
         "anchor": "x",
         "domain": [
          0,
          1
         ],
         "title": {
          "text": "rel_error"
         }
        }
       }
      }
     },
     "metadata": {},
     "output_type": "display_data"
    }
   ],
   "source": [
    "fig = px.box(no_digits_match_one_digit_one_digit.query(\"rel_error < 1000\"), y=\"rel_error\")\n",
    "fig.update_layout(width=500)\n",
    "fig.show()"
   ]
  },
  {
   "cell_type": "code",
   "execution_count": 46,
   "metadata": {},
   "outputs": [
    {
     "data": {
      "text/html": [
       "<div>\n",
       "<style scoped>\n",
       "    .dataframe tbody tr th:only-of-type {\n",
       "        vertical-align: middle;\n",
       "    }\n",
       "\n",
       "    .dataframe tbody tr th {\n",
       "        vertical-align: top;\n",
       "    }\n",
       "\n",
       "    .dataframe thead th {\n",
       "        text-align: right;\n",
       "    }\n",
       "</style>\n",
       "<table border=\"1\" class=\"dataframe\">\n",
       "  <thead>\n",
       "    <tr style=\"text-align: right;\">\n",
       "      <th></th>\n",
       "      <th>table</th>\n",
       "      <th>predicted_answer</th>\n",
       "      <th>actual_answer</th>\n",
       "      <th>question</th>\n",
       "      <th>predicted_answer_nums_only</th>\n",
       "      <th>actual_answer_nums_only</th>\n",
       "      <th>num_digits_predicted</th>\n",
       "      <th>num_digits_actual</th>\n",
       "    </tr>\n",
       "  </thead>\n",
       "  <tbody>\n",
       "    <tr>\n",
       "      <th>22</th>\n",
       "      <td>&lt;html&gt;&lt;body&gt;&lt;table class=\"infobox biography vc...</td>\n",
       "      <td>8 years (1996-2004) and sporadically thereafter</td>\n",
       "      <td>23 years</td>\n",
       "      <td>How many active years did Dwayne Johnson wrestle?</td>\n",
       "      <td>[8, 1996, 2004]</td>\n",
       "      <td>[23]</td>\n",
       "      <td>3</td>\n",
       "      <td>1</td>\n",
       "    </tr>\n",
       "    <tr>\n",
       "      <th>27</th>\n",
       "      <td>&lt;html&gt;&lt;body&gt;&lt;table class=\"infobox biography vc...</td>\n",
       "      <td>4 years, 4 years, 4 years, and 4 years</td>\n",
       "      <td>four</td>\n",
       "      <td>How long did each of Joan Crawford's marriages...</td>\n",
       "      <td>[4, 4, 4, 4]</td>\n",
       "      <td>[]</td>\n",
       "      <td>4</td>\n",
       "      <td>0</td>\n",
       "    </tr>\n",
       "    <tr>\n",
       "      <th>30</th>\n",
       "      <td>&lt;html&gt;&lt;body&gt;&lt;table class=\"infobox biography vc...</td>\n",
       "      <td>4 years</td>\n",
       "      <td>4 Years (from 1955 to 1959)</td>\n",
       "      <td>How many years did Joan Crawford and Alfred St...</td>\n",
       "      <td>[4]</td>\n",
       "      <td>[4, 1955, 1959]</td>\n",
       "      <td>1</td>\n",
       "      <td>3</td>\n",
       "    </tr>\n",
       "    <tr>\n",
       "      <th>35</th>\n",
       "      <td>&lt;html&gt;&lt;body&gt;&lt;table class=\"infobox biography vc...</td>\n",
       "      <td>50 years</td>\n",
       "      <td>50 Years (1924–1974)</td>\n",
       "      <td>How many years did Joan Crawford was active ca...</td>\n",
       "      <td>[50]</td>\n",
       "      <td>[50, 1924, 1974]</td>\n",
       "      <td>1</td>\n",
       "      <td>3</td>\n",
       "    </tr>\n",
       "    <tr>\n",
       "      <th>40</th>\n",
       "      <td>&lt;html&gt;&lt;body&gt;&lt;table class=\"infobox biography vc...</td>\n",
       "      <td>Retired March 30, 2003 (age 38)</td>\n",
       "      <td>Age of 39</td>\n",
       "      <td>What was the the age when Hebar Pazardzhik ori...</td>\n",
       "      <td>[30, 2003, 38]</td>\n",
       "      <td>[39]</td>\n",
       "      <td>3</td>\n",
       "      <td>1</td>\n",
       "    </tr>\n",
       "    <tr>\n",
       "      <th>...</th>\n",
       "      <td>...</td>\n",
       "      <td>...</td>\n",
       "      <td>...</td>\n",
       "      <td>...</td>\n",
       "      <td>...</td>\n",
       "      <td>...</td>\n",
       "      <td>...</td>\n",
       "      <td>...</td>\n",
       "    </tr>\n",
       "    <tr>\n",
       "      <th>1892</th>\n",
       "      <td>&lt;table class=\"infobox\"&gt;&lt;tbody&gt;&lt;tr&gt;&lt;th class=\"i...</td>\n",
       "      <td>Approximately 0.254 km per flight</td>\n",
       "      <td>0.25 km</td>\n",
       "      <td>Approximately how many km did Ingenuity move p...</td>\n",
       "      <td>[0, 254]</td>\n",
       "      <td>[0, 25]</td>\n",
       "      <td>2</td>\n",
       "      <td>2</td>\n",
       "    </tr>\n",
       "    <tr>\n",
       "      <th>1894</th>\n",
       "      <td>&lt;table class=\"infobox\"&gt;&lt;tbody&gt;&lt;tr&gt;&lt;th class=\"i...</td>\n",
       "      <td>April 3, 2021 to June 11, 2022</td>\n",
       "      <td>14 months</td>\n",
       "      <td>How long did Ingenuity take to go from deploym...</td>\n",
       "      <td>[3, 2021, 11, 2022]</td>\n",
       "      <td>[14]</td>\n",
       "      <td>4</td>\n",
       "      <td>1</td>\n",
       "    </tr>\n",
       "    <tr>\n",
       "      <th>1897</th>\n",
       "      <td>&lt;table class=\"infobox\"&gt;&lt;tbody&gt;&lt;tr&gt;&lt;th class=\"i...</td>\n",
       "      <td>About 14 months</td>\n",
       "      <td>1 year 2 months</td>\n",
       "      <td>How much time since deployment did it take for...</td>\n",
       "      <td>[14]</td>\n",
       "      <td>[1, 2]</td>\n",
       "      <td>1</td>\n",
       "      <td>2</td>\n",
       "    </tr>\n",
       "    <tr>\n",
       "      <th>1898</th>\n",
       "      <td>&lt;table class=\"infobox\"&gt;&lt;tbody&gt;&lt;tr&gt;&lt;th class=\"i...</td>\n",
       "      <td>April 7, 2021 (sol 46)</td>\n",
       "      <td>4 days</td>\n",
       "      <td>How long after Ingenuity was deployed was the ...</td>\n",
       "      <td>[7, 2021, 46]</td>\n",
       "      <td>[4]</td>\n",
       "      <td>3</td>\n",
       "      <td>1</td>\n",
       "    </tr>\n",
       "    <tr>\n",
       "      <th>1900</th>\n",
       "      <td>&lt;table class=\"infobox\"&gt;&lt;tbody&gt;&lt;tr&gt;&lt;th class=\"i...</td>\n",
       "      <td>April 19, 2021 to June 11, 2022</td>\n",
       "      <td>2 months</td>\n",
       "      <td>How long was it between the day of Ingenuity's...</td>\n",
       "      <td>[19, 2021, 11, 2022]</td>\n",
       "      <td>[2]</td>\n",
       "      <td>4</td>\n",
       "      <td>1</td>\n",
       "    </tr>\n",
       "  </tbody>\n",
       "</table>\n",
       "<p>399 rows × 8 columns</p>\n",
       "</div>"
      ],
      "text/plain": [
       "                                                  table  \\\n",
       "22    <html><body><table class=\"infobox biography vc...   \n",
       "27    <html><body><table class=\"infobox biography vc...   \n",
       "30    <html><body><table class=\"infobox biography vc...   \n",
       "35    <html><body><table class=\"infobox biography vc...   \n",
       "40    <html><body><table class=\"infobox biography vc...   \n",
       "...                                                 ...   \n",
       "1892  <table class=\"infobox\"><tbody><tr><th class=\"i...   \n",
       "1894  <table class=\"infobox\"><tbody><tr><th class=\"i...   \n",
       "1897  <table class=\"infobox\"><tbody><tr><th class=\"i...   \n",
       "1898  <table class=\"infobox\"><tbody><tr><th class=\"i...   \n",
       "1900  <table class=\"infobox\"><tbody><tr><th class=\"i...   \n",
       "\n",
       "                                     predicted_answer  \\\n",
       "22    8 years (1996-2004) and sporadically thereafter   \n",
       "27             4 years, 4 years, 4 years, and 4 years   \n",
       "30                                            4 years   \n",
       "35                                           50 years   \n",
       "40                    Retired March 30, 2003 (age 38)   \n",
       "...                                               ...   \n",
       "1892                Approximately 0.254 km per flight   \n",
       "1894                   April 3, 2021 to June 11, 2022   \n",
       "1897                                  About 14 months   \n",
       "1898                           April 7, 2021 (sol 46)   \n",
       "1900                  April 19, 2021 to June 11, 2022   \n",
       "\n",
       "                    actual_answer  \\\n",
       "22                       23 years   \n",
       "27                           four   \n",
       "30    4 Years (from 1955 to 1959)   \n",
       "35           50 Years (1924–1974)   \n",
       "40                      Age of 39   \n",
       "...                           ...   \n",
       "1892                      0.25 km   \n",
       "1894                    14 months   \n",
       "1897              1 year 2 months   \n",
       "1898                       4 days   \n",
       "1900                     2 months   \n",
       "\n",
       "                                               question  \\\n",
       "22    How many active years did Dwayne Johnson wrestle?   \n",
       "27    How long did each of Joan Crawford's marriages...   \n",
       "30    How many years did Joan Crawford and Alfred St...   \n",
       "35    How many years did Joan Crawford was active ca...   \n",
       "40    What was the the age when Hebar Pazardzhik ori...   \n",
       "...                                                 ...   \n",
       "1892  Approximately how many km did Ingenuity move p...   \n",
       "1894  How long did Ingenuity take to go from deploym...   \n",
       "1897  How much time since deployment did it take for...   \n",
       "1898  How long after Ingenuity was deployed was the ...   \n",
       "1900  How long was it between the day of Ingenuity's...   \n",
       "\n",
       "     predicted_answer_nums_only actual_answer_nums_only  num_digits_predicted  \\\n",
       "22              [8, 1996, 2004]                    [23]                     3   \n",
       "27                 [4, 4, 4, 4]                      []                     4   \n",
       "30                          [4]         [4, 1955, 1959]                     1   \n",
       "35                         [50]        [50, 1924, 1974]                     1   \n",
       "40               [30, 2003, 38]                    [39]                     3   \n",
       "...                         ...                     ...                   ...   \n",
       "1892                   [0, 254]                 [0, 25]                     2   \n",
       "1894        [3, 2021, 11, 2022]                    [14]                     4   \n",
       "1897                       [14]                  [1, 2]                     1   \n",
       "1898              [7, 2021, 46]                     [4]                     3   \n",
       "1900       [19, 2021, 11, 2022]                     [2]                     4   \n",
       "\n",
       "      num_digits_actual  \n",
       "22                    1  \n",
       "27                    0  \n",
       "30                    3  \n",
       "35                    3  \n",
       "40                    1  \n",
       "...                 ...  \n",
       "1892                  2  \n",
       "1894                  1  \n",
       "1897                  2  \n",
       "1898                  1  \n",
       "1900                  1  \n",
       "\n",
       "[399 rows x 8 columns]"
      ]
     },
     "execution_count": 46,
     "metadata": {},
     "output_type": "execute_result"
    }
   ],
   "source": [
    "no_digits_match.assign(\n",
    "    num_digits_predicted=lambda x: x[\"predicted_answer_nums_only\"].apply(len),\n",
    "    num_digits_actual=lambda x: x[\"actual_answer_nums_only\"].apply(len),\n",
    ").query(\n",
    "    \"~(predicted_answer.str.lower().str.match('\\d+ years$') and actual_answer.str.lower().str.contains('\\d+ years$')) \"\n",
    "    # \"and question.str.lower().str.startswith('how many years') \"\n",
    "    \"and num_digits_predicted != 1 \"\n",
    "    \"or num_digits_actual != 1 \"\n",
    ")"
   ]
  },
  {
   "cell_type": "code",
   "execution_count": 49,
   "metadata": {},
   "outputs": [
    {
     "data": {
      "text/html": [
       "<div>\n",
       "<style scoped>\n",
       "    .dataframe tbody tr th:only-of-type {\n",
       "        vertical-align: middle;\n",
       "    }\n",
       "\n",
       "    .dataframe tbody tr th {\n",
       "        vertical-align: top;\n",
       "    }\n",
       "\n",
       "    .dataframe thead th {\n",
       "        text-align: right;\n",
       "    }\n",
       "</style>\n",
       "<table border=\"1\" class=\"dataframe\">\n",
       "  <thead>\n",
       "    <tr style=\"text-align: right;\">\n",
       "      <th></th>\n",
       "      <th>table</th>\n",
       "      <th>predicted_answer</th>\n",
       "      <th>actual_answer</th>\n",
       "      <th>question</th>\n",
       "    </tr>\n",
       "  </thead>\n",
       "  <tbody>\n",
       "    <tr>\n",
       "      <th>0</th>\n",
       "      <td>&lt;html&gt;&lt;body&gt;&lt;table class=\"infobox biography vc...</td>\n",
       "      <td>47 years old</td>\n",
       "      <td>47</td>\n",
       "      <td>How old was Art Carney when he first got divor...</td>\n",
       "    </tr>\n",
       "    <tr>\n",
       "      <th>4</th>\n",
       "      <td>&lt;html&gt;&lt;body&gt;&lt;table class=\"infobox biography vc...</td>\n",
       "      <td>54 years</td>\n",
       "      <td>54 Years</td>\n",
       "      <td>How many years did Art Carney as actor since 1...</td>\n",
       "    </tr>\n",
       "    <tr>\n",
       "      <th>5</th>\n",
       "      <td>&lt;html&gt;&lt;body&gt;&lt;table class=\"infobox biography vc...</td>\n",
       "      <td>25 years</td>\n",
       "      <td>28 years</td>\n",
       "      <td>How many total years was Art Carney married to...</td>\n",
       "    </tr>\n",
       "    <tr>\n",
       "      <th>7</th>\n",
       "      <td>&lt;html&gt;&lt;body&gt;&lt;table class=\"infobox biography vc...</td>\n",
       "      <td>23 years</td>\n",
       "      <td>23</td>\n",
       "      <td>How many years before he died was Art Carney m...</td>\n",
       "    </tr>\n",
       "    <tr>\n",
       "      <th>8</th>\n",
       "      <td>&lt;html&gt;&lt;body&gt;&lt;table class=\"infobox biography vc...</td>\n",
       "      <td>19 years ago</td>\n",
       "      <td>19 Years ago</td>\n",
       "      <td>How many years ago did Art Carney was died?</td>\n",
       "    </tr>\n",
       "    <tr>\n",
       "      <th>...</th>\n",
       "      <td>...</td>\n",
       "      <td>...</td>\n",
       "      <td>...</td>\n",
       "      <td>...</td>\n",
       "    </tr>\n",
       "    <tr>\n",
       "      <th>1892</th>\n",
       "      <td>&lt;table class=\"infobox\"&gt;&lt;tbody&gt;&lt;tr&gt;&lt;th class=\"i...</td>\n",
       "      <td>Approximately 0.254 km per flight</td>\n",
       "      <td>0.25 km</td>\n",
       "      <td>Approximately how many km did Ingenuity move p...</td>\n",
       "    </tr>\n",
       "    <tr>\n",
       "      <th>1894</th>\n",
       "      <td>&lt;table class=\"infobox\"&gt;&lt;tbody&gt;&lt;tr&gt;&lt;th class=\"i...</td>\n",
       "      <td>April 3, 2021 to June 11, 2022</td>\n",
       "      <td>14 months</td>\n",
       "      <td>How long did Ingenuity take to go from deploym...</td>\n",
       "    </tr>\n",
       "    <tr>\n",
       "      <th>1897</th>\n",
       "      <td>&lt;table class=\"infobox\"&gt;&lt;tbody&gt;&lt;tr&gt;&lt;th class=\"i...</td>\n",
       "      <td>About 14 months</td>\n",
       "      <td>1 year 2 months</td>\n",
       "      <td>How much time since deployment did it take for...</td>\n",
       "    </tr>\n",
       "    <tr>\n",
       "      <th>1898</th>\n",
       "      <td>&lt;table class=\"infobox\"&gt;&lt;tbody&gt;&lt;tr&gt;&lt;th class=\"i...</td>\n",
       "      <td>April 7, 2021 (sol 46)</td>\n",
       "      <td>4 days</td>\n",
       "      <td>How long after Ingenuity was deployed was the ...</td>\n",
       "    </tr>\n",
       "    <tr>\n",
       "      <th>1900</th>\n",
       "      <td>&lt;table class=\"infobox\"&gt;&lt;tbody&gt;&lt;tr&gt;&lt;th class=\"i...</td>\n",
       "      <td>April 19, 2021 to June 11, 2022</td>\n",
       "      <td>2 months</td>\n",
       "      <td>How long was it between the day of Ingenuity's...</td>\n",
       "    </tr>\n",
       "  </tbody>\n",
       "</table>\n",
       "<p>1258 rows × 4 columns</p>\n",
       "</div>"
      ],
      "text/plain": [
       "                                                  table  \\\n",
       "0     <html><body><table class=\"infobox biography vc...   \n",
       "4     <html><body><table class=\"infobox biography vc...   \n",
       "5     <html><body><table class=\"infobox biography vc...   \n",
       "7     <html><body><table class=\"infobox biography vc...   \n",
       "8     <html><body><table class=\"infobox biography vc...   \n",
       "...                                                 ...   \n",
       "1892  <table class=\"infobox\"><tbody><tr><th class=\"i...   \n",
       "1894  <table class=\"infobox\"><tbody><tr><th class=\"i...   \n",
       "1897  <table class=\"infobox\"><tbody><tr><th class=\"i...   \n",
       "1898  <table class=\"infobox\"><tbody><tr><th class=\"i...   \n",
       "1900  <table class=\"infobox\"><tbody><tr><th class=\"i...   \n",
       "\n",
       "                       predicted_answer    actual_answer  \\\n",
       "0                          47 years old               47   \n",
       "4                              54 years         54 Years   \n",
       "5                              25 years         28 years   \n",
       "7                              23 years               23   \n",
       "8                          19 years ago     19 Years ago   \n",
       "...                                 ...              ...   \n",
       "1892  Approximately 0.254 km per flight          0.25 km   \n",
       "1894     April 3, 2021 to June 11, 2022        14 months   \n",
       "1897                    About 14 months  1 year 2 months   \n",
       "1898             April 7, 2021 (sol 46)           4 days   \n",
       "1900    April 19, 2021 to June 11, 2022         2 months   \n",
       "\n",
       "                                               question  \n",
       "0     How old was Art Carney when he first got divor...  \n",
       "4     How many years did Art Carney as actor since 1...  \n",
       "5     How many total years was Art Carney married to...  \n",
       "7     How many years before he died was Art Carney m...  \n",
       "8           How many years ago did Art Carney was died?  \n",
       "...                                                 ...  \n",
       "1892  Approximately how many km did Ingenuity move p...  \n",
       "1894  How long did Ingenuity take to go from deploym...  \n",
       "1897  How much time since deployment did it take for...  \n",
       "1898  How long after Ingenuity was deployed was the ...  \n",
       "1900  How long was it between the day of Ingenuity's...  \n",
       "\n",
       "[1258 rows x 4 columns]"
      ]
     },
     "execution_count": 49,
     "metadata": {},
     "output_type": "execute_result"
    }
   ],
   "source": [
    "gpt4_df.query(\"predicted_answer != actual_answer\")"
   ]
  },
  {
   "cell_type": "markdown",
   "metadata": {},
   "source": [
    "## Summary"
   ]
  },
  {
   "cell_type": "code",
   "execution_count": 63,
   "metadata": {},
   "outputs": [
    {
     "data": {
      "application/vnd.plotly.v1+json": {
       "config": {
        "plotlyServerURL": "https://plot.ly"
       },
       "data": [
        {
         "link": {
          "source": [
           0,
           0,
           2,
           2,
           3,
           3,
           6,
           6,
           4,
           4
          ],
          "target": [
           1,
           2,
           3,
           4,
           5,
           6,
           7,
           8,
           9,
           10
          ],
          "value": [
           693,
           1208,
           366,
           842,
           241,
           125,
           54,
           71,
           56,
           50
          ]
         },
         "node": {
          "align": "left",
          "color": "blue",
          "label": [
           "Full in-domain dataset",
           "Exact match",
           "Not exact match",
           "Matches on digits only",
           "No match on digits only",
           "\"Year\" in answer",
           "\"Year\" not in answer",
           "Temporal question",
           "Non temporal question",
           "\"Year\" in answer and question",
           "One digit in answer and question"
          ],
          "line": {
           "color": "black",
           "width": 0.5
          },
          "pad": 15,
          "thickness": 20
         },
         "type": "sankey"
        }
       ],
       "layout": {
        "font": {
         "size": 10
        },
        "template": {
         "data": {
          "bar": [
           {
            "error_x": {
             "color": "#2a3f5f"
            },
            "error_y": {
             "color": "#2a3f5f"
            },
            "marker": {
             "line": {
              "color": "#E5ECF6",
              "width": 0.5
             },
             "pattern": {
              "fillmode": "overlay",
              "size": 10,
              "solidity": 0.2
             }
            },
            "type": "bar"
           }
          ],
          "barpolar": [
           {
            "marker": {
             "line": {
              "color": "#E5ECF6",
              "width": 0.5
             },
             "pattern": {
              "fillmode": "overlay",
              "size": 10,
              "solidity": 0.2
             }
            },
            "type": "barpolar"
           }
          ],
          "carpet": [
           {
            "aaxis": {
             "endlinecolor": "#2a3f5f",
             "gridcolor": "white",
             "linecolor": "white",
             "minorgridcolor": "white",
             "startlinecolor": "#2a3f5f"
            },
            "baxis": {
             "endlinecolor": "#2a3f5f",
             "gridcolor": "white",
             "linecolor": "white",
             "minorgridcolor": "white",
             "startlinecolor": "#2a3f5f"
            },
            "type": "carpet"
           }
          ],
          "choropleth": [
           {
            "colorbar": {
             "outlinewidth": 0,
             "ticks": ""
            },
            "type": "choropleth"
           }
          ],
          "contour": [
           {
            "colorbar": {
             "outlinewidth": 0,
             "ticks": ""
            },
            "colorscale": [
             [
              0,
              "#0d0887"
             ],
             [
              0.1111111111111111,
              "#46039f"
             ],
             [
              0.2222222222222222,
              "#7201a8"
             ],
             [
              0.3333333333333333,
              "#9c179e"
             ],
             [
              0.4444444444444444,
              "#bd3786"
             ],
             [
              0.5555555555555556,
              "#d8576b"
             ],
             [
              0.6666666666666666,
              "#ed7953"
             ],
             [
              0.7777777777777778,
              "#fb9f3a"
             ],
             [
              0.8888888888888888,
              "#fdca26"
             ],
             [
              1,
              "#f0f921"
             ]
            ],
            "type": "contour"
           }
          ],
          "contourcarpet": [
           {
            "colorbar": {
             "outlinewidth": 0,
             "ticks": ""
            },
            "type": "contourcarpet"
           }
          ],
          "heatmap": [
           {
            "colorbar": {
             "outlinewidth": 0,
             "ticks": ""
            },
            "colorscale": [
             [
              0,
              "#0d0887"
             ],
             [
              0.1111111111111111,
              "#46039f"
             ],
             [
              0.2222222222222222,
              "#7201a8"
             ],
             [
              0.3333333333333333,
              "#9c179e"
             ],
             [
              0.4444444444444444,
              "#bd3786"
             ],
             [
              0.5555555555555556,
              "#d8576b"
             ],
             [
              0.6666666666666666,
              "#ed7953"
             ],
             [
              0.7777777777777778,
              "#fb9f3a"
             ],
             [
              0.8888888888888888,
              "#fdca26"
             ],
             [
              1,
              "#f0f921"
             ]
            ],
            "type": "heatmap"
           }
          ],
          "histogram": [
           {
            "marker": {
             "pattern": {
              "fillmode": "overlay",
              "size": 10,
              "solidity": 0.2
             }
            },
            "type": "histogram"
           }
          ],
          "histogram2d": [
           {
            "colorbar": {
             "outlinewidth": 0,
             "ticks": ""
            },
            "colorscale": [
             [
              0,
              "#0d0887"
             ],
             [
              0.1111111111111111,
              "#46039f"
             ],
             [
              0.2222222222222222,
              "#7201a8"
             ],
             [
              0.3333333333333333,
              "#9c179e"
             ],
             [
              0.4444444444444444,
              "#bd3786"
             ],
             [
              0.5555555555555556,
              "#d8576b"
             ],
             [
              0.6666666666666666,
              "#ed7953"
             ],
             [
              0.7777777777777778,
              "#fb9f3a"
             ],
             [
              0.8888888888888888,
              "#fdca26"
             ],
             [
              1,
              "#f0f921"
             ]
            ],
            "type": "histogram2d"
           }
          ],
          "histogram2dcontour": [
           {
            "colorbar": {
             "outlinewidth": 0,
             "ticks": ""
            },
            "colorscale": [
             [
              0,
              "#0d0887"
             ],
             [
              0.1111111111111111,
              "#46039f"
             ],
             [
              0.2222222222222222,
              "#7201a8"
             ],
             [
              0.3333333333333333,
              "#9c179e"
             ],
             [
              0.4444444444444444,
              "#bd3786"
             ],
             [
              0.5555555555555556,
              "#d8576b"
             ],
             [
              0.6666666666666666,
              "#ed7953"
             ],
             [
              0.7777777777777778,
              "#fb9f3a"
             ],
             [
              0.8888888888888888,
              "#fdca26"
             ],
             [
              1,
              "#f0f921"
             ]
            ],
            "type": "histogram2dcontour"
           }
          ],
          "mesh3d": [
           {
            "colorbar": {
             "outlinewidth": 0,
             "ticks": ""
            },
            "type": "mesh3d"
           }
          ],
          "parcoords": [
           {
            "line": {
             "colorbar": {
              "outlinewidth": 0,
              "ticks": ""
             }
            },
            "type": "parcoords"
           }
          ],
          "pie": [
           {
            "automargin": true,
            "type": "pie"
           }
          ],
          "scatter": [
           {
            "fillpattern": {
             "fillmode": "overlay",
             "size": 10,
             "solidity": 0.2
            },
            "type": "scatter"
           }
          ],
          "scatter3d": [
           {
            "line": {
             "colorbar": {
              "outlinewidth": 0,
              "ticks": ""
             }
            },
            "marker": {
             "colorbar": {
              "outlinewidth": 0,
              "ticks": ""
             }
            },
            "type": "scatter3d"
           }
          ],
          "scattercarpet": [
           {
            "marker": {
             "colorbar": {
              "outlinewidth": 0,
              "ticks": ""
             }
            },
            "type": "scattercarpet"
           }
          ],
          "scattergeo": [
           {
            "marker": {
             "colorbar": {
              "outlinewidth": 0,
              "ticks": ""
             }
            },
            "type": "scattergeo"
           }
          ],
          "scattergl": [
           {
            "marker": {
             "colorbar": {
              "outlinewidth": 0,
              "ticks": ""
             }
            },
            "type": "scattergl"
           }
          ],
          "scattermap": [
           {
            "marker": {
             "colorbar": {
              "outlinewidth": 0,
              "ticks": ""
             }
            },
            "type": "scattermap"
           }
          ],
          "scattermapbox": [
           {
            "marker": {
             "colorbar": {
              "outlinewidth": 0,
              "ticks": ""
             }
            },
            "type": "scattermapbox"
           }
          ],
          "scatterpolar": [
           {
            "marker": {
             "colorbar": {
              "outlinewidth": 0,
              "ticks": ""
             }
            },
            "type": "scatterpolar"
           }
          ],
          "scatterpolargl": [
           {
            "marker": {
             "colorbar": {
              "outlinewidth": 0,
              "ticks": ""
             }
            },
            "type": "scatterpolargl"
           }
          ],
          "scatterternary": [
           {
            "marker": {
             "colorbar": {
              "outlinewidth": 0,
              "ticks": ""
             }
            },
            "type": "scatterternary"
           }
          ],
          "surface": [
           {
            "colorbar": {
             "outlinewidth": 0,
             "ticks": ""
            },
            "colorscale": [
             [
              0,
              "#0d0887"
             ],
             [
              0.1111111111111111,
              "#46039f"
             ],
             [
              0.2222222222222222,
              "#7201a8"
             ],
             [
              0.3333333333333333,
              "#9c179e"
             ],
             [
              0.4444444444444444,
              "#bd3786"
             ],
             [
              0.5555555555555556,
              "#d8576b"
             ],
             [
              0.6666666666666666,
              "#ed7953"
             ],
             [
              0.7777777777777778,
              "#fb9f3a"
             ],
             [
              0.8888888888888888,
              "#fdca26"
             ],
             [
              1,
              "#f0f921"
             ]
            ],
            "type": "surface"
           }
          ],
          "table": [
           {
            "cells": {
             "fill": {
              "color": "#EBF0F8"
             },
             "line": {
              "color": "white"
             }
            },
            "header": {
             "fill": {
              "color": "#C8D4E3"
             },
             "line": {
              "color": "white"
             }
            },
            "type": "table"
           }
          ]
         },
         "layout": {
          "annotationdefaults": {
           "arrowcolor": "#2a3f5f",
           "arrowhead": 0,
           "arrowwidth": 1
          },
          "autotypenumbers": "strict",
          "coloraxis": {
           "colorbar": {
            "outlinewidth": 0,
            "ticks": ""
           }
          },
          "colorscale": {
           "diverging": [
            [
             0,
             "#8e0152"
            ],
            [
             0.1,
             "#c51b7d"
            ],
            [
             0.2,
             "#de77ae"
            ],
            [
             0.3,
             "#f1b6da"
            ],
            [
             0.4,
             "#fde0ef"
            ],
            [
             0.5,
             "#f7f7f7"
            ],
            [
             0.6,
             "#e6f5d0"
            ],
            [
             0.7,
             "#b8e186"
            ],
            [
             0.8,
             "#7fbc41"
            ],
            [
             0.9,
             "#4d9221"
            ],
            [
             1,
             "#276419"
            ]
           ],
           "sequential": [
            [
             0,
             "#0d0887"
            ],
            [
             0.1111111111111111,
             "#46039f"
            ],
            [
             0.2222222222222222,
             "#7201a8"
            ],
            [
             0.3333333333333333,
             "#9c179e"
            ],
            [
             0.4444444444444444,
             "#bd3786"
            ],
            [
             0.5555555555555556,
             "#d8576b"
            ],
            [
             0.6666666666666666,
             "#ed7953"
            ],
            [
             0.7777777777777778,
             "#fb9f3a"
            ],
            [
             0.8888888888888888,
             "#fdca26"
            ],
            [
             1,
             "#f0f921"
            ]
           ],
           "sequentialminus": [
            [
             0,
             "#0d0887"
            ],
            [
             0.1111111111111111,
             "#46039f"
            ],
            [
             0.2222222222222222,
             "#7201a8"
            ],
            [
             0.3333333333333333,
             "#9c179e"
            ],
            [
             0.4444444444444444,
             "#bd3786"
            ],
            [
             0.5555555555555556,
             "#d8576b"
            ],
            [
             0.6666666666666666,
             "#ed7953"
            ],
            [
             0.7777777777777778,
             "#fb9f3a"
            ],
            [
             0.8888888888888888,
             "#fdca26"
            ],
            [
             1,
             "#f0f921"
            ]
           ]
          },
          "colorway": [
           "#636efa",
           "#EF553B",
           "#00cc96",
           "#ab63fa",
           "#FFA15A",
           "#19d3f3",
           "#FF6692",
           "#B6E880",
           "#FF97FF",
           "#FECB52"
          ],
          "font": {
           "color": "#2a3f5f"
          },
          "geo": {
           "bgcolor": "white",
           "lakecolor": "white",
           "landcolor": "#E5ECF6",
           "showlakes": true,
           "showland": true,
           "subunitcolor": "white"
          },
          "hoverlabel": {
           "align": "left"
          },
          "hovermode": "closest",
          "mapbox": {
           "style": "light"
          },
          "paper_bgcolor": "white",
          "plot_bgcolor": "#E5ECF6",
          "polar": {
           "angularaxis": {
            "gridcolor": "white",
            "linecolor": "white",
            "ticks": ""
           },
           "bgcolor": "#E5ECF6",
           "radialaxis": {
            "gridcolor": "white",
            "linecolor": "white",
            "ticks": ""
           }
          },
          "scene": {
           "xaxis": {
            "backgroundcolor": "#E5ECF6",
            "gridcolor": "white",
            "gridwidth": 2,
            "linecolor": "white",
            "showbackground": true,
            "ticks": "",
            "zerolinecolor": "white"
           },
           "yaxis": {
            "backgroundcolor": "#E5ECF6",
            "gridcolor": "white",
            "gridwidth": 2,
            "linecolor": "white",
            "showbackground": true,
            "ticks": "",
            "zerolinecolor": "white"
           },
           "zaxis": {
            "backgroundcolor": "#E5ECF6",
            "gridcolor": "white",
            "gridwidth": 2,
            "linecolor": "white",
            "showbackground": true,
            "ticks": "",
            "zerolinecolor": "white"
           }
          },
          "shapedefaults": {
           "line": {
            "color": "#2a3f5f"
           }
          },
          "ternary": {
           "aaxis": {
            "gridcolor": "white",
            "linecolor": "white",
            "ticks": ""
           },
           "baxis": {
            "gridcolor": "white",
            "linecolor": "white",
            "ticks": ""
           },
           "bgcolor": "#E5ECF6",
           "caxis": {
            "gridcolor": "white",
            "linecolor": "white",
            "ticks": ""
           }
          },
          "title": {
           "x": 0.05
          },
          "xaxis": {
           "automargin": true,
           "gridcolor": "white",
           "linecolor": "white",
           "ticks": "",
           "title": {
            "standoff": 15
           },
           "zerolinecolor": "white",
           "zerolinewidth": 2
          },
          "yaxis": {
           "automargin": true,
           "gridcolor": "white",
           "linecolor": "white",
           "ticks": "",
           "title": {
            "standoff": 15
           },
           "zerolinecolor": "white",
           "zerolinewidth": 2
          }
         }
        },
        "title": {
         "text": "Basic Sankey Diagram"
        },
        "width": 1200
       }
      }
     },
     "metadata": {},
     "output_type": "display_data"
    }
   ],
   "source": [
    "fig = go.Figure(\n",
    "    data=[\n",
    "        go.Sankey(\n",
    "            node=dict(\n",
    "                label=[\n",
    "                    \"Full in-domain dataset\", # 0\n",
    "                    \"Exact match\", # 1\n",
    "                    \"Not exact match\", # 2\n",
    "                    \"Matches on digits only\", # 3\n",
    "                    \"No match on digits only\", # 4\n",
    "                    '\"Year\" in answer', # 5\n",
    "                    '\"Year\" not in answer', # 6 \n",
    "                    \"Temporal question\",# 7\n",
    "                    \"Non temporal question\", # 8\n",
    "                    '\"Year\" in answer and question', # 9,\n",
    "                    \"One digit in answer and question\" # 10\n",
    "                ],\n",
    "                align=\"left\",\n",
    "                color=\"blue\",\n",
    "                pad=15,\n",
    "                thickness=20,\n",
    "                line=dict(color=\"black\", width=0.5),\n",
    "            ),\n",
    "            link=dict(\n",
    "                source=[\n",
    "                    0,\n",
    "                    0,\n",
    "                    2,\n",
    "                    2,\n",
    "                    3,\n",
    "                    3,\n",
    "                    6,\n",
    "                    6,\n",
    "                    4,\n",
    "                    4\n",
    "                ],  # indices correspond to labels, eg A1, A2, A1, B1, ...\n",
    "                target=[1, 2, 3, 4, 5, 6, 7, 8, 9, 10],\n",
    "                value=[693, 1208, 366, 842, 241, 125, 54, 71, 56, 50],\n",
    "            ),\n",
    "        )\n",
    "    ]\n",
    ")\n",
    "\n",
    "fig.update_layout(title_text=\"Basic Sankey Diagram\", font_size=10, width=1200)\n",
    "fig.show()"
   ]
  },
  {
   "cell_type": "code",
   "execution_count": null,
   "metadata": {},
   "outputs": [],
   "source": []
  }
 ],
 "metadata": {
  "kernelspec": {
   "display_name": ".venv",
   "language": "python",
   "name": "python3"
  },
  "language_info": {
   "codemirror_mode": {
    "name": "ipython",
    "version": 3
   },
   "file_extension": ".py",
   "mimetype": "text/x-python",
   "name": "python",
   "nbconvert_exporter": "python",
   "pygments_lexer": "ipython3",
   "version": "3.10.16"
  }
 },
 "nbformat": 4,
 "nbformat_minor": 2
}
